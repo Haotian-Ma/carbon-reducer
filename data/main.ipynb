{
 "cells": [
  {
   "cell_type": "code",
   "execution_count": 1,
   "metadata": {},
   "outputs": [],
   "source": [
    "# Import library\n",
    "import pandas as pd\n",
    "import plotly.graph_objects as go\n",
    "from scipy.stats import gaussian_kde\n",
    "import numpy as np\n",
    "import psycopg2"
   ]
  },
  {
   "cell_type": "markdown",
   "metadata": {},
   "source": [
    "### Loading data"
   ]
  },
  {
   "cell_type": "code",
   "execution_count": 2,
   "metadata": {},
   "outputs": [],
   "source": [
    "def loading_data_from_db(database_name):\n",
    "    # Database connection parameters\n",
    "    host = \"34.129.179.229\"\n",
    "    database = \"project\"\n",
    "    user = \"postgres\"\n",
    "    password = \"Iti<FVBpR:05tTOU\"\n",
    "    port = \"5432\"\n",
    "\n",
    "    # SQL query to fetch data\n",
    "    query = f\"SELECT * FROM {database_name}\"\n",
    "\n",
    "    # Connect to PostgreSQL and fetch data\n",
    "    try:\n",
    "        # Establish the connection\n",
    "        conn = psycopg2.connect(\n",
    "            host=host,\n",
    "            database=database,\n",
    "            user=user,\n",
    "            password=password,\n",
    "            port=port\n",
    "        )\n",
    "        # Load data into a DataFrame\n",
    "        df = pd.read_sql_query(query, conn)\n",
    "        \n",
    "        # Close the connection\n",
    "        conn.close()\n",
    "\n",
    "        print(f\"{database_name} downloaded successfully!\")\n",
    "        return df\n",
    "\n",
    "    except Exception as e:\n",
    "        print(f\"An error occurred: {e}\")"
   ]
  },
  {
   "cell_type": "code",
   "execution_count": 3,
   "metadata": {},
   "outputs": [
    {
     "name": "stderr",
     "output_type": "stream",
     "text": [
      "/var/folders/8v/_f0s3ppn27g2ss5m_lvb311m0000gn/T/ipykernel_39021/1946496499.py:23: UserWarning: pandas only supports SQLAlchemy connectable (engine/connection) or database string URI or sqlite3 DBAPI2 connection. Other DBAPI2 objects are not tested. Please consider using SQLAlchemy.\n",
      "  df = pd.read_sql_query(query, conn)\n"
     ]
    },
    {
     "name": "stdout",
     "output_type": "stream",
     "text": [
      "heat_data downloaded successfully!\n",
      "global_climate_data downloaded successfully!\n",
      "forest_trend downloaded successfully!\n",
      "world_temp_data downloaded successfully!\n"
     ]
    }
   ],
   "source": [
    "heat_data = loading_data_from_db(\"heat_data\")\n",
    "global_climate = loading_data_from_db(\"global_climate_data\")\n",
    "forest_trend = loading_data_from_db(\"forest_trend\")\n",
    "world_temp_data = loading_data_from_db(\"world_temp_data\")"
   ]
  },
  {
   "cell_type": "markdown",
   "metadata": {},
   "source": [
    "-----"
   ]
  },
  {
   "cell_type": "markdown",
   "metadata": {},
   "source": [
    "### Global Climate"
   ]
  },
  {
   "cell_type": "code",
   "execution_count": 4,
   "metadata": {},
   "outputs": [
    {
     "data": {
      "application/vnd.microsoft.datawrangler.viewer.v0+json": {
       "columns": [
        {
         "name": "index",
         "rawType": "int64",
         "type": "integer"
        },
        {
         "name": "year",
         "rawType": "int64",
         "type": "integer"
        },
        {
         "name": "avg_temp",
         "rawType": "float64",
         "type": "float"
        },
        {
         "name": "lower_bound",
         "rawType": "float64",
         "type": "float"
        },
        {
         "name": "upper_bound",
         "rawType": "float64",
         "type": "float"
        },
        {
         "name": "co2",
         "rawType": "float64",
         "type": "float"
        },
        {
         "name": "methane",
         "rawType": "float64",
         "type": "float"
        },
        {
         "name": "ghg_emission",
         "rawType": "float64",
         "type": "float"
        }
       ],
       "conversionMethod": "pd.DataFrame",
       "ref": "7e1a2108-e800-48c3-9016-981ca4fc4fa7",
       "rows": [
        [
         "0",
         "1850",
         "-0.05541366",
         "-0.22695872",
         "0.11613145",
         "196847600.0",
         "1239410200.0",
         "4219061200.0"
        ],
        [
         "1",
         "1851",
         "0.12894794",
         "-0.04957017",
         "0.30746606",
         "198778540.0",
         "1244053400.0",
         "4409311000.0"
        ],
        [
         "2",
         "1852",
         "0.13289867",
         "-0.047084685",
         "0.31288204",
         "207595090.0",
         "1250690000.0",
         "4465078300.0"
        ],
        [
         "3",
         "1853",
         "0.0919433",
         "-0.067711584",
         "0.2515982",
         "217236980.0",
         "1258188000.0",
         "4532813300.0"
        ],
        [
         "4",
         "1854",
         "0.07077692",
         "-0.07041376",
         "0.21196756",
         "255038560.0",
         "1270683500.0",
         "4594583600.0"
        ]
       ],
       "shape": {
        "columns": 7,
        "rows": 5
       }
      },
      "text/html": [
       "<div>\n",
       "<style scoped>\n",
       "    .dataframe tbody tr th:only-of-type {\n",
       "        vertical-align: middle;\n",
       "    }\n",
       "\n",
       "    .dataframe tbody tr th {\n",
       "        vertical-align: top;\n",
       "    }\n",
       "\n",
       "    .dataframe thead th {\n",
       "        text-align: right;\n",
       "    }\n",
       "</style>\n",
       "<table border=\"1\" class=\"dataframe\">\n",
       "  <thead>\n",
       "    <tr style=\"text-align: right;\">\n",
       "      <th></th>\n",
       "      <th>year</th>\n",
       "      <th>avg_temp</th>\n",
       "      <th>lower_bound</th>\n",
       "      <th>upper_bound</th>\n",
       "      <th>co2</th>\n",
       "      <th>methane</th>\n",
       "      <th>ghg_emission</th>\n",
       "    </tr>\n",
       "  </thead>\n",
       "  <tbody>\n",
       "    <tr>\n",
       "      <th>0</th>\n",
       "      <td>1850</td>\n",
       "      <td>-0.055414</td>\n",
       "      <td>-0.226959</td>\n",
       "      <td>0.116131</td>\n",
       "      <td>196847600.0</td>\n",
       "      <td>1.239410e+09</td>\n",
       "      <td>4.219061e+09</td>\n",
       "    </tr>\n",
       "    <tr>\n",
       "      <th>1</th>\n",
       "      <td>1851</td>\n",
       "      <td>0.128948</td>\n",
       "      <td>-0.049570</td>\n",
       "      <td>0.307466</td>\n",
       "      <td>198778540.0</td>\n",
       "      <td>1.244053e+09</td>\n",
       "      <td>4.409311e+09</td>\n",
       "    </tr>\n",
       "    <tr>\n",
       "      <th>2</th>\n",
       "      <td>1852</td>\n",
       "      <td>0.132899</td>\n",
       "      <td>-0.047085</td>\n",
       "      <td>0.312882</td>\n",
       "      <td>207595090.0</td>\n",
       "      <td>1.250690e+09</td>\n",
       "      <td>4.465078e+09</td>\n",
       "    </tr>\n",
       "    <tr>\n",
       "      <th>3</th>\n",
       "      <td>1853</td>\n",
       "      <td>0.091943</td>\n",
       "      <td>-0.067712</td>\n",
       "      <td>0.251598</td>\n",
       "      <td>217236980.0</td>\n",
       "      <td>1.258188e+09</td>\n",
       "      <td>4.532813e+09</td>\n",
       "    </tr>\n",
       "    <tr>\n",
       "      <th>4</th>\n",
       "      <td>1854</td>\n",
       "      <td>0.070777</td>\n",
       "      <td>-0.070414</td>\n",
       "      <td>0.211968</td>\n",
       "      <td>255038560.0</td>\n",
       "      <td>1.270684e+09</td>\n",
       "      <td>4.594584e+09</td>\n",
       "    </tr>\n",
       "  </tbody>\n",
       "</table>\n",
       "</div>"
      ],
      "text/plain": [
       "   year  avg_temp  lower_bound  upper_bound          co2       methane  \\\n",
       "0  1850 -0.055414    -0.226959     0.116131  196847600.0  1.239410e+09   \n",
       "1  1851  0.128948    -0.049570     0.307466  198778540.0  1.244053e+09   \n",
       "2  1852  0.132899    -0.047085     0.312882  207595090.0  1.250690e+09   \n",
       "3  1853  0.091943    -0.067712     0.251598  217236980.0  1.258188e+09   \n",
       "4  1854  0.070777    -0.070414     0.211968  255038560.0  1.270684e+09   \n",
       "\n",
       "   ghg_emission  \n",
       "0  4.219061e+09  \n",
       "1  4.409311e+09  \n",
       "2  4.465078e+09  \n",
       "3  4.532813e+09  \n",
       "4  4.594584e+09  "
      ]
     },
     "execution_count": 4,
     "metadata": {},
     "output_type": "execute_result"
    }
   ],
   "source": [
    "global_climate.head()"
   ]
  },
  {
   "cell_type": "code",
   "execution_count": 5,
   "metadata": {},
   "outputs": [
    {
     "name": "stdout",
     "output_type": "stream",
     "text": [
      "<class 'pandas.core.frame.DataFrame'>\n",
      "RangeIndex: 176 entries, 0 to 175\n",
      "Data columns (total 4 columns):\n",
      " #   Column       Non-Null Count  Dtype  \n",
      "---  ------       --------------  -----  \n",
      " 0   year         176 non-null    int64  \n",
      " 1   avg_temp     176 non-null    float64\n",
      " 2   lower_bound  176 non-null    float64\n",
      " 3   upper_bound  176 non-null    float64\n",
      "dtypes: float64(3), int64(1)\n",
      "memory usage: 5.6 KB\n"
     ]
    }
   ],
   "source": [
    "world_temp_data.info()"
   ]
  },
  {
   "cell_type": "code",
   "execution_count": 6,
   "metadata": {},
   "outputs": [
    {
     "data": {
      "application/vnd.plotly.v1+json": {
       "config": {
        "plotlyServerURL": "https://plot.ly"
       },
       "data": [
        {
         "line": {
          "width": 0
         },
         "mode": "lines",
         "name": "Upper Bound",
         "showlegend": false,
         "type": "scatter",
         "x": {
          "bdata": "Ogc7BzwHPQc+Bz8HQAdBB0IHQwdEB0UHRgdHB0gHSQdKB0sHTAdNB04HTwdQB1EHUgdTB1QHVQdWB1cHWAdZB1oHWwdcB10HXgdfB2AHYQdiB2MHZAdlB2YHZwdoB2kHagdrB2wHbQduB28HcAdxB3IHcwd0B3UHdgd3B3gHeQd6B3sHfAd9B34HfweAB4EHggeDB4QHhQeGB4cHiAeJB4oHiweMB40HjgePB5AHkQeSB5MHlAeVB5YHlweYB5kHmgebB5wHnQeeB58HoAehB6IHowekB6UHpgenB6gHqQeqB6sHrAetB64HrwewB7EHsgezB7QHtQe2B7cHuAe5B7oHuwe8B70Hvge/B8AHwQfCB8MHxAfFB8YHxwfIB8kHygfLB8wHzQfOB88H0AfRB9IH0wfUB9UH1gfXB9gH2QfaB9sH3AfdB94H3wfgB+EH4gfjB+QH5QfmB+cH6AfpBw==",
          "dtype": "i2"
         },
         "y": {
          "bdata": "tnzJa8q6vT9KHhUghq3TP6KRU2RCBtQ/vuAuVi8a0D9KpwHFwCHLPx4X1SKimMo/Zdtx3IxHyD9EnvQjHZymP7Y0VBidJL8/0V+m9dChzD+UvaWcL/a+Px23byDq37k/LEEWB2/Ge7+pyPhitZrKPw5oKyeIV7Q/QizV5K1jzD/Ho697hsvJP7/EDhlFxck/Yg1642IUyD8rs3NgWlDKP+F1JgIPa8Y/T/6TZMLUwT/bxvph36nFPxCjtdx4e8M/rYApoNx4vz8yq9ri2ALAP6OMGyvvsrM/nUGNjB/02D/GHamd5SLeP+oUWL42NMg/KqGBeUTcxT/lTG5vEl7QPz6JOjlkf8g/aCb3v0ypwD9ZsY2yXSWUv+XPYQWSjGk/3YoEINwHpj+B/CjHvSmTv7YImR8QzLg/UtzIp40Lzj/I5k/AG3eTv/5zoKB317g/2uSpdJtjgb/o6IACuc1yPwL5AEd805Q/RWNQGij4pz9zdlu3exjLP6jUVx1a4M4/BB8WeXgggT9e88vcU6TBP3xyPZ87oNA/0t1cmUMUyj9GTtMl64mtP4fG1t2Dqqe/n9Zl37KWu79T93WegL+zPz4efif7ocU/+HTLxxuEmr8iDZfqPAmiv8WkZN5PsrC/FgHZ4Wusq78CEqhZ+5awv+185HvraIW/FTbZAFmBdj/xmXDYS43KP+NgJdUtcdI/TW3jLkZNsT/N1LncP5qnv79+qRv/cLQ/Ist6GPdyxj9jWmEbbSzJP7cgAN08es8/D9UxOmIlwT9P0ewVcZXDPwJfNNiSXcQ/bJ4bgRWzyD/IAi7hM0bWP2BR1/sJPs4/SmHe40wT0T8RsiQnsIy0P0v2W31tJNM/0lYlkX2Q1z8DQBU3brHUP2/HacLVhcI/JH1aRX9o0j98OqrcPDzQPwOo8/KFWtI/ckPfH+dk3D/j2/0iT6/cP8g8dkCnWts/X8plSLrL4T/IMrOF1jnjPycGNwgp7uE/4j0HliNk4j9LY6wdYo/mP49cUEJdYuM/j75RROn/2D8v/OB86ljaP7Tc45ag0Nc/7014rpQK1T9KYb3VY/DOPwQyAeBU+9g//J+q39h13j9uVwEhBjjhP2SMct1SltU/AZg64Ygi0D86NX5+a2nGP/fgOYS/Gdk/Fqr2RDI/2j/glW5cEBvYP9KWKZyTjdM/dmge4TAo2T/ttUU+VH/WP2RTUze8Rdg/reR8FCKeuT//sc4AMIHKP78WT5iL09A//oOjP49s0j9zTWC+5X/OPxaYwkFKxdc/UKzwusBd1D9mgkSHfvXIP2eSot8InNM/bOY1G9C33D9vncHXvh3NP0IQ1rWssdI/HgWhH7rexz//OAYJ9kTgP6LMq9/xEto/bUa8K3HT3j+TbBqAsu7iP9n0dyHjkuQ/K/5KQn3m2z9R8tF/YubjP7cXJL92l9w/ArJ8As2M3D9ZraexGFDfP8+Du7N2W+Q//0F//AC/5T+sBOZ8DHHiP6djhKbbSOg/upaYgMKN5z+q3zsgv63gP+M6Ic+JGOI/Pv0tIgYx5D8nq9hOSrfoPzaVRWEXheU/OkFZAGwj6j9jZ2VWSirvP/Uwch5n/eY/+7B7flo95z/RY+8g0T/sP5csF79j9+0/Yk7QJocP7j8/WvfqPpvrPxrdQexMAfA/LO27v83k7j/uF/2yxX/vPzsUqkDSjOs/QraHGAqz7z/Q/CCB9S7xP2SS9N1r0O0/O6LnuwAg7z/E+vX53lXwP1mRh3QuG/E/+GI5UzKK8z9Es/wK4zj1P01oklhSzvM/sBXZcz6B8j8cLijCPJr0Pz/gJkgRHvU/FBBJ4waS8j997IkJxTHzPyAY9mo2Bfg/cZzKWCNR+T/XmYx0UBP+Pw==",
          "dtype": "f8"
         }
        },
        {
         "fill": "tonexty",
         "fillcolor": "rgba(68, 68, 68, 0.3)",
         "line": {
          "width": 0
         },
         "mode": "lines",
         "name": "Lower Bound",
         "showlegend": false,
         "type": "scatter",
         "x": {
          "bdata": "Ogc7BzwHPQc+Bz8HQAdBB0IHQwdEB0UHRgdHB0gHSQdKB0sHTAdNB04HTwdQB1EHUgdTB1QHVQdWB1cHWAdZB1oHWwdcB10HXgdfB2AHYQdiB2MHZAdlB2YHZwdoB2kHagdrB2wHbQduB28HcAdxB3IHcwd0B3UHdgd3B3gHeQd6B3sHfAd9B34HfweAB4EHggeDB4QHhQeGB4cHiAeJB4oHiweMB40HjgePB5AHkQeSB5MHlAeVB5YHlweYB5kHmgebB5wHnQeeB58HoAehB6IHowekB6UHpgenB6gHqQeqB6sHrAetB64HrwewB7EHsgezB7QHtQe2B7cHuAe5B7oHuwe8B70Hvge/B8AHwQfCB8MHxAfFB8YHxwfIB8kHygfLB8wHzQfOB88H0AfRB9IH0wfUB9UH1gfXB9gH2QfaB9sH3AfdB94H3wfgB+EH4gfjB+QH5QfmB+cH6AfpBw==",
          "dtype": "i2"
         },
         "y": {
          "bdata": "JpT4u/sMzb+EqgPmQmGpvyZXb9x7G6i/oSHX3otVsb+5bWPcogayv9u5el+mt7O/Bng9XmkVu795QxKk70HQv4PSYc/oWMa/LQs64g+Nr7+CqUXIaZ3Gv2cGdbrBCs6/k8xF1+DY1b+P3rI7i/vFv7xutl54StK/p8DytaHBxL9e1Xo7mWrEv1iUjkmxaci/NQ1Iyi9mxb8SBlTu9Dm9vx0u614kPbu/dJEpvFdvw78BKbncw9K5v9CW92FSNry/HctYwEaKwr+CUYu5UmzDv27XMrZjrMm/SS/mvgf1wD/+y97nMpTNP7sQ5epLX7K/1izcYS/us7/ImAYAsd5xP0Ft2uDSnq2/OstNUJo4ub9pJFvAeMTOv4YrVsM0Qsy/o/ilPMKCxL+BvoCg1EXQv9sp4wB2xcC/EKy8eptShL8EiprggknRvx/u0bjDaMa/7L2d6coM0r+cc+jbHzvRvxBq0OFr2dC/5lTXRuEfzL80VTfkjTasv9VqoN1HjKK/jx2vm61X0L9GlYLq9sS/v5MIVwDPFnG/xgJ4bk7jsL/BgfvHYwLLv8dWhieq7dK/8ajnk8s1179WdDXDV4XFv3aw9l4ZJ7W/WvW52op90L/zQ52g6iPRv7hWe9gLBdK/XbF1X4Qf0r9cGiIbBnvSv3rClkfMpsu/tP47R4mCy7/BEGL8bpl/v2esRysIL6s/uNmKw7ptx785D4LpDyjUv67rvDIUHMq/Jb/y3iDzub83vMVowpuxvxzFHgP+HGK/nzraYeFetr+K1dXT/VKwv41zgtMOwa2/Jn7t4vu3oL9M22T5X9PAP7rb/0SI0p4/ZV3PHAH4pj94y1nI8f3Bv//oeiYkZ7I/kldKQ0smwz/ur4EhaT+8PwaVfuPnlrC/UodwJ2yatj9g1MAfFhuuP8QnGRCMSbk/P+gTWIQLzz9DcjJxqyDQP6ZYf5WNmMs/hJeFG5WA1D837M5FCZvJP0FWhUANY8U/gSI3P9XTxD/62cAEC7PTP29RfyDtPco/VPaGkC2quD+Itb5pdrTAP0RNNhb7aLo/cEpQLlO0uz/V18BEJlqeP6Ykb6kYIcs/hzYAGxDh0T9/H8SEh9/VP3AFmCKOr8M/fBqDkCTvsz91Ndc7bLqXP3M76p4rwNA/Y97b28re0T98linerx/QP2w2wf2hFcg/1rWssTqo0j8K0aWoyFvPPy6suMTTY9E/YbkQcZQ4ij/nqz8d6tK7P3m7seJM+sQ/R2bk4l7PyT/HKxA9KRPDP3uVKaQEltI/TY0riUc9zj8Htdoh0Cm+P9FcZXXEhM0/4sZvAroM2D9GKBE8GXfDPwcFxnbOAcs/NAmpnnY/uz8Z7Qrg2gfbP/nNUB4O+dQ//UGP3pEt2z88XpIUos3gP5ks7j8yneI/7sQ4wS/c1j8wlSMJZ5zhPwXmGeL17Nc/5gpKLIQw2D9A+FCiJU/bPxokM80qYuI/J4PlAKh/4z8flheqrDfgP9dqzV7P+uU/k+qWeJtS5T8HwTYk5gDdP8Wu7e2WZN8/dI3gkFfx4T8ldNngK5fmP82U1t8SYOM/YkPcQZET6D9nKgZAw/jsP+Wp3H7Y9uQ/A3dFlQYj5T/250docEDqP2/dB/+mAOw/JIM3/wr06z/6A4r9Cn7pPwLvR/4eBO4/nx78QMnv7D+PeA1VjI7tP6c6ia1FcOk/V9ZPYoSu7T/FmoAVli7wPyLWLOEayes/N/xuumUH7T8Ib7SIzWzuPwS5egTtBPA/bJrSVRV18j++R6I8mDn0P9pVSPlJ1fI/BmkhXFx+8T/htOBFX4HzP0M92L1wAvQ/JcLQNHJn8T/n2faHdwryP34QEx5+yPY/Okg+ZesP+D+cUfNV8vH1Pw==",
          "dtype": "f8"
         }
        },
        {
         "line": {
          "color": "red"
         },
         "mode": "lines",
         "name": "World Average Temperature",
         "type": "scatter",
         "x": {
          "bdata": "Ogc7BzwHPQc+Bz8HQAdBB0IHQwdEB0UHRgdHB0gHSQdKB0sHTAdNB04HTwdQB1EHUgdTB1QHVQdWB1cHWAdZB1oHWwdcB10HXgdfB2AHYQdiB2MHZAdlB2YHZwdoB2kHagdrB2wHbQduB28HcAdxB3IHcwd0B3UHdgd3B3gHeQd6B3sHfAd9B34HfweAB4EHggeDB4QHhQeGB4cHiAeJB4oHiweMB40HjgePB5AHkQeSB5MHlAeVB5YHlweYB5kHmgebB5wHnQeeB58HoAehB6IHowekB6UHpgenB6gHqQeqB6sHrAetB64HrwewB7EHsgezB7QHtQe2B7cHuAe5B7oHuwe8B70Hvge/B8AHwQfCB8MHxAfFB8YHxwfIB8kHygfLB8wHzQfOB88H0AfRB9IH0wfUB9UH1gfXB9gH2QfaB9sH3AfdB94H3wfgB+EH4gfjB+QH5QfmB+cH6AfpBw==",
          "dtype": "i2"
         },
         "y": {
          "bdata": "bEDn4i1frL+J4Ze4XYHAP5R7qtjSAsE/3BiWmpiJtz/2K7asbx6yP2afxyjPvLA/HZI5GrB5pT+SR8vc19y6v7JXq7hpGpu/X7ACGY2+tD8RE2/FR4mcvw4Q7d/MGrG/2QR7wPpHxr8sxmg5qnySP8x8amksabq/RsCsRjKInj/eGz5HtoOVP9nQzf5AuXU/M5yii5xxhT/Nm3kowGanP2Ne8Rv5mKE/LKgMAVepeb96gi8S+4ChPzkRPD8+gZU/T0rycMNuhr9mwa2Dz0uLv6/mY+vXpa+/dwHlpVG30D8q3m2Df3bWP2ZypBIiCa4/qIDFK1rKpz+OCtYXjaXAP8SCFJ+vF7E/WuvkPP4zkD+7NBNGkqTAv+3QVV8C3Lu/MP+L4ZYBrr/GDxl/cHjBvwGWWsS3fZG/u3wM0mPGvD81ppLH9IDCvyh0MeIP+qO/3ee+veeXwr/EQ5QG6e/Av1qIq1ZoGL+/jABd6tYhtr9QDD0g2Aq0P3x1fh9IPbo/5/xW41Odv78vGKH+iB18PxbFBmbgW8A/FYmNopyisT9NHw3p6J+zv/38lLb64sW/KFcEQXgbzr9fbqnjLkunv8QsRB/dHKY/LKs8w8wlwr+XJfA9EmXDv0+NPLWfMca/mMWCyhGVxb8YAZnGxKDGv/WzHt9a/by/AUPBUn7Our+gbj2WgJC5P29WjtoO18U/yvLv3y6Orb84V0HKVxvHvy0RvOIox6+/YTbEIs3yoj/uKGsnjF6wPygWFuHIMb8/0PZuR8bXlz9QrxAt5NemP25sSySe2qk/s1a8qhaFtD9ucODd46/OP0I7TKAtDME/SuOC+Uzywz9ycKLDZ96ev8aSB1w2vsc/vggipNGR0D9wczKKSMHLP4qgeyDDdKQ/+J42TxoPyD/Msmmdn//DP2W5tgHprMg/gf9Sq1T11T+iX1s//WfWP9WQPAB3k9Q/h6NQuwQM3D87+068mKDZPygjFWPsRtc/HfmsABmZ1z+VL8PaczTgP+swcIrY8dk/srS2nXQqzz/q8pzjklnRPyPh90bfas4/VntcRKn3yz8uuJNG1F3BP50pGaXwRdM/a5ZwjXQr2D91AwXeySfcP6vHAeQZbs8/L5ee+lEexT+5M1UouWC5PwvjdoH17NQ/Zm+EoP4O1j/neaoiYB3UP3n5xqVkmM8/tceovjXo1T+A6+1DnBbTP4JjZAPI1NQ/JlV4IzXlrD/5Q7eHUjXEP12DIR+yUMs/BEaPxj5Uzz8OBHWIh8nIP/JBEYOnLdU/eznDPzK+0T/+qadFMwXEP0ovpKI1L9E/Ng8WBEVi2j/bYukJbErIPxzt+v1JGdA/cXpyqDq/wj/xvDNe48jdP9yFQfT/hdc/NcQlhYEA3T+1XsJXKt7hP06mwLgKmOM/1H1jfFZh2T9P/L25ZMHiP/xvJTs2Qto/ks/pgahe2j8U750kn0/dP/RTd8DQXuM/vY3NjlSf5D8AwFauXFThPxa8jXLVIec/GIhUBy9w5j8EFTwiMi7fP2qlrZ1q5eA/7tqU4S4R4z81SBwNO6fnP7QbIhOVcuQ/v4nXq34b6T90AXnAhhHuP66sfrYf+uU/jswjfzAw5j+WrC+3IEDrP3RMzGkF/Ow/KPYr+MgB7T87IMfepIzqPyoNqWBcA+8/CdSsfUvq7T/ZOt0eKYfuP3GnGfeLfuo/vo0oSMew7j9lvijmxa7wP2aC4VzDzOw/OU8rO7MT7j9HMlC+RYzvP3we7ckNkPA/sv6F1KP/8j+Bfc+jPbn0PxRf7SjOUfM/qThpdc3/8T9/cQQEzg30P3SVk/VAkPQ/auJ4mbz88T8yY8BIHp7yP0+UhETaZvc/o2twbIew+D+59T9loQL6Pw==",
          "dtype": "f8"
         }
        }
       ],
       "layout": {
        "hovermode": "x unified",
        "legend": {
         "title": {
          "text": "Legend"
         }
        },
        "template": {
         "data": {
          "bar": [
           {
            "error_x": {
             "color": "#2a3f5f"
            },
            "error_y": {
             "color": "#2a3f5f"
            },
            "marker": {
             "line": {
              "color": "white",
              "width": 0.5
             },
             "pattern": {
              "fillmode": "overlay",
              "size": 10,
              "solidity": 0.2
             }
            },
            "type": "bar"
           }
          ],
          "barpolar": [
           {
            "marker": {
             "line": {
              "color": "white",
              "width": 0.5
             },
             "pattern": {
              "fillmode": "overlay",
              "size": 10,
              "solidity": 0.2
             }
            },
            "type": "barpolar"
           }
          ],
          "carpet": [
           {
            "aaxis": {
             "endlinecolor": "#2a3f5f",
             "gridcolor": "#C8D4E3",
             "linecolor": "#C8D4E3",
             "minorgridcolor": "#C8D4E3",
             "startlinecolor": "#2a3f5f"
            },
            "baxis": {
             "endlinecolor": "#2a3f5f",
             "gridcolor": "#C8D4E3",
             "linecolor": "#C8D4E3",
             "minorgridcolor": "#C8D4E3",
             "startlinecolor": "#2a3f5f"
            },
            "type": "carpet"
           }
          ],
          "choropleth": [
           {
            "colorbar": {
             "outlinewidth": 0,
             "ticks": ""
            },
            "type": "choropleth"
           }
          ],
          "contour": [
           {
            "colorbar": {
             "outlinewidth": 0,
             "ticks": ""
            },
            "colorscale": [
             [
              0,
              "#0d0887"
             ],
             [
              0.1111111111111111,
              "#46039f"
             ],
             [
              0.2222222222222222,
              "#7201a8"
             ],
             [
              0.3333333333333333,
              "#9c179e"
             ],
             [
              0.4444444444444444,
              "#bd3786"
             ],
             [
              0.5555555555555556,
              "#d8576b"
             ],
             [
              0.6666666666666666,
              "#ed7953"
             ],
             [
              0.7777777777777778,
              "#fb9f3a"
             ],
             [
              0.8888888888888888,
              "#fdca26"
             ],
             [
              1,
              "#f0f921"
             ]
            ],
            "type": "contour"
           }
          ],
          "contourcarpet": [
           {
            "colorbar": {
             "outlinewidth": 0,
             "ticks": ""
            },
            "type": "contourcarpet"
           }
          ],
          "heatmap": [
           {
            "colorbar": {
             "outlinewidth": 0,
             "ticks": ""
            },
            "colorscale": [
             [
              0,
              "#0d0887"
             ],
             [
              0.1111111111111111,
              "#46039f"
             ],
             [
              0.2222222222222222,
              "#7201a8"
             ],
             [
              0.3333333333333333,
              "#9c179e"
             ],
             [
              0.4444444444444444,
              "#bd3786"
             ],
             [
              0.5555555555555556,
              "#d8576b"
             ],
             [
              0.6666666666666666,
              "#ed7953"
             ],
             [
              0.7777777777777778,
              "#fb9f3a"
             ],
             [
              0.8888888888888888,
              "#fdca26"
             ],
             [
              1,
              "#f0f921"
             ]
            ],
            "type": "heatmap"
           }
          ],
          "histogram": [
           {
            "marker": {
             "pattern": {
              "fillmode": "overlay",
              "size": 10,
              "solidity": 0.2
             }
            },
            "type": "histogram"
           }
          ],
          "histogram2d": [
           {
            "colorbar": {
             "outlinewidth": 0,
             "ticks": ""
            },
            "colorscale": [
             [
              0,
              "#0d0887"
             ],
             [
              0.1111111111111111,
              "#46039f"
             ],
             [
              0.2222222222222222,
              "#7201a8"
             ],
             [
              0.3333333333333333,
              "#9c179e"
             ],
             [
              0.4444444444444444,
              "#bd3786"
             ],
             [
              0.5555555555555556,
              "#d8576b"
             ],
             [
              0.6666666666666666,
              "#ed7953"
             ],
             [
              0.7777777777777778,
              "#fb9f3a"
             ],
             [
              0.8888888888888888,
              "#fdca26"
             ],
             [
              1,
              "#f0f921"
             ]
            ],
            "type": "histogram2d"
           }
          ],
          "histogram2dcontour": [
           {
            "colorbar": {
             "outlinewidth": 0,
             "ticks": ""
            },
            "colorscale": [
             [
              0,
              "#0d0887"
             ],
             [
              0.1111111111111111,
              "#46039f"
             ],
             [
              0.2222222222222222,
              "#7201a8"
             ],
             [
              0.3333333333333333,
              "#9c179e"
             ],
             [
              0.4444444444444444,
              "#bd3786"
             ],
             [
              0.5555555555555556,
              "#d8576b"
             ],
             [
              0.6666666666666666,
              "#ed7953"
             ],
             [
              0.7777777777777778,
              "#fb9f3a"
             ],
             [
              0.8888888888888888,
              "#fdca26"
             ],
             [
              1,
              "#f0f921"
             ]
            ],
            "type": "histogram2dcontour"
           }
          ],
          "mesh3d": [
           {
            "colorbar": {
             "outlinewidth": 0,
             "ticks": ""
            },
            "type": "mesh3d"
           }
          ],
          "parcoords": [
           {
            "line": {
             "colorbar": {
              "outlinewidth": 0,
              "ticks": ""
             }
            },
            "type": "parcoords"
           }
          ],
          "pie": [
           {
            "automargin": true,
            "type": "pie"
           }
          ],
          "scatter": [
           {
            "fillpattern": {
             "fillmode": "overlay",
             "size": 10,
             "solidity": 0.2
            },
            "type": "scatter"
           }
          ],
          "scatter3d": [
           {
            "line": {
             "colorbar": {
              "outlinewidth": 0,
              "ticks": ""
             }
            },
            "marker": {
             "colorbar": {
              "outlinewidth": 0,
              "ticks": ""
             }
            },
            "type": "scatter3d"
           }
          ],
          "scattercarpet": [
           {
            "marker": {
             "colorbar": {
              "outlinewidth": 0,
              "ticks": ""
             }
            },
            "type": "scattercarpet"
           }
          ],
          "scattergeo": [
           {
            "marker": {
             "colorbar": {
              "outlinewidth": 0,
              "ticks": ""
             }
            },
            "type": "scattergeo"
           }
          ],
          "scattergl": [
           {
            "marker": {
             "colorbar": {
              "outlinewidth": 0,
              "ticks": ""
             }
            },
            "type": "scattergl"
           }
          ],
          "scattermap": [
           {
            "marker": {
             "colorbar": {
              "outlinewidth": 0,
              "ticks": ""
             }
            },
            "type": "scattermap"
           }
          ],
          "scattermapbox": [
           {
            "marker": {
             "colorbar": {
              "outlinewidth": 0,
              "ticks": ""
             }
            },
            "type": "scattermapbox"
           }
          ],
          "scatterpolar": [
           {
            "marker": {
             "colorbar": {
              "outlinewidth": 0,
              "ticks": ""
             }
            },
            "type": "scatterpolar"
           }
          ],
          "scatterpolargl": [
           {
            "marker": {
             "colorbar": {
              "outlinewidth": 0,
              "ticks": ""
             }
            },
            "type": "scatterpolargl"
           }
          ],
          "scatterternary": [
           {
            "marker": {
             "colorbar": {
              "outlinewidth": 0,
              "ticks": ""
             }
            },
            "type": "scatterternary"
           }
          ],
          "surface": [
           {
            "colorbar": {
             "outlinewidth": 0,
             "ticks": ""
            },
            "colorscale": [
             [
              0,
              "#0d0887"
             ],
             [
              0.1111111111111111,
              "#46039f"
             ],
             [
              0.2222222222222222,
              "#7201a8"
             ],
             [
              0.3333333333333333,
              "#9c179e"
             ],
             [
              0.4444444444444444,
              "#bd3786"
             ],
             [
              0.5555555555555556,
              "#d8576b"
             ],
             [
              0.6666666666666666,
              "#ed7953"
             ],
             [
              0.7777777777777778,
              "#fb9f3a"
             ],
             [
              0.8888888888888888,
              "#fdca26"
             ],
             [
              1,
              "#f0f921"
             ]
            ],
            "type": "surface"
           }
          ],
          "table": [
           {
            "cells": {
             "fill": {
              "color": "#EBF0F8"
             },
             "line": {
              "color": "white"
             }
            },
            "header": {
             "fill": {
              "color": "#C8D4E3"
             },
             "line": {
              "color": "white"
             }
            },
            "type": "table"
           }
          ]
         },
         "layout": {
          "annotationdefaults": {
           "arrowcolor": "#2a3f5f",
           "arrowhead": 0,
           "arrowwidth": 1
          },
          "autotypenumbers": "strict",
          "coloraxis": {
           "colorbar": {
            "outlinewidth": 0,
            "ticks": ""
           }
          },
          "colorscale": {
           "diverging": [
            [
             0,
             "#8e0152"
            ],
            [
             0.1,
             "#c51b7d"
            ],
            [
             0.2,
             "#de77ae"
            ],
            [
             0.3,
             "#f1b6da"
            ],
            [
             0.4,
             "#fde0ef"
            ],
            [
             0.5,
             "#f7f7f7"
            ],
            [
             0.6,
             "#e6f5d0"
            ],
            [
             0.7,
             "#b8e186"
            ],
            [
             0.8,
             "#7fbc41"
            ],
            [
             0.9,
             "#4d9221"
            ],
            [
             1,
             "#276419"
            ]
           ],
           "sequential": [
            [
             0,
             "#0d0887"
            ],
            [
             0.1111111111111111,
             "#46039f"
            ],
            [
             0.2222222222222222,
             "#7201a8"
            ],
            [
             0.3333333333333333,
             "#9c179e"
            ],
            [
             0.4444444444444444,
             "#bd3786"
            ],
            [
             0.5555555555555556,
             "#d8576b"
            ],
            [
             0.6666666666666666,
             "#ed7953"
            ],
            [
             0.7777777777777778,
             "#fb9f3a"
            ],
            [
             0.8888888888888888,
             "#fdca26"
            ],
            [
             1,
             "#f0f921"
            ]
           ],
           "sequentialminus": [
            [
             0,
             "#0d0887"
            ],
            [
             0.1111111111111111,
             "#46039f"
            ],
            [
             0.2222222222222222,
             "#7201a8"
            ],
            [
             0.3333333333333333,
             "#9c179e"
            ],
            [
             0.4444444444444444,
             "#bd3786"
            ],
            [
             0.5555555555555556,
             "#d8576b"
            ],
            [
             0.6666666666666666,
             "#ed7953"
            ],
            [
             0.7777777777777778,
             "#fb9f3a"
            ],
            [
             0.8888888888888888,
             "#fdca26"
            ],
            [
             1,
             "#f0f921"
            ]
           ]
          },
          "colorway": [
           "#636efa",
           "#EF553B",
           "#00cc96",
           "#ab63fa",
           "#FFA15A",
           "#19d3f3",
           "#FF6692",
           "#B6E880",
           "#FF97FF",
           "#FECB52"
          ],
          "font": {
           "color": "#2a3f5f"
          },
          "geo": {
           "bgcolor": "white",
           "lakecolor": "white",
           "landcolor": "white",
           "showlakes": true,
           "showland": true,
           "subunitcolor": "#C8D4E3"
          },
          "hoverlabel": {
           "align": "left"
          },
          "hovermode": "closest",
          "mapbox": {
           "style": "light"
          },
          "paper_bgcolor": "white",
          "plot_bgcolor": "white",
          "polar": {
           "angularaxis": {
            "gridcolor": "#EBF0F8",
            "linecolor": "#EBF0F8",
            "ticks": ""
           },
           "bgcolor": "white",
           "radialaxis": {
            "gridcolor": "#EBF0F8",
            "linecolor": "#EBF0F8",
            "ticks": ""
           }
          },
          "scene": {
           "xaxis": {
            "backgroundcolor": "white",
            "gridcolor": "#DFE8F3",
            "gridwidth": 2,
            "linecolor": "#EBF0F8",
            "showbackground": true,
            "ticks": "",
            "zerolinecolor": "#EBF0F8"
           },
           "yaxis": {
            "backgroundcolor": "white",
            "gridcolor": "#DFE8F3",
            "gridwidth": 2,
            "linecolor": "#EBF0F8",
            "showbackground": true,
            "ticks": "",
            "zerolinecolor": "#EBF0F8"
           },
           "zaxis": {
            "backgroundcolor": "white",
            "gridcolor": "#DFE8F3",
            "gridwidth": 2,
            "linecolor": "#EBF0F8",
            "showbackground": true,
            "ticks": "",
            "zerolinecolor": "#EBF0F8"
           }
          },
          "shapedefaults": {
           "line": {
            "color": "#2a3f5f"
           }
          },
          "ternary": {
           "aaxis": {
            "gridcolor": "#DFE8F3",
            "linecolor": "#A2B1C6",
            "ticks": ""
           },
           "baxis": {
            "gridcolor": "#DFE8F3",
            "linecolor": "#A2B1C6",
            "ticks": ""
           },
           "bgcolor": "white",
           "caxis": {
            "gridcolor": "#DFE8F3",
            "linecolor": "#A2B1C6",
            "ticks": ""
           }
          },
          "title": {
           "x": 0.05
          },
          "xaxis": {
           "automargin": true,
           "gridcolor": "#EBF0F8",
           "linecolor": "#EBF0F8",
           "ticks": "",
           "title": {
            "standoff": 15
           },
           "zerolinecolor": "#EBF0F8",
           "zerolinewidth": 2
          },
          "yaxis": {
           "automargin": true,
           "gridcolor": "#EBF0F8",
           "linecolor": "#EBF0F8",
           "ticks": "",
           "title": {
            "standoff": 15
           },
           "zerolinecolor": "#EBF0F8",
           "zerolinewidth": 2
          }
         }
        },
        "title": {
         "text": "Average Temperature with Confidence Interval"
        },
        "xaxis": {
         "title": {
          "text": "Year"
         }
        },
        "yaxis": {
         "title": {
          "text": "Temperature (Celcius)"
         }
        }
       }
      }
     },
     "metadata": {},
     "output_type": "display_data"
    }
   ],
   "source": [
    "fig = go.Figure(layout=go.Layout(template='plotly_white'))\n",
    "\n",
    "# Add traces for each data series\n",
    "\n",
    "fig.add_trace(go.Scatter(\n",
    "    x=world_temp_data['year'],\n",
    "    y=world_temp_data['upper_bound'],\n",
    "    mode='lines',\n",
    "    name='Upper Bound',\n",
    "    line=dict(width=0),\n",
    "    showlegend=False\n",
    "))\n",
    "\n",
    "fig.add_trace(go.Scatter(\n",
    "    x=world_temp_data['year'],\n",
    "    y=world_temp_data['lower_bound'],\n",
    "    mode='lines',\n",
    "    line=dict(width=0),\n",
    "    fillcolor = 'rgba(68, 68, 68, 0.3)',\n",
    "    fill = 'tonexty',\n",
    "    name='Lower Bound',\n",
    "    showlegend=False\n",
    "))\n",
    "\n",
    "fig.add_trace(go.Scatter(\n",
    "    x=world_temp_data['year'],\n",
    "    y=world_temp_data['avg_temp'],\n",
    "    mode='lines',\n",
    "    name='World Average Temperature',\n",
    "    line=dict(color='red')\n",
    "))\n",
    "\n",
    "fig.update_layout(\n",
    "    title='Average Temperature with Confidence Interval',\n",
    "    xaxis_title='Year',\n",
    "    yaxis_title='Temperature (Celcius)',\n",
    "    hovermode='x unified', # Shows hover info for all traces at a given x-value\n",
    "    legend_title_text='Legend'\n",
    ")"
   ]
  },
  {
   "cell_type": "markdown",
   "metadata": {},
   "source": [
    "Scientists worldwide have tracked Earth's temperature for decades. The data is clear: our planet's average temperature is rising at an unprecedented rate, particularly since the mid-20th century. This isn't just a slight fluctuation; it's a significant shift in our global climate system."
   ]
  },
  {
   "cell_type": "markdown",
   "metadata": {},
   "source": [
    "Line chart tracks the global average temperature anomaly (the deviation from a baseline average, shown in degrees Celsius) from the year 1850 up to the early 21st century. The red line represents the estimated world average temperature for each year, while the shaded area around the line indicates the 95% confidence interval for that year.\n",
    "\n",
    "The chart clearly shows year-to-year fluctuations, but the dominant feature is a distinct upward trend, particularly after roughly 1950. This indicates a significant increase in the world's average temperature over time, which is a key indicator of global warming. The confidence interval narrows over time, reflecting improved accuracy in temperature measurements as technology advances. The chart effectively communicates the long-term trend of rising temperatures."
   ]
  },
  {
   "cell_type": "markdown",
   "metadata": {},
   "source": [
    "This warming is primarily driven by the increasing concentration of greenhouse gases (GHGs) in our atmosphere, released by human activities. Think of these gases like a thickening blanket around the Earth, trapping more heat. Carbon Dioxide (CO2) from burning fossil fuels (coal, oil, gas) is the main contributor, but Methane (CH4) from agriculture and gas leaks, and Nitrous Oxide (N2O) are also powerful heat-trappers.    "
   ]
  },
  {
   "cell_type": "code",
   "execution_count": 7,
   "metadata": {},
   "outputs": [
    {
     "data": {
      "application/vnd.plotly.v1+json": {
       "config": {
        "plotlyServerURL": "https://plot.ly"
       },
       "data": [
        {
         "line": {
          "color": "red"
         },
         "mode": "lines",
         "name": "Avg Temperature (°C)",
         "type": "scatter",
         "x": {
          "bdata": "Ogc7BzwHPQc+Bz8HQAdBB0IHQwdEB0UHRgdHB0gHSQdKB0sHTAdNB04HTwdQB1EHUgdTB1QHVQdWB1cHWAdZB1oHWwdcB10HXgdfB2AHYQdiB2MHZAdlB2YHZwdoB2kHagdrB2wHbQduB28HcAdxB3IHcwd0B3UHdgd3B3gHeQd6B3sHfAd9B34HfweAB4EHggeDB4QHhQeGB4cHiAeJB4oHiweMB40HjgePB5AHkQeSB5MHlAeVB5YHlweYB5kHmgebB5wHnQeeB58HoAehB6IHowekB6UHpgenB6gHqQeqB6sHrAetB64HrwewB7EHsgezB7QHtQe2B7cHuAe5B7oHuwe8B70Hvge/B8AHwQfCB8MHxAfFB8YHxwfIB8kHygfLB8wHzQfOB88H0AfRB9IH0wfUB9UH1gfXB9gH2QfaB9sH3AfdB94H3wfgB+EH4gfjB+QH5QfmBw==",
          "dtype": "i2"
         },
         "y": {
          "bdata": "bEDn4i1frL+J4Ze4XYHAP5R7qtjSAsE/3BiWmpiJtz/2K7asbx6yP2afxyjPvLA/HZI5GrB5pT+SR8vc19y6v7JXq7hpGpu/X7ACGY2+tD8RE2/FR4mcvw4Q7d/MGrG/2QR7wPpHxr8sxmg5qnySP8x8amksabq/RsCsRjKInj/eGz5HtoOVP9nQzf5AuXU/M5yii5xxhT/Nm3kowGanP2Ne8Rv5mKE/LKgMAVepeb96gi8S+4ChPzkRPD8+gZU/T0rycMNuhr9mwa2Dz0uLv6/mY+vXpa+/dwHlpVG30D8q3m2Df3bWP2ZypBIiCa4/qIDFK1rKpz+OCtYXjaXAP8SCFJ+vF7E/WuvkPP4zkD+7NBNGkqTAv+3QVV8C3Lu/MP+L4ZYBrr/GDxl/cHjBvwGWWsS3fZG/u3wM0mPGvD81ppLH9IDCvyh0MeIP+qO/3ee+veeXwr/EQ5QG6e/Av1qIq1ZoGL+/jABd6tYhtr9QDD0g2Aq0P3x1fh9IPbo/5/xW41Odv78vGKH+iB18PxbFBmbgW8A/FYmNopyisT9NHw3p6J+zv/38lLb64sW/KFcEQXgbzr9fbqnjLkunv8QsRB/dHKY/LKs8w8wlwr+XJfA9EmXDv0+NPLWfMca/mMWCyhGVxb8YAZnGxKDGv/WzHt9a/by/AUPBUn7Our+gbj2WgJC5P29WjtoO18U/yvLv3y6Orb84V0HKVxvHvy0RvOIox6+/YTbEIs3yoj/uKGsnjF6wPygWFuHIMb8/0PZuR8bXlz9QrxAt5NemP25sSySe2qk/s1a8qhaFtD9ucODd46/OP0I7TKAtDME/SuOC+Uzywz9ycKLDZ96ev8aSB1w2vsc/vggipNGR0D9wczKKSMHLP4qgeyDDdKQ/+J42TxoPyD/Msmmdn//DP2W5tgHprMg/gf9Sq1T11T+iX1s//WfWP9WQPAB3k9Q/h6NQuwQM3D87+068mKDZPygjFWPsRtc/HfmsABmZ1z+VL8PaczTgP+swcIrY8dk/srS2nXQqzz/q8pzjklnRPyPh90bfas4/VntcRKn3yz8uuJNG1F3BP50pGaXwRdM/a5ZwjXQr2D91AwXeySfcP6vHAeQZbs8/L5ee+lEexT+5M1UouWC5PwvjdoH17NQ/Zm+EoP4O1j/neaoiYB3UP3n5xqVkmM8/tceovjXo1T+A6+1DnBbTP4JjZAPI1NQ/JlV4IzXlrD/5Q7eHUjXEP12DIR+yUMs/BEaPxj5Uzz8OBHWIh8nIP/JBEYOnLdU/eznDPzK+0T/+qadFMwXEP0ovpKI1L9E/Ng8WBEVi2j/bYukJbErIPxzt+v1JGdA/cXpyqDq/wj/xvDNe48jdP9yFQfT/hdc/NcQlhYEA3T+1XsJXKt7hP06mwLgKmOM/1H1jfFZh2T9P/L25ZMHiP/xvJTs2Qto/ks/pgahe2j8U750kn0/dP/RTd8DQXuM/vY3NjlSf5D8AwFauXFThPxa8jXLVIec/GIhUBy9w5j8EFTwiMi7fP2qlrZ1q5eA/7tqU4S4R4z81SBwNO6fnP7QbIhOVcuQ/v4nXq34b6T90AXnAhhHuP66sfrYf+uU/jswjfzAw5j+WrC+3IEDrP3RMzGkF/Ow/KPYr+MgB7T87IMfepIzqPyoNqWBcA+8/CdSsfUvq7T/ZOt0eKYfuP3GnGfeLfuo/vo0oSMew7j9lvijmxa7wP2aC4VzDzOw/OU8rO7MT7j9HMlC+RYzvP3we7ckNkPA/sv6F1KP/8j+Bfc+jPbn0PxRf7SjOUfM/qThpdc3/8T9/cQQEzg30P3SVk/VAkPQ/auJ4mbz88T8yY8BIHp7yPw==",
          "dtype": "f8"
         }
        },
        {
         "line": {
          "color": "blue"
         },
         "mode": "lines",
         "name": "CO₂ Emissions (x10⁻¹⁰)",
         "type": "scatter",
         "x": {
          "bdata": "Ogc7BzwHPQc+Bz8HQAdBB0IHQwdEB0UHRgdHB0gHSQdKB0sHTAdNB04HTwdQB1EHUgdTB1QHVQdWB1cHWAdZB1oHWwdcB10HXgdfB2AHYQdiB2MHZAdlB2YHZwdoB2kHagdrB2wHbQduB28HcAdxB3IHcwd0B3UHdgd3B3gHeQd6B3sHfAd9B34HfweAB4EHggeDB4QHhQeGB4cHiAeJB4oHiweMB40HjgePB5AHkQeSB5MHlAeVB5YHlweYB5kHmgebB5wHnQeeB58HoAehB6IHowekB6UHpgenB6gHqQeqB6sHrAetB64HrwewB7EHsgezB7QHtQe2B7cHuAe5B7oHuwe8B70Hvge/B8AHwQfCB8MHxAfFB8YHxwfIB8kHygfLB8wHzQfOB88H0AfRB9IH0wfUB9UH1gfXB9gH2QfaB9sH3AfdB94H3wfgB+EH4gfjB+QH5QfmBw==",
          "dtype": "i2"
         },
         "y": {
          "bdata": "aeu34T0olD9I72Az3FqUP52u8RD7QZU/TC3Vsbw+lj+yf8TNrh2aP3BX3VqOppo/uSRx0Ap+nD8HJ8gm/sqcP9k5IQJ7PZ0/J4XAZL/7nj9faaSbgAOhP/UJo9Dn4KE/KvRu6gs6oj9TUHW7o26jP2vs+Te796Q/j8Ux8K5Dpj/VGL7PAv6mP/BDMbsfnqg/+AV6/GxRqT+FEfhMwd2qPwJUBkgTc6s/Kgf3Ji0srT8P5sC8ESewP+A9tE35KbE/+lLsJgAYsD/iW7PwUG+xP6ncRC3NrbE/uRoEFvMFsj/GlpdcwiqyP8FfFW1jc7M/kPL2lFr3tT/Ez38PXru2P8V1ZmSLArg/B5Y/uU+JuT83XNwtZte5Py/XR0z1Cbo/mH8GMVZvuj+/DwcJUb67P51RDPOSvb4/Wz1p2UHCvj9nfakjcLnAP5HBH7iphcE/y/ACmVupwT/bhL2BsHDBPzzrIp5PEcI/WKbCTJkjwz8MDHJ6i8XDP86jZjgztMQ/X54pzxfWxT/wDY1AH9nHP2s5ZahpG8k/bXHw+R/oyT8bKLajtI7KP2VTjeJF9Mw/kToqzLVHzT89jWrHwzHPP8LU4MfiSNA/kZ6eTuSP0j+MjZK6EdTRP9ydlM1FkdI/WdMGcS960z8AvsIf0cbTPwIvjiUHx9Q/VfPB13yB1j8uC7tiJWrUP+QZLIMHGdQ/WQ6Zl2i11T8MvnomRbXWP/08293iZdY/xJ8beaRq0z9t51ZjZKTWPzHa2xQs4dM/91SQlxzU1D9L5wXQ1p7XP9EJ/Dyhstc/bz11cqfw1z9LBKp/EInXP05HnQzQrtk//vUjqI6T2T+uUcVDznHbPxOQH7/xVNk/Tdd2h9Km1j/mf8n4vW7UP727vqRrhdU/hl2QBExm1z9WndUCe4zYP2tcxQNG7to/w7TSGGvH3D+WnXbfzhHbPzW214Lem9w/f3hMkwhD3z/DgGdzg/7fPx3TyQhe498/RHhq5Kk94D/Cjc7YG4XgP6Tfvg6cc9s/F04ttqR+3T8nyL4aVofgP6eU10robuE/fCqnPSWn4D92zf04DvriPyZrmpiqa+Q/EYoQyySy5D8kQ46tZ0jlP4vHoG77ueU/0XBvIwrS5z/1i8hm/VzpP7lUpS2uMeo/Hvs4Hlzv6j/75ZMVw1XsP+UDp+PWCe4/Gn6Bas0g7j+AHx8++jDvPxjIWBJFbfA/8rbSa7NR8T8pBd1e0hjyP1VjrrHw+vI/5ojGJG2U8z+C8ogbAab0P1hVL7/TBPY/WXp+Yq7W9z/sFKsGYc74P18/aU2Y9fk/jone8w1W+z+U1+8uvDf7P7Tg6qXOSPs/pIdGHFfI/D8k+QCTCpn9Pym0rPvHgv4/bJOKxtpf/z+hsqvafy7/P+33H/THb/4/EG7X8Jkx/j94uB0aFmP+P0ZOFUK9b/8/RqXHpeA/AECcmarF8X0AQKsJou4DAAFAqFMe3QirAUBY8JGDyOgBQD3qVJ7lLgJATGApgYOMAkAq7i4GxQUCQCfL/5piNAJA1u2invRkAkDzZ4nfXtMCQD6s3LASaANAjg04poKFA0A7ZX/qaXEDQCrkSj0L4gNACkbKu49oBEBvHS0YppAEQKz+CMOABQVAZ5lFKLYiBkDfBDru7+cGQCapTDEHsQdApR/DGbKACECkxoSYSzoJQGJKJNHLqAlA5mLCHsk7CUCw1pr3Sa8KQK/RcqCHmgtAC3pvDAEADEBqvd9oxz0MQMUZaOMtXAxANIXOa+xSDEC35ALhVFUMQHcgoRy7ygxAbosyG2RiDUCtbvWc9K4NQMqsOZvpGQxAcd05OeiXDUBZ9sn2xtUNQA==",
          "dtype": "f8"
         }
        },
        {
         "line": {
          "color": "orange"
         },
         "mode": "lines",
         "name": "Methane Emissions (x10⁻¹⁰)",
         "type": "scatter",
         "x": {
          "bdata": "Ogc7BzwHPQc+Bz8HQAdBB0IHQwdEB0UHRgdHB0gHSQdKB0sHTAdNB04HTwdQB1EHUgdTB1QHVQdWB1cHWAdZB1oHWwdcB10HXgdfB2AHYQdiB2MHZAdlB2YHZwdoB2kHagdrB2wHbQduB28HcAdxB3IHcwd0B3UHdgd3B3gHeQd6B3sHfAd9B34HfweAB4EHggeDB4QHhQeGB4cHiAeJB4oHiweMB40HjgePB5AHkQeSB5MHlAeVB5YHlweYB5kHmgebB5wHnQeeB58HoAehB6IHowekB6UHpgenB6gHqQeqB6sHrAetB64HrwewB7EHsgezB7QHtQe2B7cHuAe5B7oHuwe8B70Hvge/B8AHwQfCB8MHxAfFB8YHxwfIB8kHygfLB8wHzQfOB88H0AfRB9IH0wfUB9UH1gfXB9gH2QfaB9sH3AfdB94H3wfgB+EH4gfjB+QH5QfmBw==",
          "dtype": "i2"
         },
         "y": {
          "bdata": "82qIQ5m6vz8+bb9CB9m/P4UoX9BCAsA/WGmcl9QawD++p82TxkPAP5bGFh/yWMA/uueOOEN1wD8aup90nojAP5UnUpJcm8A/Z4nGwUK5wD/mHUwv1tzAP2ZRVA0t+MA/F/8tt2oNwT/yFZPtMjLBP5ZRVTbmVME/0+FbNyl1wT9EdyAd5JbBP8Dy1q8qscE/7o3nVK7HwT8j3IViAunBP96I9sofAMI/+gzqU3Uswj8GxPvclmnCP/duHEZ7m8I/JVt+XPKqwj9tFjeHzt/CP7Rd/MgIA8M/sSY/d7wowz+zDw3mCkrDP9LjGEXmfMM/Yk5M7uLDwz+AYNA6kf3DP6geSGJyOMQ/cyFe8Mx4xD+o6S/LCaDEP61kKnHbxsQ/1ELq8r3xxD95TVmXZC7FP2Ca2DLPgMU/nBomIhWpxT8SQlHq3P7FP3L+BQY5PcY/dhhy8HVnxj9La7o7vn/GP4e1QqIawMY/JmuamKoLxz9popWcj0LHP5PpK6PsiMc/0CI+JDrTxz94pkTQoDrIP4gy8ZqZkcg/gJ6j4dbVyD+yjKJB6Q/JP5R7qtjSgsk/4BOIKj62yT/6F5SrUAvKP380OQh8dso/5it5I5Aeyz/5bHjVXh/LP1HKOesygMs/NAAr8rHcyz/VhvUMAifMPwC8LpFFecw/maPgjA4GzT/raOI+7rLMP6WqZFth1cw/jjILggFjzT+dSf7UNs3NP9QUXAditM0/J/XIk2JPzT+c5apg8SfOP3J7ODdcms0/CNST4Ko+zj+UZeuNGEXPP5ncg2tJos8/79gZ8EPvzz8nIQUNBQXQPxUBTu/ifdA/PE+XIH6Z0D8EjE999/nQP4K5zJ8l/tA/UUjX8QTn0D/1DKft2+DQP+NkLORbKdE/MyqZMT+W0T/f88t5KenRP64Hm1Msa9I/cfPXdbnS0j8vaverAN/SP8Q/zxONPdM/q0mF6zCq0z844uILBwDUP2XtY8OiO9Q/8zrikA2k1D+tbUirc+/UPxOaJJaUu9Q/F2GrgFJf1T/n1QgW6h3WPxYJdarfedY/TT8TJxjK1j933oRKdWTXPxCQ1OcPMtg/rtUe9kLB2D9Gf6KRU2TZP9ie1dn7Gto/HiwIisRp2z83e1aI/VTcP1Cr6A/NPN0/TctZ6f/m3T+CpDYOSETfP+TET8pBHOA/FmniHeBJ4D9DgS1lz5TgP9OutiBjB+E/k9wGWiZo4T+oOMyfiOjhP+JzBsqWmuI/BgKudfPe4j+an9EMmDbjPxqXYCer2OM/hm8GJAZm5D9XOsTksnbkP1TA4hUt5eQ/Zz9atc5s5T/OeXwxSoblP+WR5F4F3eU/7LULk8ow5j+FwrF4+33mP9/T5knjoeY/g0Jvt0U15z96/x8nTBjnP1di+U4nlOY/9hyiG6ve5j8LaH0l6+vmP3nS/BCfROc/uU6GV1Cg5z9qIExAAvXnP9rKCeJVOeg/HaHR4xil6D9sh1SLZzTpP5HoCltYXOk/EGOpYBpH6T9GLu71pELpP9V5VPzfUek/gd5l0BqN6T9v1uB9Ve7pPxgLQ+T0Neo/ci7Nxq026j/0tLIzOwHqP1N7bCY6Juo/eXQjLCqi6j+dxqzNtZ7qP87VoHlKmOo/vPY3LgRV6z9Ry8XOyuzrP/hHKTKEbew/AAl58wr67D81DeWfdD3tP4xuGGB6lu0/xoA2gwlt7T93OkZoug3uP04bH3db8+4/FQsyuJxB7z9GPH4UGi3vP5Cq3Pqfcu8/A/v5AO6D7z/iQQ6lUZzvPwXPc/owEfA/LKhebXtR8D+jNha5THLwP57grNInQ/A/of2jyouH8D9q2JTQAtnwPw==",
          "dtype": "f8"
         }
        },
        {
         "line": {
          "color": "green"
         },
         "mode": "lines",
         "name": "GHG Emissions (x10⁻¹⁰)",
         "type": "scatter",
         "x": {
          "bdata": "Ogc7BzwHPQc+Bz8HQAdBB0IHQwdEB0UHRgdHB0gHSQdKB0sHTAdNB04HTwdQB1EHUgdTB1QHVQdWB1cHWAdZB1oHWwdcB10HXgdfB2AHYQdiB2MHZAdlB2YHZwdoB2kHagdrB2wHbQduB28HcAdxB3IHcwd0B3UHdgd3B3gHeQd6B3sHfAd9B34HfweAB4EHggeDB4QHhQeGB4cHiAeJB4oHiweMB40HjgePB5AHkQeSB5MHlAeVB5YHlweYB5kHmgebB5wHnQeeB58HoAehB6IHowekB6UHpgenB6gHqQeqB6sHrAetB64HrwewB7EHsgezB7QHtQe2B7cHuAe5B7oHuwe8B70Hvge/B8AHwQfCB8MHxAfFB8YHxwfIB8kHygfLB8wHzQfOB88H0AfRB9IH0wfUB9UH1gfXB9gH2QfaB9sH3AfdB94H3wfgB+EH4gfjB+QH5QfmBw==",
          "dtype": "i2"
         },
         "y": {
          "bdata": "z3bYhoIA2z/8g5ITNzjcP+OB0JOVk9w/SzEPso8C3T8NuYQJxGfdP2kNc7zhQt0/pDvjVpwF3j8yhoPOtfndPwK8gdlvM94/FTTS97/I3j8dKOjd9WXdPz9xvuDsed0/qr1GmpFk3T8DS8f/kWfdPwPM3zH6Gd0/dY5kA6cG3T+82pspvmvdP7BnGfOEb90/vl6rThhe3T9dvMT97OzdP63UWGchpt8/x6Ove4YL4D88UreSofPgP7BdNSrL6+A/C7c6CFN34T8nol9bP/3hPxAwqZDhJ+I/8BT23ULx4T/0pgEH3VPiPzdRjY/9ieI/rYyh9yFK4z/9/ihFhnDjP3D+cKE8PeQ/lDKpoQ1A5D/zLmo5yNLkP+9zfLQ44+Q/VULi5J+15D/xkHOsnGflPwDS7dv/duU/+XHJq1Le5T/zRTEvdjHnP01Z+o7pIug/sVqyjewI6D+kxPAJwJzoP+UlYr565Og/ArERLR5D6T9fha089UbpP3+c1afBGeo/2wrM0JlQ6j8Zh0Tr8jfrPyKwKNt20Os/Vb/S+fAs7D97BViaSrXsP8AJ4MGqVe0/DnvrDQi+7T/GJ650iMnuP9GE3PsKSO8/BS3JpgEo8D+rPldbsR/wP2iTwyediPA/HKykuiV+8D/vkc1V87zwP/Uu3o/bz/A/3d5/dWYM8T8vhEE+jaDwP7H8+bZgifA/YFBLGHLx8D+6AVWSK0vxP5hkiXN5OPE/EoNlES9U8D97WjRTEHLxP6l/tQ8eEvE/PkD35cxW8T8TVnQ1w1fyPxs/nqdLcPI/31OUppyK8j/ozCz4I3vyP9ATKpN1M/M//rj98skq8z82xB0UOanzP5wOrsrPV/M/hTR0/czq8j/SNCiaB3DyPyfrgaDt4vI/pWVJJeGH8z9VDz3O2cfzP4BROHEokvQ/+qk7YGg/9T9FwHwNHOv0P6PNcW4TTvU/xs81gkM+9j99+hkoOvz2PwsT/CWYIPc/mHIZku5i9z/n/upx36r3Pxmd4ifEUvY/NnKC238J9z+95rBWSDT4P4WpdwKrtPg/TINHwI1Z+D919RkG4qv6P654j9iTJfw/LugY63ZR/D8F+BM6VPj8P6PJxRhYB/4/qkiFsYWg/z+yN+eWDGYAQCtM32sIzgBAiqZY2k4AAUABsiFJWvsBQGzXOiesswFAsWmlEMjlAUDgrHdukN8BQBsOSwM/SgJAOtqC70ebAkB551CGqvgCQKFeOvdoSwNAXlz0XzHUA0DIgbKEEGsEQPBXXHdOrgVA+kUJ+gudBkBfvHpw0p8GQDiXLDjNjAdAB33p7c9FCECFC3kENzIIQIenV8oyVAhAqzcPzHY6CUAKCih5GhUKQLJkjuVdhQpAk5EOahqPCkDXUGovoq0KQNh9bDdmDgpAOGD82TTbCUAVoSKYtDMKQDDzHfzEgQtA2QUosnvXC0DAr5EkCFcMQHDjuzkBsgxAPMLEev5PDUBciB+te4UNQIbnpWJj3g1AW8064/syDkDtEP+wpecNQIoQDUHE3A1Awf7r3LTZDkCwql5+pwkPQJoJhnMNExBAhSNIpdipEEDQ1hx7URYQQG3OHO0TQxBAAsrw6ftKEEAY/+MpUCgQQG5Q+62diBBA4ZUkz/WNEUA6XRYTm78RQL73N2iv/hFAwbXJlwakEkCVQVoIF78SQGx8JvvnGRNAxdCgV/IHE0B65A8GnusTQOQs7GmHbxRAm6+Sj93VFEB9y5wui7kUQKjjMQOV8RRAZsf8kkP6FECIKqFga4sUQPrKKDuixxRA+P4G7dX3FECPBHUlXR4VQFdIVAMoURRAsOL5se4sFUCXrVD/tFQVQA==",
          "dtype": "f8"
         }
        }
       ],
       "layout": {
        "hovermode": "x unified",
        "legend": {
         "title": {
          "text": "Legend"
         }
        },
        "template": {
         "data": {
          "bar": [
           {
            "error_x": {
             "color": "#2a3f5f"
            },
            "error_y": {
             "color": "#2a3f5f"
            },
            "marker": {
             "line": {
              "color": "white",
              "width": 0.5
             },
             "pattern": {
              "fillmode": "overlay",
              "size": 10,
              "solidity": 0.2
             }
            },
            "type": "bar"
           }
          ],
          "barpolar": [
           {
            "marker": {
             "line": {
              "color": "white",
              "width": 0.5
             },
             "pattern": {
              "fillmode": "overlay",
              "size": 10,
              "solidity": 0.2
             }
            },
            "type": "barpolar"
           }
          ],
          "carpet": [
           {
            "aaxis": {
             "endlinecolor": "#2a3f5f",
             "gridcolor": "#C8D4E3",
             "linecolor": "#C8D4E3",
             "minorgridcolor": "#C8D4E3",
             "startlinecolor": "#2a3f5f"
            },
            "baxis": {
             "endlinecolor": "#2a3f5f",
             "gridcolor": "#C8D4E3",
             "linecolor": "#C8D4E3",
             "minorgridcolor": "#C8D4E3",
             "startlinecolor": "#2a3f5f"
            },
            "type": "carpet"
           }
          ],
          "choropleth": [
           {
            "colorbar": {
             "outlinewidth": 0,
             "ticks": ""
            },
            "type": "choropleth"
           }
          ],
          "contour": [
           {
            "colorbar": {
             "outlinewidth": 0,
             "ticks": ""
            },
            "colorscale": [
             [
              0,
              "#0d0887"
             ],
             [
              0.1111111111111111,
              "#46039f"
             ],
             [
              0.2222222222222222,
              "#7201a8"
             ],
             [
              0.3333333333333333,
              "#9c179e"
             ],
             [
              0.4444444444444444,
              "#bd3786"
             ],
             [
              0.5555555555555556,
              "#d8576b"
             ],
             [
              0.6666666666666666,
              "#ed7953"
             ],
             [
              0.7777777777777778,
              "#fb9f3a"
             ],
             [
              0.8888888888888888,
              "#fdca26"
             ],
             [
              1,
              "#f0f921"
             ]
            ],
            "type": "contour"
           }
          ],
          "contourcarpet": [
           {
            "colorbar": {
             "outlinewidth": 0,
             "ticks": ""
            },
            "type": "contourcarpet"
           }
          ],
          "heatmap": [
           {
            "colorbar": {
             "outlinewidth": 0,
             "ticks": ""
            },
            "colorscale": [
             [
              0,
              "#0d0887"
             ],
             [
              0.1111111111111111,
              "#46039f"
             ],
             [
              0.2222222222222222,
              "#7201a8"
             ],
             [
              0.3333333333333333,
              "#9c179e"
             ],
             [
              0.4444444444444444,
              "#bd3786"
             ],
             [
              0.5555555555555556,
              "#d8576b"
             ],
             [
              0.6666666666666666,
              "#ed7953"
             ],
             [
              0.7777777777777778,
              "#fb9f3a"
             ],
             [
              0.8888888888888888,
              "#fdca26"
             ],
             [
              1,
              "#f0f921"
             ]
            ],
            "type": "heatmap"
           }
          ],
          "histogram": [
           {
            "marker": {
             "pattern": {
              "fillmode": "overlay",
              "size": 10,
              "solidity": 0.2
             }
            },
            "type": "histogram"
           }
          ],
          "histogram2d": [
           {
            "colorbar": {
             "outlinewidth": 0,
             "ticks": ""
            },
            "colorscale": [
             [
              0,
              "#0d0887"
             ],
             [
              0.1111111111111111,
              "#46039f"
             ],
             [
              0.2222222222222222,
              "#7201a8"
             ],
             [
              0.3333333333333333,
              "#9c179e"
             ],
             [
              0.4444444444444444,
              "#bd3786"
             ],
             [
              0.5555555555555556,
              "#d8576b"
             ],
             [
              0.6666666666666666,
              "#ed7953"
             ],
             [
              0.7777777777777778,
              "#fb9f3a"
             ],
             [
              0.8888888888888888,
              "#fdca26"
             ],
             [
              1,
              "#f0f921"
             ]
            ],
            "type": "histogram2d"
           }
          ],
          "histogram2dcontour": [
           {
            "colorbar": {
             "outlinewidth": 0,
             "ticks": ""
            },
            "colorscale": [
             [
              0,
              "#0d0887"
             ],
             [
              0.1111111111111111,
              "#46039f"
             ],
             [
              0.2222222222222222,
              "#7201a8"
             ],
             [
              0.3333333333333333,
              "#9c179e"
             ],
             [
              0.4444444444444444,
              "#bd3786"
             ],
             [
              0.5555555555555556,
              "#d8576b"
             ],
             [
              0.6666666666666666,
              "#ed7953"
             ],
             [
              0.7777777777777778,
              "#fb9f3a"
             ],
             [
              0.8888888888888888,
              "#fdca26"
             ],
             [
              1,
              "#f0f921"
             ]
            ],
            "type": "histogram2dcontour"
           }
          ],
          "mesh3d": [
           {
            "colorbar": {
             "outlinewidth": 0,
             "ticks": ""
            },
            "type": "mesh3d"
           }
          ],
          "parcoords": [
           {
            "line": {
             "colorbar": {
              "outlinewidth": 0,
              "ticks": ""
             }
            },
            "type": "parcoords"
           }
          ],
          "pie": [
           {
            "automargin": true,
            "type": "pie"
           }
          ],
          "scatter": [
           {
            "fillpattern": {
             "fillmode": "overlay",
             "size": 10,
             "solidity": 0.2
            },
            "type": "scatter"
           }
          ],
          "scatter3d": [
           {
            "line": {
             "colorbar": {
              "outlinewidth": 0,
              "ticks": ""
             }
            },
            "marker": {
             "colorbar": {
              "outlinewidth": 0,
              "ticks": ""
             }
            },
            "type": "scatter3d"
           }
          ],
          "scattercarpet": [
           {
            "marker": {
             "colorbar": {
              "outlinewidth": 0,
              "ticks": ""
             }
            },
            "type": "scattercarpet"
           }
          ],
          "scattergeo": [
           {
            "marker": {
             "colorbar": {
              "outlinewidth": 0,
              "ticks": ""
             }
            },
            "type": "scattergeo"
           }
          ],
          "scattergl": [
           {
            "marker": {
             "colorbar": {
              "outlinewidth": 0,
              "ticks": ""
             }
            },
            "type": "scattergl"
           }
          ],
          "scattermap": [
           {
            "marker": {
             "colorbar": {
              "outlinewidth": 0,
              "ticks": ""
             }
            },
            "type": "scattermap"
           }
          ],
          "scattermapbox": [
           {
            "marker": {
             "colorbar": {
              "outlinewidth": 0,
              "ticks": ""
             }
            },
            "type": "scattermapbox"
           }
          ],
          "scatterpolar": [
           {
            "marker": {
             "colorbar": {
              "outlinewidth": 0,
              "ticks": ""
             }
            },
            "type": "scatterpolar"
           }
          ],
          "scatterpolargl": [
           {
            "marker": {
             "colorbar": {
              "outlinewidth": 0,
              "ticks": ""
             }
            },
            "type": "scatterpolargl"
           }
          ],
          "scatterternary": [
           {
            "marker": {
             "colorbar": {
              "outlinewidth": 0,
              "ticks": ""
             }
            },
            "type": "scatterternary"
           }
          ],
          "surface": [
           {
            "colorbar": {
             "outlinewidth": 0,
             "ticks": ""
            },
            "colorscale": [
             [
              0,
              "#0d0887"
             ],
             [
              0.1111111111111111,
              "#46039f"
             ],
             [
              0.2222222222222222,
              "#7201a8"
             ],
             [
              0.3333333333333333,
              "#9c179e"
             ],
             [
              0.4444444444444444,
              "#bd3786"
             ],
             [
              0.5555555555555556,
              "#d8576b"
             ],
             [
              0.6666666666666666,
              "#ed7953"
             ],
             [
              0.7777777777777778,
              "#fb9f3a"
             ],
             [
              0.8888888888888888,
              "#fdca26"
             ],
             [
              1,
              "#f0f921"
             ]
            ],
            "type": "surface"
           }
          ],
          "table": [
           {
            "cells": {
             "fill": {
              "color": "#EBF0F8"
             },
             "line": {
              "color": "white"
             }
            },
            "header": {
             "fill": {
              "color": "#C8D4E3"
             },
             "line": {
              "color": "white"
             }
            },
            "type": "table"
           }
          ]
         },
         "layout": {
          "annotationdefaults": {
           "arrowcolor": "#2a3f5f",
           "arrowhead": 0,
           "arrowwidth": 1
          },
          "autotypenumbers": "strict",
          "coloraxis": {
           "colorbar": {
            "outlinewidth": 0,
            "ticks": ""
           }
          },
          "colorscale": {
           "diverging": [
            [
             0,
             "#8e0152"
            ],
            [
             0.1,
             "#c51b7d"
            ],
            [
             0.2,
             "#de77ae"
            ],
            [
             0.3,
             "#f1b6da"
            ],
            [
             0.4,
             "#fde0ef"
            ],
            [
             0.5,
             "#f7f7f7"
            ],
            [
             0.6,
             "#e6f5d0"
            ],
            [
             0.7,
             "#b8e186"
            ],
            [
             0.8,
             "#7fbc41"
            ],
            [
             0.9,
             "#4d9221"
            ],
            [
             1,
             "#276419"
            ]
           ],
           "sequential": [
            [
             0,
             "#0d0887"
            ],
            [
             0.1111111111111111,
             "#46039f"
            ],
            [
             0.2222222222222222,
             "#7201a8"
            ],
            [
             0.3333333333333333,
             "#9c179e"
            ],
            [
             0.4444444444444444,
             "#bd3786"
            ],
            [
             0.5555555555555556,
             "#d8576b"
            ],
            [
             0.6666666666666666,
             "#ed7953"
            ],
            [
             0.7777777777777778,
             "#fb9f3a"
            ],
            [
             0.8888888888888888,
             "#fdca26"
            ],
            [
             1,
             "#f0f921"
            ]
           ],
           "sequentialminus": [
            [
             0,
             "#0d0887"
            ],
            [
             0.1111111111111111,
             "#46039f"
            ],
            [
             0.2222222222222222,
             "#7201a8"
            ],
            [
             0.3333333333333333,
             "#9c179e"
            ],
            [
             0.4444444444444444,
             "#bd3786"
            ],
            [
             0.5555555555555556,
             "#d8576b"
            ],
            [
             0.6666666666666666,
             "#ed7953"
            ],
            [
             0.7777777777777778,
             "#fb9f3a"
            ],
            [
             0.8888888888888888,
             "#fdca26"
            ],
            [
             1,
             "#f0f921"
            ]
           ]
          },
          "colorway": [
           "#636efa",
           "#EF553B",
           "#00cc96",
           "#ab63fa",
           "#FFA15A",
           "#19d3f3",
           "#FF6692",
           "#B6E880",
           "#FF97FF",
           "#FECB52"
          ],
          "font": {
           "color": "#2a3f5f"
          },
          "geo": {
           "bgcolor": "white",
           "lakecolor": "white",
           "landcolor": "white",
           "showlakes": true,
           "showland": true,
           "subunitcolor": "#C8D4E3"
          },
          "hoverlabel": {
           "align": "left"
          },
          "hovermode": "closest",
          "mapbox": {
           "style": "light"
          },
          "paper_bgcolor": "white",
          "plot_bgcolor": "white",
          "polar": {
           "angularaxis": {
            "gridcolor": "#EBF0F8",
            "linecolor": "#EBF0F8",
            "ticks": ""
           },
           "bgcolor": "white",
           "radialaxis": {
            "gridcolor": "#EBF0F8",
            "linecolor": "#EBF0F8",
            "ticks": ""
           }
          },
          "scene": {
           "xaxis": {
            "backgroundcolor": "white",
            "gridcolor": "#DFE8F3",
            "gridwidth": 2,
            "linecolor": "#EBF0F8",
            "showbackground": true,
            "ticks": "",
            "zerolinecolor": "#EBF0F8"
           },
           "yaxis": {
            "backgroundcolor": "white",
            "gridcolor": "#DFE8F3",
            "gridwidth": 2,
            "linecolor": "#EBF0F8",
            "showbackground": true,
            "ticks": "",
            "zerolinecolor": "#EBF0F8"
           },
           "zaxis": {
            "backgroundcolor": "white",
            "gridcolor": "#DFE8F3",
            "gridwidth": 2,
            "linecolor": "#EBF0F8",
            "showbackground": true,
            "ticks": "",
            "zerolinecolor": "#EBF0F8"
           }
          },
          "shapedefaults": {
           "line": {
            "color": "#2a3f5f"
           }
          },
          "ternary": {
           "aaxis": {
            "gridcolor": "#DFE8F3",
            "linecolor": "#A2B1C6",
            "ticks": ""
           },
           "baxis": {
            "gridcolor": "#DFE8F3",
            "linecolor": "#A2B1C6",
            "ticks": ""
           },
           "bgcolor": "white",
           "caxis": {
            "gridcolor": "#DFE8F3",
            "linecolor": "#A2B1C6",
            "ticks": ""
           }
          },
          "title": {
           "x": 0.05
          },
          "xaxis": {
           "automargin": true,
           "gridcolor": "#EBF0F8",
           "linecolor": "#EBF0F8",
           "ticks": "",
           "title": {
            "standoff": 15
           },
           "zerolinecolor": "#EBF0F8",
           "zerolinewidth": 2
          },
          "yaxis": {
           "automargin": true,
           "gridcolor": "#EBF0F8",
           "linecolor": "#EBF0F8",
           "ticks": "",
           "title": {
            "standoff": 15
           },
           "zerolinecolor": "#EBF0F8",
           "zerolinewidth": 2
          }
         }
        },
        "title": {
         "text": "Temperature and Emissions Over Time"
        },
        "xaxis": {
         "title": {
          "text": "Year"
         }
        },
        "yaxis": {
         "title": {
          "text": "Values (Normalized)"
         }
        }
       }
      }
     },
     "metadata": {},
     "output_type": "display_data"
    }
   ],
   "source": [
    "\n",
    "# Create the figure\n",
    "fig = go.Figure(layout=go.Layout(template='plotly_white'))\n",
    "\n",
    "# Add traces for each data series\n",
    "fig.add_trace(go.Scatter(\n",
    "    x=global_climate['year'], \n",
    "    y=global_climate['avg_temp'], \n",
    "    mode='lines', \n",
    "    name='Avg Temperature (°C)', \n",
    "    line=dict(color='red')\n",
    "))\n",
    "\n",
    "fig.add_trace(go.Scatter(\n",
    "    x=global_climate['year'], \n",
    "    y=global_climate['co2'] / 1e10, \n",
    "    mode='lines', \n",
    "    name='CO₂ Emissions (x10⁻¹⁰)', \n",
    "    line=dict(color='blue')\n",
    "))\n",
    "\n",
    "fig.add_trace(go.Scatter(\n",
    "    x=global_climate['year'], \n",
    "    y=global_climate['methane'] / 1e10, \n",
    "    mode='lines', \n",
    "    name='Methane Emissions (x10⁻¹⁰)', \n",
    "    line=dict(color='orange')\n",
    "))\n",
    "\n",
    "fig.add_trace(go.Scatter(\n",
    "    x=global_climate['year'], \n",
    "    y=global_climate['ghg_emission'] / 1e10, \n",
    "    mode='lines', \n",
    "    name='GHG Emissions (x10⁻¹⁰)', \n",
    "    line=dict(color='green')\n",
    "))\n",
    "\n",
    "# Customize layout\n",
    "fig.update_layout(\n",
    "    title='Temperature and Emissions Over Time',\n",
    "    xaxis_title='Year',\n",
    "    yaxis_title='Values (Normalized)',\n",
    "    hovermode='x unified',\n",
    "    legend_title_text='Legend',\n",
    ")\n",
    "\n",
    "# Show the plot\n",
    "fig.show()"
   ]
  },
  {
   "cell_type": "markdown",
   "metadata": {},
   "source": [
    "Chart plots four different variables over time, from 1850 to the early 21st century:\n",
    "\n",
    "- Average Global Temperature (Red Line)\n",
    "- CO₂ Emissions (Blue Line)\n",
    "- Methane Emissions (Orange Line)\n",
    "- Total Greenhouse Gas (GHG) Emissions (Green Line)\n",
    "\n",
    "The vertical axis shows normalized values, meaning the data for each line has been scaled to fit on a common axis to compare their trends rather than their absolute amounts (though the legend notes the original scale for emissions).\n",
    "\n",
    "The key takeaway is that all four metrics show a clear increasing trend over the period, particularly accelerating from the mid-20th century (around 1950) onwards. The chart visually suggests a strong correlation between the rise in greenhouse gas emissions (CO₂, Methane, and total GHGs) and the increase in average global temperature."
   ]
  },
  {
   "cell_type": "markdown",
   "metadata": {},
   "source": [
    "---"
   ]
  },
  {
   "cell_type": "markdown",
   "metadata": {},
   "source": [
    "Carbon Emission by sector"
   ]
  },
  {
   "cell_type": "code",
   "execution_count": 8,
   "metadata": {},
   "outputs": [
    {
     "name": "stdout",
     "output_type": "stream",
     "text": [
      "<class 'pandas.core.frame.DataFrame'>\n",
      "RangeIndex: 6560 entries, 0 to 6559\n",
      "Data columns (total 12 columns):\n",
      " #   Column                                        Non-Null Count  Dtype  \n",
      "---  ------                                        --------------  -----  \n",
      " 0   Entity                                        6560 non-null   object \n",
      " 1   Code                                          6208 non-null   object \n",
      " 2   Year                                          6560 non-null   int64  \n",
      " 3   buildings_co2_emissions                       6421 non-null   float64\n",
      " 4   industry_co2_emissions                        6305 non-null   float64\n",
      " 5   land_use_change_and_forestry_co2_emissions    6557 non-null   float64\n",
      " 6   other_fuel_combustion_co2_emissions           6421 non-null   float64\n",
      " 7   transport_co2_emissions                       6421 non-null   float64\n",
      " 8   manufacturing_and_construction_co2_emissions  6421 non-null   float64\n",
      " 9   fugitive_co2_emissions                        2270 non-null   float64\n",
      " 10  electricity_and_heat_co2_emissions            6421 non-null   float64\n",
      " 11  aviation_and_shipping_co2_emissions           6421 non-null   float64\n",
      "dtypes: float64(9), int64(1), object(2)\n",
      "memory usage: 615.1+ KB\n"
     ]
    }
   ],
   "source": [
    "carbon_emission_by_sector = pd.read_csv(\"https://ourworldindata.org/grapher/co-emissions-by-sector.csv?v=1&csvType=full&useColumnShortNames=true\", storage_options = {'User-Agent': 'Our World In Data data fetch/1.0'})\n",
    "carbon_emission_by_sector.info()"
   ]
  },
  {
   "cell_type": "code",
   "execution_count": 9,
   "metadata": {},
   "outputs": [],
   "source": [
    "aus_co2_by_sector = carbon_emission_by_sector[carbon_emission_by_sector['Entity'] == 'Australia']\n",
    "aus_co2 = aus_co2_by_sector[aus_co2_by_sector['Year'] == 2021]"
   ]
  },
  {
   "cell_type": "code",
   "execution_count": 10,
   "metadata": {},
   "outputs": [
    {
     "name": "stderr",
     "output_type": "stream",
     "text": [
      "/var/folders/8v/_f0s3ppn27g2ss5m_lvb311m0000gn/T/ipykernel_39021/2344615319.py:2: SettingWithCopyWarning:\n",
      "\n",
      "\n",
      "A value is trying to be set on a copy of a slice from a DataFrame.\n",
      "Try using .loc[row_indexer,col_indexer] = value instead\n",
      "\n",
      "See the caveats in the documentation: https://pandas.pydata.org/pandas-docs/stable/user_guide/indexing.html#returning-a-view-versus-a-copy\n",
      "\n"
     ]
    }
   ],
   "source": [
    "# Sum all sectors into total\n",
    "aus_co2['Total'] = aus_co2.iloc[:, 3:].sum(axis=1)\n",
    "\n",
    "# Calculate percentage of each sector\n",
    "sector_percentages = aus_co2.iloc[:, 3:-1].div(aus_co2['Total'], axis=0) * 100\n"
   ]
  },
  {
   "cell_type": "code",
   "execution_count": 11,
   "metadata": {},
   "outputs": [],
   "source": [
    "sector_percentages.to_csv('sector_percentages.csv', index=False, encoding='utf-8')"
   ]
  },
  {
   "cell_type": "code",
   "execution_count": 12,
   "metadata": {},
   "outputs": [
    {
     "name": "stdout",
     "output_type": "stream",
     "text": [
      "<class 'pandas.core.frame.DataFrame'>\n",
      "Index: 1 entries, 351 to 351\n",
      "Data columns (total 9 columns):\n",
      " #   Column                                        Non-Null Count  Dtype  \n",
      "---  ------                                        --------------  -----  \n",
      " 0   buildings_co2_emissions                       1 non-null      float64\n",
      " 1   industry_co2_emissions                        1 non-null      float64\n",
      " 2   land_use_change_and_forestry_co2_emissions    1 non-null      float64\n",
      " 3   other_fuel_combustion_co2_emissions           1 non-null      float64\n",
      " 4   transport_co2_emissions                       1 non-null      float64\n",
      " 5   manufacturing_and_construction_co2_emissions  1 non-null      float64\n",
      " 6   fugitive_co2_emissions                        1 non-null      float64\n",
      " 7   electricity_and_heat_co2_emissions            1 non-null      float64\n",
      " 8   aviation_and_shipping_co2_emissions           1 non-null      float64\n",
      "dtypes: float64(9)\n",
      "memory usage: 80.0 bytes\n"
     ]
    }
   ],
   "source": [
    "sector_percentages.info()"
   ]
  },
  {
   "cell_type": "code",
   "execution_count": 21,
   "metadata": {},
   "outputs": [
    {
     "data": {
      "application/vnd.plotly.v1+json": {
       "config": {
        "plotlyServerURL": "https://plot.ly"
       },
       "data": [
        {
         "hole": 0.3,
         "labels": [
          "Buildings",
          "Industry",
          "Land Use Change & Forestry",
          "Other Fuel Combustion",
          "Transport",
          "Manufacturing & Construction",
          "Fugitive Emissions",
          "Electricity & Heat",
          "Aviation & Shipping"
         ],
         "type": "pie",
         "values": [
          3.666479054434349,
          0.7772506767441237,
          0.678084211090563,
          2.0717750797351986,
          23.481010961914716,
          10.768942135027205,
          0.43686848382514537,
          56.752700276058,
          1.3668891211707004
         ]
        }
       ],
       "layout": {
        "template": {
         "data": {
          "bar": [
           {
            "error_x": {
             "color": "#2a3f5f"
            },
            "error_y": {
             "color": "#2a3f5f"
            },
            "marker": {
             "line": {
              "color": "#E5ECF6",
              "width": 0.5
             },
             "pattern": {
              "fillmode": "overlay",
              "size": 10,
              "solidity": 0.2
             }
            },
            "type": "bar"
           }
          ],
          "barpolar": [
           {
            "marker": {
             "line": {
              "color": "#E5ECF6",
              "width": 0.5
             },
             "pattern": {
              "fillmode": "overlay",
              "size": 10,
              "solidity": 0.2
             }
            },
            "type": "barpolar"
           }
          ],
          "carpet": [
           {
            "aaxis": {
             "endlinecolor": "#2a3f5f",
             "gridcolor": "white",
             "linecolor": "white",
             "minorgridcolor": "white",
             "startlinecolor": "#2a3f5f"
            },
            "baxis": {
             "endlinecolor": "#2a3f5f",
             "gridcolor": "white",
             "linecolor": "white",
             "minorgridcolor": "white",
             "startlinecolor": "#2a3f5f"
            },
            "type": "carpet"
           }
          ],
          "choropleth": [
           {
            "colorbar": {
             "outlinewidth": 0,
             "ticks": ""
            },
            "type": "choropleth"
           }
          ],
          "contour": [
           {
            "colorbar": {
             "outlinewidth": 0,
             "ticks": ""
            },
            "colorscale": [
             [
              0,
              "#0d0887"
             ],
             [
              0.1111111111111111,
              "#46039f"
             ],
             [
              0.2222222222222222,
              "#7201a8"
             ],
             [
              0.3333333333333333,
              "#9c179e"
             ],
             [
              0.4444444444444444,
              "#bd3786"
             ],
             [
              0.5555555555555556,
              "#d8576b"
             ],
             [
              0.6666666666666666,
              "#ed7953"
             ],
             [
              0.7777777777777778,
              "#fb9f3a"
             ],
             [
              0.8888888888888888,
              "#fdca26"
             ],
             [
              1,
              "#f0f921"
             ]
            ],
            "type": "contour"
           }
          ],
          "contourcarpet": [
           {
            "colorbar": {
             "outlinewidth": 0,
             "ticks": ""
            },
            "type": "contourcarpet"
           }
          ],
          "heatmap": [
           {
            "colorbar": {
             "outlinewidth": 0,
             "ticks": ""
            },
            "colorscale": [
             [
              0,
              "#0d0887"
             ],
             [
              0.1111111111111111,
              "#46039f"
             ],
             [
              0.2222222222222222,
              "#7201a8"
             ],
             [
              0.3333333333333333,
              "#9c179e"
             ],
             [
              0.4444444444444444,
              "#bd3786"
             ],
             [
              0.5555555555555556,
              "#d8576b"
             ],
             [
              0.6666666666666666,
              "#ed7953"
             ],
             [
              0.7777777777777778,
              "#fb9f3a"
             ],
             [
              0.8888888888888888,
              "#fdca26"
             ],
             [
              1,
              "#f0f921"
             ]
            ],
            "type": "heatmap"
           }
          ],
          "histogram": [
           {
            "marker": {
             "pattern": {
              "fillmode": "overlay",
              "size": 10,
              "solidity": 0.2
             }
            },
            "type": "histogram"
           }
          ],
          "histogram2d": [
           {
            "colorbar": {
             "outlinewidth": 0,
             "ticks": ""
            },
            "colorscale": [
             [
              0,
              "#0d0887"
             ],
             [
              0.1111111111111111,
              "#46039f"
             ],
             [
              0.2222222222222222,
              "#7201a8"
             ],
             [
              0.3333333333333333,
              "#9c179e"
             ],
             [
              0.4444444444444444,
              "#bd3786"
             ],
             [
              0.5555555555555556,
              "#d8576b"
             ],
             [
              0.6666666666666666,
              "#ed7953"
             ],
             [
              0.7777777777777778,
              "#fb9f3a"
             ],
             [
              0.8888888888888888,
              "#fdca26"
             ],
             [
              1,
              "#f0f921"
             ]
            ],
            "type": "histogram2d"
           }
          ],
          "histogram2dcontour": [
           {
            "colorbar": {
             "outlinewidth": 0,
             "ticks": ""
            },
            "colorscale": [
             [
              0,
              "#0d0887"
             ],
             [
              0.1111111111111111,
              "#46039f"
             ],
             [
              0.2222222222222222,
              "#7201a8"
             ],
             [
              0.3333333333333333,
              "#9c179e"
             ],
             [
              0.4444444444444444,
              "#bd3786"
             ],
             [
              0.5555555555555556,
              "#d8576b"
             ],
             [
              0.6666666666666666,
              "#ed7953"
             ],
             [
              0.7777777777777778,
              "#fb9f3a"
             ],
             [
              0.8888888888888888,
              "#fdca26"
             ],
             [
              1,
              "#f0f921"
             ]
            ],
            "type": "histogram2dcontour"
           }
          ],
          "mesh3d": [
           {
            "colorbar": {
             "outlinewidth": 0,
             "ticks": ""
            },
            "type": "mesh3d"
           }
          ],
          "parcoords": [
           {
            "line": {
             "colorbar": {
              "outlinewidth": 0,
              "ticks": ""
             }
            },
            "type": "parcoords"
           }
          ],
          "pie": [
           {
            "automargin": true,
            "type": "pie"
           }
          ],
          "scatter": [
           {
            "fillpattern": {
             "fillmode": "overlay",
             "size": 10,
             "solidity": 0.2
            },
            "type": "scatter"
           }
          ],
          "scatter3d": [
           {
            "line": {
             "colorbar": {
              "outlinewidth": 0,
              "ticks": ""
             }
            },
            "marker": {
             "colorbar": {
              "outlinewidth": 0,
              "ticks": ""
             }
            },
            "type": "scatter3d"
           }
          ],
          "scattercarpet": [
           {
            "marker": {
             "colorbar": {
              "outlinewidth": 0,
              "ticks": ""
             }
            },
            "type": "scattercarpet"
           }
          ],
          "scattergeo": [
           {
            "marker": {
             "colorbar": {
              "outlinewidth": 0,
              "ticks": ""
             }
            },
            "type": "scattergeo"
           }
          ],
          "scattergl": [
           {
            "marker": {
             "colorbar": {
              "outlinewidth": 0,
              "ticks": ""
             }
            },
            "type": "scattergl"
           }
          ],
          "scattermap": [
           {
            "marker": {
             "colorbar": {
              "outlinewidth": 0,
              "ticks": ""
             }
            },
            "type": "scattermap"
           }
          ],
          "scattermapbox": [
           {
            "marker": {
             "colorbar": {
              "outlinewidth": 0,
              "ticks": ""
             }
            },
            "type": "scattermapbox"
           }
          ],
          "scatterpolar": [
           {
            "marker": {
             "colorbar": {
              "outlinewidth": 0,
              "ticks": ""
             }
            },
            "type": "scatterpolar"
           }
          ],
          "scatterpolargl": [
           {
            "marker": {
             "colorbar": {
              "outlinewidth": 0,
              "ticks": ""
             }
            },
            "type": "scatterpolargl"
           }
          ],
          "scatterternary": [
           {
            "marker": {
             "colorbar": {
              "outlinewidth": 0,
              "ticks": ""
             }
            },
            "type": "scatterternary"
           }
          ],
          "surface": [
           {
            "colorbar": {
             "outlinewidth": 0,
             "ticks": ""
            },
            "colorscale": [
             [
              0,
              "#0d0887"
             ],
             [
              0.1111111111111111,
              "#46039f"
             ],
             [
              0.2222222222222222,
              "#7201a8"
             ],
             [
              0.3333333333333333,
              "#9c179e"
             ],
             [
              0.4444444444444444,
              "#bd3786"
             ],
             [
              0.5555555555555556,
              "#d8576b"
             ],
             [
              0.6666666666666666,
              "#ed7953"
             ],
             [
              0.7777777777777778,
              "#fb9f3a"
             ],
             [
              0.8888888888888888,
              "#fdca26"
             ],
             [
              1,
              "#f0f921"
             ]
            ],
            "type": "surface"
           }
          ],
          "table": [
           {
            "cells": {
             "fill": {
              "color": "#EBF0F8"
             },
             "line": {
              "color": "white"
             }
            },
            "header": {
             "fill": {
              "color": "#C8D4E3"
             },
             "line": {
              "color": "white"
             }
            },
            "type": "table"
           }
          ]
         },
         "layout": {
          "annotationdefaults": {
           "arrowcolor": "#2a3f5f",
           "arrowhead": 0,
           "arrowwidth": 1
          },
          "autotypenumbers": "strict",
          "coloraxis": {
           "colorbar": {
            "outlinewidth": 0,
            "ticks": ""
           }
          },
          "colorscale": {
           "diverging": [
            [
             0,
             "#8e0152"
            ],
            [
             0.1,
             "#c51b7d"
            ],
            [
             0.2,
             "#de77ae"
            ],
            [
             0.3,
             "#f1b6da"
            ],
            [
             0.4,
             "#fde0ef"
            ],
            [
             0.5,
             "#f7f7f7"
            ],
            [
             0.6,
             "#e6f5d0"
            ],
            [
             0.7,
             "#b8e186"
            ],
            [
             0.8,
             "#7fbc41"
            ],
            [
             0.9,
             "#4d9221"
            ],
            [
             1,
             "#276419"
            ]
           ],
           "sequential": [
            [
             0,
             "#0d0887"
            ],
            [
             0.1111111111111111,
             "#46039f"
            ],
            [
             0.2222222222222222,
             "#7201a8"
            ],
            [
             0.3333333333333333,
             "#9c179e"
            ],
            [
             0.4444444444444444,
             "#bd3786"
            ],
            [
             0.5555555555555556,
             "#d8576b"
            ],
            [
             0.6666666666666666,
             "#ed7953"
            ],
            [
             0.7777777777777778,
             "#fb9f3a"
            ],
            [
             0.8888888888888888,
             "#fdca26"
            ],
            [
             1,
             "#f0f921"
            ]
           ],
           "sequentialminus": [
            [
             0,
             "#0d0887"
            ],
            [
             0.1111111111111111,
             "#46039f"
            ],
            [
             0.2222222222222222,
             "#7201a8"
            ],
            [
             0.3333333333333333,
             "#9c179e"
            ],
            [
             0.4444444444444444,
             "#bd3786"
            ],
            [
             0.5555555555555556,
             "#d8576b"
            ],
            [
             0.6666666666666666,
             "#ed7953"
            ],
            [
             0.7777777777777778,
             "#fb9f3a"
            ],
            [
             0.8888888888888888,
             "#fdca26"
            ],
            [
             1,
             "#f0f921"
            ]
           ]
          },
          "colorway": [
           "#636efa",
           "#EF553B",
           "#00cc96",
           "#ab63fa",
           "#FFA15A",
           "#19d3f3",
           "#FF6692",
           "#B6E880",
           "#FF97FF",
           "#FECB52"
          ],
          "font": {
           "color": "#2a3f5f"
          },
          "geo": {
           "bgcolor": "white",
           "lakecolor": "white",
           "landcolor": "#E5ECF6",
           "showlakes": true,
           "showland": true,
           "subunitcolor": "white"
          },
          "hoverlabel": {
           "align": "left"
          },
          "hovermode": "closest",
          "mapbox": {
           "style": "light"
          },
          "paper_bgcolor": "white",
          "plot_bgcolor": "#E5ECF6",
          "polar": {
           "angularaxis": {
            "gridcolor": "white",
            "linecolor": "white",
            "ticks": ""
           },
           "bgcolor": "#E5ECF6",
           "radialaxis": {
            "gridcolor": "white",
            "linecolor": "white",
            "ticks": ""
           }
          },
          "scene": {
           "xaxis": {
            "backgroundcolor": "#E5ECF6",
            "gridcolor": "white",
            "gridwidth": 2,
            "linecolor": "white",
            "showbackground": true,
            "ticks": "",
            "zerolinecolor": "white"
           },
           "yaxis": {
            "backgroundcolor": "#E5ECF6",
            "gridcolor": "white",
            "gridwidth": 2,
            "linecolor": "white",
            "showbackground": true,
            "ticks": "",
            "zerolinecolor": "white"
           },
           "zaxis": {
            "backgroundcolor": "#E5ECF6",
            "gridcolor": "white",
            "gridwidth": 2,
            "linecolor": "white",
            "showbackground": true,
            "ticks": "",
            "zerolinecolor": "white"
           }
          },
          "shapedefaults": {
           "line": {
            "color": "#2a3f5f"
           }
          },
          "ternary": {
           "aaxis": {
            "gridcolor": "white",
            "linecolor": "white",
            "ticks": ""
           },
           "baxis": {
            "gridcolor": "white",
            "linecolor": "white",
            "ticks": ""
           },
           "bgcolor": "#E5ECF6",
           "caxis": {
            "gridcolor": "white",
            "linecolor": "white",
            "ticks": ""
           }
          },
          "title": {
           "x": 0.05
          },
          "xaxis": {
           "automargin": true,
           "gridcolor": "white",
           "linecolor": "white",
           "ticks": "",
           "title": {
            "standoff": 15
           },
           "zerolinecolor": "white",
           "zerolinewidth": 2
          },
          "yaxis": {
           "automargin": true,
           "gridcolor": "white",
           "linecolor": "white",
           "ticks": "",
           "title": {
            "standoff": 15
           },
           "zerolinecolor": "white",
           "zerolinewidth": 2
          }
         }
        },
        "title": {
         "text": "CO2 Emissions by Sector in Australia (2021)"
        }
       }
      }
     },
     "metadata": {},
     "output_type": "display_data"
    }
   ],
   "source": [
    "sector_data = sector_percentages\n",
    "\n",
    "labels = [\n",
    "    'Buildings',\n",
    "    'Industry',\n",
    "    'Land Use Change & Forestry',\n",
    "    'Other Fuel Combustion',\n",
    "    'Transport',\n",
    "    'Manufacturing & Construction',\n",
    "    'Fugitive Emissions',\n",
    "    'Electricity & Heat',\n",
    "    'Aviation & Shipping'\n",
    "]\n",
    "values = sector_data.iloc[0].tolist()\n",
    "\n",
    "# Use ⁠ hole ⁠ to create a donut-like pie chart\n",
    "fig = go.Figure(data=[go.Pie(labels=labels, values=values, hole=.3)])\n",
    "\n",
    "# Add title\n",
    "fig.update_layout(title_text=\"CO2 Emissions by Sector in Australia (2021)\")\n",
    "\n",
    "fig.show()"
   ]
  },
  {
   "cell_type": "markdown",
   "metadata": {},
   "source": [
    "The donut chart illustastrates the percentage of CO2 emissions by sector in Australia in 2021. The largest contribution is comes from the electricity and heat secotr, followed by transportation."
   ]
  },
  {
   "cell_type": "markdown",
   "metadata": {},
   "source": [
    "-----"
   ]
  },
  {
   "cell_type": "markdown",
   "metadata": {},
   "source": [
    "### Forest Trend"
   ]
  },
  {
   "cell_type": "code",
   "execution_count": 14,
   "metadata": {},
   "outputs": [
    {
     "name": "stdout",
     "output_type": "stream",
     "text": [
      "<class 'pandas.core.frame.DataFrame'>\n",
      "RangeIndex: 248 entries, 0 to 247\n",
      "Data columns (total 4 columns):\n",
      " #   Column                  Non-Null Count  Dtype  \n",
      "---  ------                  --------------  -----  \n",
      " 0   country name            248 non-null    object \n",
      " 1   country code            248 non-null    object \n",
      " 2   percentage_change       248 non-null    float64\n",
      " 3   percentage_change_norm  248 non-null    float64\n",
      "dtypes: float64(2), object(2)\n",
      "memory usage: 7.9+ KB\n"
     ]
    }
   ],
   "source": [
    "forest_trend.info()"
   ]
  },
  {
   "cell_type": "code",
   "execution_count": 15,
   "metadata": {},
   "outputs": [
    {
     "data": {
      "application/vnd.plotly.v1+json": {
       "config": {
        "plotlyServerURL": "https://plot.ly"
       },
       "data": [
        {
         "colorbar": {
          "title": {
           "text": "Percentage Change"
          }
         },
         "colorscale": [
          [
           0,
           "rgb(165,0,38)"
          ],
          [
           0.1,
           "rgb(215,48,39)"
          ],
          [
           0.2,
           "rgb(244,109,67)"
          ],
          [
           0.3,
           "rgb(253,174,97)"
          ],
          [
           0.4,
           "rgb(254,224,139)"
          ],
          [
           0.5,
           "rgb(255,255,191)"
          ],
          [
           0.6,
           "rgb(217,239,139)"
          ],
          [
           0.7,
           "rgb(166,217,106)"
          ],
          [
           0.8,
           "rgb(102,189,99)"
          ],
          [
           0.9,
           "rgb(26,152,80)"
          ],
          [
           1,
           "rgb(0,104,55)"
          ]
         ],
         "locations": [
          "ABW",
          "AFE",
          "AFG",
          "AFW",
          "AGO",
          "ALB",
          "AND",
          "ARB",
          "ARE",
          "ARG",
          "ARM",
          "ASM",
          "ATG",
          "AUS",
          "AUT",
          "AZE",
          "BDI",
          "BEL",
          "BEN",
          "BFA",
          "BGD",
          "BGR",
          "BHR",
          "BHS",
          "BIH",
          "BLR",
          "BLZ",
          "BMU",
          "BOL",
          "BRA",
          "BRB",
          "BRN",
          "BTN",
          "BWA",
          "CAF",
          "CAN",
          "CEB",
          "CHE",
          "CHL",
          "CHN",
          "CIV",
          "CMR",
          "COD",
          "COG",
          "COL",
          "COM",
          "CPV",
          "CRI",
          "CSS",
          "CUB",
          "CYM",
          "CYP",
          "CZE",
          "DEU",
          "DJI",
          "DMA",
          "DNK",
          "DOM",
          "DZA",
          "EAP",
          "EAR",
          "EAS",
          "ECA",
          "ECS",
          "ECU",
          "EGY",
          "EMU",
          "ERI",
          "ESP",
          "EST",
          "ETH",
          "EUU",
          "FCS",
          "FIN",
          "FJI",
          "FRA",
          "FRO",
          "FSM",
          "GAB",
          "GBR",
          "GEO",
          "GHA",
          "GIN",
          "GMB",
          "GNB",
          "GNQ",
          "GRC",
          "GRD",
          "GRL",
          "GTM",
          "GUM",
          "GUY",
          "HIC",
          "HND",
          "HPC",
          "HRV",
          "HTI",
          "HUN",
          "IBD",
          "IBT",
          "IDA",
          "IDB",
          "IDN",
          "IDX",
          "IMN",
          "IND",
          "IRL",
          "IRN",
          "IRQ",
          "ISL",
          "ITA",
          "JAM",
          "JOR",
          "JPN",
          "KAZ",
          "KEN",
          "KGZ",
          "KHM",
          "KIR",
          "KNA",
          "KOR",
          "KWT",
          "LAC",
          "LAO",
          "LBN",
          "LBR",
          "LBY",
          "LCA",
          "LCN",
          "LDC",
          "LIC",
          "LIE",
          "LKA",
          "LMC",
          "LMY",
          "LSO",
          "LTE",
          "LTU",
          "LUX",
          "LVA",
          "MAR",
          "MDA",
          "MDG",
          "MDV",
          "MEA",
          "MEX",
          "MHL",
          "MIC",
          "MKD",
          "MLI",
          "MLT",
          "MMR",
          "MNA",
          "MNG",
          "MNP",
          "MOZ",
          "MRT",
          "MUS",
          "MWI",
          "MYS",
          "NAC",
          "NAM",
          "NCL",
          "NER",
          "NGA",
          "NIC",
          "NLD",
          "NOR",
          "NPL",
          "NZL",
          "OED",
          "OMN",
          "OSS",
          "PAK",
          "PAN",
          "PER",
          "PHL",
          "PLW",
          "PNG",
          "POL",
          "PRE",
          "PRI",
          "PRK",
          "PRT",
          "PRY",
          "PSS",
          "PST",
          "PYF",
          "ROU",
          "RUS",
          "RWA",
          "SAS",
          "SAU",
          "SEN",
          "SGP",
          "SLB",
          "SLE",
          "SLV",
          "SMR",
          "SOM",
          "SSA",
          "SSF",
          "SST",
          "STP",
          "SUR",
          "SVK",
          "SVN",
          "SWE",
          "SWZ",
          "SYC",
          "SYR",
          "TCA",
          "TCD",
          "TEA",
          "TEC",
          "TGO",
          "THA",
          "TJK",
          "TKM",
          "TLA",
          "TLS",
          "TMN",
          "TON",
          "TSA",
          "TSS",
          "TTO",
          "TUN",
          "TUR",
          "TUV",
          "TZA",
          "UGA",
          "UKR",
          "UMC",
          "URY",
          "USA",
          "UZB",
          "VCT",
          "VEN",
          "VGB",
          "VIR",
          "VNM",
          "VUT",
          "WLD",
          "WSM",
          "YEM",
          "ZAF",
          "ZMB",
          "ZWE"
         ],
         "text": [
          "Aruba",
          "Africa Eastern and Southern",
          "Afghanistan",
          "Africa Western and Central",
          "Angola",
          "Albania",
          "Andorra",
          "Arab World",
          "United Arab Emirates",
          "Argentina",
          "Armenia",
          "American Samoa",
          "Antigua and Barbuda",
          "Australia",
          "Austria",
          "Azerbaijan",
          "Burundi",
          "Belgium",
          "Benin",
          "Burkina Faso",
          "Bangladesh",
          "Bulgaria",
          "Bahrain",
          "Bahamas, The",
          "Bosnia and Herzegovina",
          "Belarus",
          "Belize",
          "Bermuda",
          "Bolivia",
          "Brazil",
          "Barbados",
          "Brunei Darussalam",
          "Bhutan",
          "Botswana",
          "Central African Republic",
          "Canada",
          "Central Europe and the Baltics",
          "Switzerland",
          "Chile",
          "China",
          "Cote d'Ivoire",
          "Cameroon",
          "Congo, Dem. Rep.",
          "Congo, Rep.",
          "Colombia",
          "Comoros",
          "Cabo Verde",
          "Costa Rica",
          "Caribbean small states",
          "Cuba",
          "Cayman Islands",
          "Cyprus",
          "Czechia",
          "Germany",
          "Djibouti",
          "Dominica",
          "Denmark",
          "Dominican Republic",
          "Algeria",
          "East Asia & Pacific (excluding high income)",
          "Early-demographic dividend",
          "East Asia & Pacific",
          "Europe & Central Asia (excluding high income)",
          "Europe & Central Asia",
          "Ecuador",
          "Egypt, Arab Rep.",
          "Euro area",
          "Eritrea",
          "Spain",
          "Estonia",
          "Ethiopia",
          "European Union",
          "Fragile and conflict affected situations",
          "Finland",
          "Fiji",
          "France",
          "Faroe Islands",
          "Micronesia, Fed. Sts.",
          "Gabon",
          "United Kingdom",
          "Georgia",
          "Ghana",
          "Guinea",
          "Gambia, The",
          "Guinea-Bissau",
          "Equatorial Guinea",
          "Greece",
          "Grenada",
          "Greenland",
          "Guatemala",
          "Guam",
          "Guyana",
          "High income",
          "Honduras",
          "Heavily indebted poor countries (HIPC)",
          "Croatia",
          "Haiti",
          "Hungary",
          "IBRD only",
          "IDA & IBRD total",
          "IDA total",
          "IDA blend",
          "Indonesia",
          "IDA only",
          "Isle of Man",
          "India",
          "Ireland",
          "Iran, Islamic Rep.",
          "Iraq",
          "Iceland",
          "Italy",
          "Jamaica",
          "Jordan",
          "Japan",
          "Kazakhstan",
          "Kenya",
          "Kyrgyz Republic",
          "Cambodia",
          "Kiribati",
          "St. Kitts and Nevis",
          "Korea, Rep.",
          "Kuwait",
          "Latin America & Caribbean (excluding high income)",
          "Lao PDR",
          "Lebanon",
          "Liberia",
          "Libya",
          "St. Lucia",
          "Latin America & Caribbean",
          "Least developed countries: UN classification",
          "Low income",
          "Liechtenstein",
          "Sri Lanka",
          "Lower middle income",
          "Low & middle income",
          "Lesotho",
          "Late-demographic dividend",
          "Lithuania",
          "Luxembourg",
          "Latvia",
          "Morocco",
          "Moldova",
          "Madagascar",
          "Maldives",
          "Middle East & North Africa",
          "Mexico",
          "Marshall Islands",
          "Middle income",
          "North Macedonia",
          "Mali",
          "Malta",
          "Myanmar",
          "Middle East & North Africa (excluding high income)",
          "Mongolia",
          "Northern Mariana Islands",
          "Mozambique",
          "Mauritania",
          "Mauritius",
          "Malawi",
          "Malaysia",
          "North America",
          "Namibia",
          "New Caledonia",
          "Niger",
          "Nigeria",
          "Nicaragua",
          "Netherlands",
          "Norway",
          "Nepal",
          "New Zealand",
          "OECD members",
          "Oman",
          "Other small states",
          "Pakistan",
          "Panama",
          "Peru",
          "Philippines",
          "Palau",
          "Papua New Guinea",
          "Poland",
          "Pre-demographic dividend",
          "Puerto Rico",
          "Korea, Dem. People's Rep.",
          "Portugal",
          "Paraguay",
          "Pacific island small states",
          "Post-demographic dividend",
          "French Polynesia",
          "Romania",
          "Russian Federation",
          "Rwanda",
          "South Asia",
          "Saudi Arabia",
          "Senegal",
          "Singapore",
          "Solomon Islands",
          "Sierra Leone",
          "El Salvador",
          "San Marino",
          "Somalia",
          "Sub-Saharan Africa (excluding high income)",
          "Sub-Saharan Africa",
          "Small states",
          "Sao Tome and Principe",
          "Suriname",
          "Slovak Republic",
          "Slovenia",
          "Sweden",
          "Eswatini",
          "Seychelles",
          "Syrian Arab Republic",
          "Turks and Caicos Islands",
          "Chad",
          "East Asia & Pacific (IDA & IBRD countries)",
          "Europe & Central Asia (IDA & IBRD countries)",
          "Togo",
          "Thailand",
          "Tajikistan",
          "Turkmenistan",
          "Latin America & the Caribbean (IDA & IBRD countries)",
          "Timor-Leste",
          "Middle East & North Africa (IDA & IBRD countries)",
          "Tonga",
          "South Asia (IDA & IBRD)",
          "Sub-Saharan Africa (IDA & IBRD countries)",
          "Trinidad and Tobago",
          "Tunisia",
          "Turkiye",
          "Tuvalu",
          "Tanzania",
          "Uganda",
          "Ukraine",
          "Upper middle income",
          "Uruguay",
          "United States",
          "Uzbekistan",
          "St. Vincent and the Grenadines",
          "Venezuela, RB",
          "British Virgin Islands",
          "Virgin Islands (U.S.)",
          "Viet Nam",
          "Vanuatu",
          "World",
          "Samoa",
          "Yemen, Rep.",
          "South Africa",
          "Zambia",
          "Zimbabwe"
         ],
         "type": "choropleth",
         "z": {
          "bdata": "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",
          "dtype": "f8"
         }
        }
       ],
       "layout": {
        "geo": {
         "projection": {
          "type": "equirectangular"
         },
         "showcoastlines": false,
         "showframe": false
        },
        "template": {
         "data": {
          "bar": [
           {
            "error_x": {
             "color": "#2a3f5f"
            },
            "error_y": {
             "color": "#2a3f5f"
            },
            "marker": {
             "line": {
              "color": "#E5ECF6",
              "width": 0.5
             },
             "pattern": {
              "fillmode": "overlay",
              "size": 10,
              "solidity": 0.2
             }
            },
            "type": "bar"
           }
          ],
          "barpolar": [
           {
            "marker": {
             "line": {
              "color": "#E5ECF6",
              "width": 0.5
             },
             "pattern": {
              "fillmode": "overlay",
              "size": 10,
              "solidity": 0.2
             }
            },
            "type": "barpolar"
           }
          ],
          "carpet": [
           {
            "aaxis": {
             "endlinecolor": "#2a3f5f",
             "gridcolor": "white",
             "linecolor": "white",
             "minorgridcolor": "white",
             "startlinecolor": "#2a3f5f"
            },
            "baxis": {
             "endlinecolor": "#2a3f5f",
             "gridcolor": "white",
             "linecolor": "white",
             "minorgridcolor": "white",
             "startlinecolor": "#2a3f5f"
            },
            "type": "carpet"
           }
          ],
          "choropleth": [
           {
            "colorbar": {
             "outlinewidth": 0,
             "ticks": ""
            },
            "type": "choropleth"
           }
          ],
          "contour": [
           {
            "colorbar": {
             "outlinewidth": 0,
             "ticks": ""
            },
            "colorscale": [
             [
              0,
              "#0d0887"
             ],
             [
              0.1111111111111111,
              "#46039f"
             ],
             [
              0.2222222222222222,
              "#7201a8"
             ],
             [
              0.3333333333333333,
              "#9c179e"
             ],
             [
              0.4444444444444444,
              "#bd3786"
             ],
             [
              0.5555555555555556,
              "#d8576b"
             ],
             [
              0.6666666666666666,
              "#ed7953"
             ],
             [
              0.7777777777777778,
              "#fb9f3a"
             ],
             [
              0.8888888888888888,
              "#fdca26"
             ],
             [
              1,
              "#f0f921"
             ]
            ],
            "type": "contour"
           }
          ],
          "contourcarpet": [
           {
            "colorbar": {
             "outlinewidth": 0,
             "ticks": ""
            },
            "type": "contourcarpet"
           }
          ],
          "heatmap": [
           {
            "colorbar": {
             "outlinewidth": 0,
             "ticks": ""
            },
            "colorscale": [
             [
              0,
              "#0d0887"
             ],
             [
              0.1111111111111111,
              "#46039f"
             ],
             [
              0.2222222222222222,
              "#7201a8"
             ],
             [
              0.3333333333333333,
              "#9c179e"
             ],
             [
              0.4444444444444444,
              "#bd3786"
             ],
             [
              0.5555555555555556,
              "#d8576b"
             ],
             [
              0.6666666666666666,
              "#ed7953"
             ],
             [
              0.7777777777777778,
              "#fb9f3a"
             ],
             [
              0.8888888888888888,
              "#fdca26"
             ],
             [
              1,
              "#f0f921"
             ]
            ],
            "type": "heatmap"
           }
          ],
          "histogram": [
           {
            "marker": {
             "pattern": {
              "fillmode": "overlay",
              "size": 10,
              "solidity": 0.2
             }
            },
            "type": "histogram"
           }
          ],
          "histogram2d": [
           {
            "colorbar": {
             "outlinewidth": 0,
             "ticks": ""
            },
            "colorscale": [
             [
              0,
              "#0d0887"
             ],
             [
              0.1111111111111111,
              "#46039f"
             ],
             [
              0.2222222222222222,
              "#7201a8"
             ],
             [
              0.3333333333333333,
              "#9c179e"
             ],
             [
              0.4444444444444444,
              "#bd3786"
             ],
             [
              0.5555555555555556,
              "#d8576b"
             ],
             [
              0.6666666666666666,
              "#ed7953"
             ],
             [
              0.7777777777777778,
              "#fb9f3a"
             ],
             [
              0.8888888888888888,
              "#fdca26"
             ],
             [
              1,
              "#f0f921"
             ]
            ],
            "type": "histogram2d"
           }
          ],
          "histogram2dcontour": [
           {
            "colorbar": {
             "outlinewidth": 0,
             "ticks": ""
            },
            "colorscale": [
             [
              0,
              "#0d0887"
             ],
             [
              0.1111111111111111,
              "#46039f"
             ],
             [
              0.2222222222222222,
              "#7201a8"
             ],
             [
              0.3333333333333333,
              "#9c179e"
             ],
             [
              0.4444444444444444,
              "#bd3786"
             ],
             [
              0.5555555555555556,
              "#d8576b"
             ],
             [
              0.6666666666666666,
              "#ed7953"
             ],
             [
              0.7777777777777778,
              "#fb9f3a"
             ],
             [
              0.8888888888888888,
              "#fdca26"
             ],
             [
              1,
              "#f0f921"
             ]
            ],
            "type": "histogram2dcontour"
           }
          ],
          "mesh3d": [
           {
            "colorbar": {
             "outlinewidth": 0,
             "ticks": ""
            },
            "type": "mesh3d"
           }
          ],
          "parcoords": [
           {
            "line": {
             "colorbar": {
              "outlinewidth": 0,
              "ticks": ""
             }
            },
            "type": "parcoords"
           }
          ],
          "pie": [
           {
            "automargin": true,
            "type": "pie"
           }
          ],
          "scatter": [
           {
            "fillpattern": {
             "fillmode": "overlay",
             "size": 10,
             "solidity": 0.2
            },
            "type": "scatter"
           }
          ],
          "scatter3d": [
           {
            "line": {
             "colorbar": {
              "outlinewidth": 0,
              "ticks": ""
             }
            },
            "marker": {
             "colorbar": {
              "outlinewidth": 0,
              "ticks": ""
             }
            },
            "type": "scatter3d"
           }
          ],
          "scattercarpet": [
           {
            "marker": {
             "colorbar": {
              "outlinewidth": 0,
              "ticks": ""
             }
            },
            "type": "scattercarpet"
           }
          ],
          "scattergeo": [
           {
            "marker": {
             "colorbar": {
              "outlinewidth": 0,
              "ticks": ""
             }
            },
            "type": "scattergeo"
           }
          ],
          "scattergl": [
           {
            "marker": {
             "colorbar": {
              "outlinewidth": 0,
              "ticks": ""
             }
            },
            "type": "scattergl"
           }
          ],
          "scattermap": [
           {
            "marker": {
             "colorbar": {
              "outlinewidth": 0,
              "ticks": ""
             }
            },
            "type": "scattermap"
           }
          ],
          "scattermapbox": [
           {
            "marker": {
             "colorbar": {
              "outlinewidth": 0,
              "ticks": ""
             }
            },
            "type": "scattermapbox"
           }
          ],
          "scatterpolar": [
           {
            "marker": {
             "colorbar": {
              "outlinewidth": 0,
              "ticks": ""
             }
            },
            "type": "scatterpolar"
           }
          ],
          "scatterpolargl": [
           {
            "marker": {
             "colorbar": {
              "outlinewidth": 0,
              "ticks": ""
             }
            },
            "type": "scatterpolargl"
           }
          ],
          "scatterternary": [
           {
            "marker": {
             "colorbar": {
              "outlinewidth": 0,
              "ticks": ""
             }
            },
            "type": "scatterternary"
           }
          ],
          "surface": [
           {
            "colorbar": {
             "outlinewidth": 0,
             "ticks": ""
            },
            "colorscale": [
             [
              0,
              "#0d0887"
             ],
             [
              0.1111111111111111,
              "#46039f"
             ],
             [
              0.2222222222222222,
              "#7201a8"
             ],
             [
              0.3333333333333333,
              "#9c179e"
             ],
             [
              0.4444444444444444,
              "#bd3786"
             ],
             [
              0.5555555555555556,
              "#d8576b"
             ],
             [
              0.6666666666666666,
              "#ed7953"
             ],
             [
              0.7777777777777778,
              "#fb9f3a"
             ],
             [
              0.8888888888888888,
              "#fdca26"
             ],
             [
              1,
              "#f0f921"
             ]
            ],
            "type": "surface"
           }
          ],
          "table": [
           {
            "cells": {
             "fill": {
              "color": "#EBF0F8"
             },
             "line": {
              "color": "white"
             }
            },
            "header": {
             "fill": {
              "color": "#C8D4E3"
             },
             "line": {
              "color": "white"
             }
            },
            "type": "table"
           }
          ]
         },
         "layout": {
          "annotationdefaults": {
           "arrowcolor": "#2a3f5f",
           "arrowhead": 0,
           "arrowwidth": 1
          },
          "autotypenumbers": "strict",
          "coloraxis": {
           "colorbar": {
            "outlinewidth": 0,
            "ticks": ""
           }
          },
          "colorscale": {
           "diverging": [
            [
             0,
             "#8e0152"
            ],
            [
             0.1,
             "#c51b7d"
            ],
            [
             0.2,
             "#de77ae"
            ],
            [
             0.3,
             "#f1b6da"
            ],
            [
             0.4,
             "#fde0ef"
            ],
            [
             0.5,
             "#f7f7f7"
            ],
            [
             0.6,
             "#e6f5d0"
            ],
            [
             0.7,
             "#b8e186"
            ],
            [
             0.8,
             "#7fbc41"
            ],
            [
             0.9,
             "#4d9221"
            ],
            [
             1,
             "#276419"
            ]
           ],
           "sequential": [
            [
             0,
             "#0d0887"
            ],
            [
             0.1111111111111111,
             "#46039f"
            ],
            [
             0.2222222222222222,
             "#7201a8"
            ],
            [
             0.3333333333333333,
             "#9c179e"
            ],
            [
             0.4444444444444444,
             "#bd3786"
            ],
            [
             0.5555555555555556,
             "#d8576b"
            ],
            [
             0.6666666666666666,
             "#ed7953"
            ],
            [
             0.7777777777777778,
             "#fb9f3a"
            ],
            [
             0.8888888888888888,
             "#fdca26"
            ],
            [
             1,
             "#f0f921"
            ]
           ],
           "sequentialminus": [
            [
             0,
             "#0d0887"
            ],
            [
             0.1111111111111111,
             "#46039f"
            ],
            [
             0.2222222222222222,
             "#7201a8"
            ],
            [
             0.3333333333333333,
             "#9c179e"
            ],
            [
             0.4444444444444444,
             "#bd3786"
            ],
            [
             0.5555555555555556,
             "#d8576b"
            ],
            [
             0.6666666666666666,
             "#ed7953"
            ],
            [
             0.7777777777777778,
             "#fb9f3a"
            ],
            [
             0.8888888888888888,
             "#fdca26"
            ],
            [
             1,
             "#f0f921"
            ]
           ]
          },
          "colorway": [
           "#636efa",
           "#EF553B",
           "#00cc96",
           "#ab63fa",
           "#FFA15A",
           "#19d3f3",
           "#FF6692",
           "#B6E880",
           "#FF97FF",
           "#FECB52"
          ],
          "font": {
           "color": "#2a3f5f"
          },
          "geo": {
           "bgcolor": "white",
           "lakecolor": "white",
           "landcolor": "#E5ECF6",
           "showlakes": true,
           "showland": true,
           "subunitcolor": "white"
          },
          "hoverlabel": {
           "align": "left"
          },
          "hovermode": "closest",
          "mapbox": {
           "style": "light"
          },
          "paper_bgcolor": "white",
          "plot_bgcolor": "#E5ECF6",
          "polar": {
           "angularaxis": {
            "gridcolor": "white",
            "linecolor": "white",
            "ticks": ""
           },
           "bgcolor": "#E5ECF6",
           "radialaxis": {
            "gridcolor": "white",
            "linecolor": "white",
            "ticks": ""
           }
          },
          "scene": {
           "xaxis": {
            "backgroundcolor": "#E5ECF6",
            "gridcolor": "white",
            "gridwidth": 2,
            "linecolor": "white",
            "showbackground": true,
            "ticks": "",
            "zerolinecolor": "white"
           },
           "yaxis": {
            "backgroundcolor": "#E5ECF6",
            "gridcolor": "white",
            "gridwidth": 2,
            "linecolor": "white",
            "showbackground": true,
            "ticks": "",
            "zerolinecolor": "white"
           },
           "zaxis": {
            "backgroundcolor": "#E5ECF6",
            "gridcolor": "white",
            "gridwidth": 2,
            "linecolor": "white",
            "showbackground": true,
            "ticks": "",
            "zerolinecolor": "white"
           }
          },
          "shapedefaults": {
           "line": {
            "color": "#2a3f5f"
           }
          },
          "ternary": {
           "aaxis": {
            "gridcolor": "white",
            "linecolor": "white",
            "ticks": ""
           },
           "baxis": {
            "gridcolor": "white",
            "linecolor": "white",
            "ticks": ""
           },
           "bgcolor": "#E5ECF6",
           "caxis": {
            "gridcolor": "white",
            "linecolor": "white",
            "ticks": ""
           }
          },
          "title": {
           "x": 0.05
          },
          "xaxis": {
           "automargin": true,
           "gridcolor": "white",
           "linecolor": "white",
           "ticks": "",
           "title": {
            "standoff": 15
           },
           "zerolinecolor": "white",
           "zerolinewidth": 2
          },
          "yaxis": {
           "automargin": true,
           "gridcolor": "white",
           "linecolor": "white",
           "ticks": "",
           "title": {
            "standoff": 15
           },
           "zerolinecolor": "white",
           "zerolinewidth": 2
          }
         }
        },
        "title": {
         "text": "Percentage Change in Forest Area (2000-2022)"
        }
       }
      }
     },
     "metadata": {},
     "output_type": "display_data"
    }
   ],
   "source": [
    "fig = go.Figure(data=go.Choropleth(\n",
    "    locations=forest_trend['country code'],  # ISO-3 country codes\n",
    "    z=forest_trend['percentage_change'],  # Percentage change in forest area\n",
    "    text=forest_trend['country name'],  # Hover text\n",
    "    colorscale=\"RdYlGn\",  # Color scale\n",
    "    colorbar_title=\"Percentage Change\"\n",
    "))\n",
    "\n",
    "fig.update_layout(\n",
    "    title_text=\"Percentage Change in Forest Area (2000-2022)\",\n",
    "    geo=dict(\n",
    "        showframe=False,\n",
    "        showcoastlines=False,\n",
    "        projection_type='equirectangular'\n",
    "    )\n",
    ")\n",
    "\n",
    "fig.show()"
   ]
  },
  {
   "cell_type": "code",
   "execution_count": 16,
   "metadata": {},
   "outputs": [
    {
     "data": {
      "application/vnd.plotly.v1+json": {
       "config": {
        "plotlyServerURL": "https://plot.ly"
       },
       "data": [
        {
         "histnorm": "probability density",
         "marker": {
          "color": "lightblue"
         },
         "name": "Frequency (Histogram)",
         "nbinsx": 30,
         "type": "histogram",
         "x": {
          "bdata": "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",
          "dtype": "f8"
         }
        },
        {
         "line": {
          "color": "blue"
         },
         "mode": "lines",
         "name": "KDE",
         "type": "scatter",
         "x": {
          "bdata": "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",
          "dtype": "f8"
         },
         "y": {
          "bdata": "upBFoSDXXD+4PIk3a8BgP9GmC1cSZGM/nnEI1stdZj+aWWEzCLVpP3nU1ZVNcW0/H41MARDNcD9/YaxQcxtzPwTfwydnp3U/GVbR8FR0eD9EO31HaIV7P8quNpF93X4/8T/QKYg/gT/qf/bYFDaDPxMXxsInU4U/8IXZRzqXhz9AP7MjdQKKP4wkI2WqlIw/UpJrulBNjz8kvUYowBWRP5vZ6L/4lpI/E7n3u34plD9iOBCKUMyVP3Cgl/lAfpc//vSo8Po9mT/k++RIBgqbP8Z5ncrN4Jw/V6/6M6bAnj8V/2oY61OgP7Its49PSqE/6STrOqNCoj84N+HKDzyjPw0lYerKNaQ/7bJgPhsvpT8mKSlCXSemP4X8Od8HHqc/aN9MobASqD8o5JhoDwWpP+gVLH8B9ak/ALvh+Yviqj//HQZS3c2rP+rw/ClOt6w/m9ESNWGfrT+Le9RAwoauP0GfoWREbq8/VE8/sW8rsD8/7xcl1qCwP6u3mrrwF7E/P52O+2aRsT9d0dRQ6g2yPz3Lq18zjrI/3sxjVP8Ssz/m1zAtDZ2zP6CdmxcbLbQ/BsBW8uPDtD9Cj/cDHWK1P3LeTfVzCLY/AyjmG423tj/n+7ceAnC3Py8cN/xgMrg/YOUHdiv/uD/0rJDj1ta5PxeOomnMubo/odGUkmmouz+cT4U/AaO8P6tIEuncqb0/eQzhIz69vj/3Aq9bYN2/PzTTRVs9hcA/FqmcCGEiwT8VL8qCNcbBP1fmIfbVcMI/EW3sZV8iwz/Rl22U8drDPwxLAdavmsQ/Irf+ysFhxT8/AEX9UzDGP+H0oF+YBsc/0N+Ursbkxz/yR2SzHMvIP/Zaj2veuck/nlAWGFaxyj+U5d041LHLPwaEVXmvu8w/xG8BlETPzT9O67wy9uzOPwn2sGiWCtA/7mgAVCuk0D9bynjQc0PRP5n35a6s6NE/XDhiphWU0j+YbApn8UXTP5lYg7OF/tM/bvQBfxu+1D84C2kM/4TVP+Uh9gmAU9Y/l8v0o/Ep1z8P7hCIqgjYP/uINNIE8Ng/ovlx213g2T+nr1zjFdraPxvcaYyP3ds/vi6IJC/r3D8vSBW0WQPeP2CMsc5zJt8/NvOVEXAq4D/Sk+fkfsfgP9AaWymTauE/CLwxzNUT4j8608uuasPiP67tGmBveeM/6vLmxvk15D/A54fEFvnkPzun7NjIwuU/3jTS0QaT5j+9IOKPumnnP3UV/ey/Rug/rOU2z+Mp6T90NPNz4xLqP5tuH/5rAes/ll+1URr16z+cXYFFe+3sP7wvmzIM6u0/vfkf5zvq7j/ld4//a+3vPzUq4lN5efA/TPjyYA798D+arH03GIHxPxV4A/k3BfI/P7PucQ6J8j9TNavVPQzzP/mMi5VrjvM/JCQRSkIP9D+f2FGlc470P0DFkGS6C/U/CoW4NtyG9T+m9z+Nq//1P25PIk0JdvY/33f4Vebp9j9D/erVRFv3PxlZHGI5yvc/VZVNzOs2+D+sD9Kvl6H4P11/YLGMCvk/72fjbi5y+T/I8wwe9Nj5PytWFNpnP/o/br6XoiWm+j/ugRgP2g37P7l327tAd/s/8QgbdiLj+z/t4GIuU1L8PwB0mLivxfw/qqmcYRs+/T/drZlifbz9P5Ay9zm+Qf4/YUSd8cTO/j997KpZdGT/P6vEDh/UAQBAI5qSTplWAEA0K4xx7LAAQBMBGpgoEQFA83XT1Z93AUDhHWzzmeQBQOk+vylTWAJAotl75/rSAkAWcLiislQDQA8+5reM3QNAKGztV4ttBECRMayHnwQFQJ7gnDOoogVAamwDW3FHBkBxH6lWs/IGQKhm0j8SpAdAnyWzfB1bCEApoyV4TxcJQAGFwooN2AlA5cGhG6icCkCyf/r+WmQLQJTtgRhOLgxAki7JRpb5DEBzM+2bNsUNQDAbseYhkA5AFBmYjTxZD0DOLOddrw8QQGTz2W6rcBBA5bVbNPbOEECQ//hz8SkRQFYoWqL+gBFAcsMCoIDTEUDmOwWI3SASQIsHP4mAaBJAlevywdupEkB96wgVauQSQKc65u+wFxNATZm490FDE0DteTuVvGYTQAVHa1bPgRNAL9NKHjmUE0BTkswbyp0TQAR8FoJknhNADwWs/fyVE0ANQoPjmoQTQBBPnRhYahNATeNZsmBHE0CNZV1R8hsTQBDScjpb6BJAz9BKMvmsEkALE0wiOGoSQLZ/zI2QIBJAdNj234XQEUALaU+bpHoRQEZnOHSAHxFAcq8CYLK/EEDXpAKi1lsQQFLtnL8V6Q9AM2mAitgUD0AI1jOAKzwOQLJqibQ8YA1A0w89cS+CDEBcG16GGaMLQCJE6PQAxApAOlOX+NnlCUCfRbdzhQkJQFBShL3PLwhAjAOp0W9ZB0AVGJfdBocGQDsq4iYguQVAXT1uRDHwBEBprDKjmiwEQHJRg06obgNA9K9D85K2AkDdMRYVgQQCQGFpfmyIWAFApx0CZa+yAEBqepKy7hIAQNRcy+tl8v4/Bf7Ez7zK/T/IjJgJla78P2w68WCTnfs/OWP3mlGX+j+7JMKDYZv5P90NY8lPqfg/or9ioKbA9z/Ldtgq8OD2P//HlZy4CfY/r/0qGJA69T8Xic9BDHP0P6cDfYbJsvM/CTbKFmz58j+Tx02WoEbyP0AbhIEcmvE/8ApfTZ7z8D8BNMVE7VLwP88oqlKyb+8/iUtyO3NE7j8gqm/B2iPtP2dwzcGyDew/h7/7Ys8B6z/+a2LSDADqP727W+hMCOk/NP+5xHQa6D+qlLR1ajbnP8B5RLoSXOY/gsq4706L5T8o26Y4+8PkP8UeWunsBeQ/Y2SbQ/FQ4z+vrR2JzKTiP/kSLGk5AeI/4Zpsy+hl4T9uZ8X2gdLgPxcCwhCjRuA/xwem3sOD3z/yz/xomofeP2VyR1Pbl90/qW/GnI+z3D/caRkcu9nbP+UOghtgCds/srdUCoNB2j+wnLUnLoHZPyHd8At1x9g/zASy93cT2D/C9wTTZmTXP3/OQMmDudY/UvOjciUS1j+4AFyAuG3VPwrezuPAy9Q/zyQZbtor1D+5obXouI3TP41cA6wn8dI/i5DHuwhW0j9pysB0U7zRPyCP1tgSJNE/jcZZiWON0D/w6z4A4/DPP1rIADLrys4/tszy+mWpzT9RMKQH6YzMP96wviQUdss/TXN3LIxlyj/EWHg29lvJPyfPGyLzWcg/svm/jhtgxz8/LaZR/G7GPxFcb3QTh8U/09Pwws2oxD8iiPbqhNTDPwCXrCx+CsM/J3LvlulKwj8YnLrH4ZXBP/9xZSZs68A/sBJbi3lLwD9GjwCPzmu/PwneC/kAVb4/ur3ibf9RvT8qNEl1IWK8P1+AMuakhLs/o+mH8rG4uj+0gEREX/25P2EXcxS2Ubk/HlhzJ7a0uD8+zu+cWSW4P/zzAYWYorc/umYHL2wrtz8Drowp0r62P/DCW+3OW7Y/oPIgMHABtj8JMC/dzq61Pzb2sbQQY7U/H30Pk2kdtT+Pj2djHN20P+FEAsF7obQ/3TYxTOpptD9n8Km32jW0P1XlxZPPBLQ/inhn3VrWsz83xY5WHaqzP8kv9K7Ff7M/3DZPgw9Xsz+uUEc6wi+zPxoGacavCbM/9tzVVLPksj8N+7nwr8CyP9N/1COPnbI/rbeDnD97sj83gsDhs1myP4shOR3hOLI/e5VBA74Ysj/4uI/fQfmxP21OsMxj2rE/IfnQGhq8sT//b+foWZ6xPyxgcvEWgbE/LGUbikNksT+fGnbT0EexP32uDBSvK7E/o7r2N84PsT+4knRsHvSwP1EmkM2Q2LA/pKGrGhi9sD+kSUBmqaGwP+JF7LQ8hrA/Lg9VgM1qsD8mlFgTW0+wP7d0hLboM7A/w6zFpX0YsD+5TFOVSfqvP7b2h3LYw68/RVl64ciNrz/7KCvHPlivP0XjQ51eI68/sGkh0Urvrj+dDH3sILyuP4XuS6T2ia4/1XBe7dZYrj8xB/g3vyiuP5Jf5/Oc+a0/kLiKfUvLrT9+KqiRkp2tP2VtKWIlcK0/dXrBYKJCrT+zV3nOkxStP90DVRhx5aw/Ckf3AaG0rD8vLa6XfIGsP/xc79lSS6w/akBPDW0RrD+9Nq+TE9OrP1MX/S2Tj6s/Xd6dgUJGqz+JYaa5h/aqP1kHcRren6o/bTb5XdtBqj9A1aewNNypP39v1CjDbqk/C8wLl4f5qD+u1QKSrXyoP7KExqaN+Kc/alj7m65tpz/mzJm9xdymPxxaSS22RqY/SYMLOo+spT//whvIiQ+lP/lOjtcEcaQ/UkwmPYHSoz8C5PWknDWjP/ZojPkLnKI/rji4TJUHoj/gmTVgCXqhP5HFFe089aA/LgtOyAF7oD8g09EBIA2gP2k59jOeWp8/4UPtzV66nj81rhyDhzyeP80kURzX450/dIyFaLqynT+j010oQqudPxLT/hAaz50/jPnK/IAfnj89cbJcQp2eP3bOZvmwSJ8/VedqiNEQoD941eDst5OgPxKvgjp3LKE/RfT3KDvaoT8REYCE8JuiPwgrBNdGcKM/K9IezLJVpD/sFOxNcUqlP8RfzVaLTKY/iXhoctpZpz/6cAfmDXCoP9lHJXawjKk/COppvC6tqj+U5q7+3c6rPwT07nQD76w/C0lT6dsKrj+W4QKbox+vP2ctASVPFbA/+D44qI+UsD9OAerVSAyxP7Y4DOw/e7E/z4+qrk3gsT9HP8z4YTqyP56jXgiHiLI/l2flduTJsj8bfsbRwf2yP5MLcsaII7M/3Gle2MY6sz/D682YLkOzPzXUi1qYPLM/gAczXgInsz87oxR2kAKzP3YRZyOLz7I/Ndn2MF6Osj/bvxDSlj+yPz+DuE7h47E/YxxpSAZ8sT9oC4Wk5wixP91LOit9i7A/dw/k6tAEsD998bjh9uuuP8lQatI/wK0/ZXDYbdCIrD/PitkrAkirP1+IA68sAKo/Iiy7kZ6zqD80fgKklmSnP2OsW7M9FaY/iN1c8qDHpD8rR3wRrX2jP7gKSBYqOaI/eIXJ+bf7oD+N5rwkmI2fPwY68pFeN50/pKcuK/r2mj9fXN51Rs6YP/Vwy2vEvpY/SSvhpJzJlD/DDiqqou+SPxXVqkxZMZE/Taw3sO8djz9RIQXw3xCMPyjPiEroOok/z6fR5fyahj8nnJgkry+EP7S1wdI794E/jKaQYjLffz84riZICS18Px8SUJgf03g/58FewlnMdT/YpvRLdBNzPzuoyLgYo3A/KRuPleDrbD+yA0wIaQ1pP9OhW8d6oGU//tODwRqbYj/IvkzgbOdfPw==",
          "dtype": "f8"
         }
        }
       ],
       "layout": {
        "bargap": 0.05,
        "template": {
         "data": {
          "bar": [
           {
            "error_x": {
             "color": "#2a3f5f"
            },
            "error_y": {
             "color": "#2a3f5f"
            },
            "marker": {
             "line": {
              "color": "white",
              "width": 0.5
             },
             "pattern": {
              "fillmode": "overlay",
              "size": 10,
              "solidity": 0.2
             }
            },
            "type": "bar"
           }
          ],
          "barpolar": [
           {
            "marker": {
             "line": {
              "color": "white",
              "width": 0.5
             },
             "pattern": {
              "fillmode": "overlay",
              "size": 10,
              "solidity": 0.2
             }
            },
            "type": "barpolar"
           }
          ],
          "carpet": [
           {
            "aaxis": {
             "endlinecolor": "#2a3f5f",
             "gridcolor": "#C8D4E3",
             "linecolor": "#C8D4E3",
             "minorgridcolor": "#C8D4E3",
             "startlinecolor": "#2a3f5f"
            },
            "baxis": {
             "endlinecolor": "#2a3f5f",
             "gridcolor": "#C8D4E3",
             "linecolor": "#C8D4E3",
             "minorgridcolor": "#C8D4E3",
             "startlinecolor": "#2a3f5f"
            },
            "type": "carpet"
           }
          ],
          "choropleth": [
           {
            "colorbar": {
             "outlinewidth": 0,
             "ticks": ""
            },
            "type": "choropleth"
           }
          ],
          "contour": [
           {
            "colorbar": {
             "outlinewidth": 0,
             "ticks": ""
            },
            "colorscale": [
             [
              0,
              "#0d0887"
             ],
             [
              0.1111111111111111,
              "#46039f"
             ],
             [
              0.2222222222222222,
              "#7201a8"
             ],
             [
              0.3333333333333333,
              "#9c179e"
             ],
             [
              0.4444444444444444,
              "#bd3786"
             ],
             [
              0.5555555555555556,
              "#d8576b"
             ],
             [
              0.6666666666666666,
              "#ed7953"
             ],
             [
              0.7777777777777778,
              "#fb9f3a"
             ],
             [
              0.8888888888888888,
              "#fdca26"
             ],
             [
              1,
              "#f0f921"
             ]
            ],
            "type": "contour"
           }
          ],
          "contourcarpet": [
           {
            "colorbar": {
             "outlinewidth": 0,
             "ticks": ""
            },
            "type": "contourcarpet"
           }
          ],
          "heatmap": [
           {
            "colorbar": {
             "outlinewidth": 0,
             "ticks": ""
            },
            "colorscale": [
             [
              0,
              "#0d0887"
             ],
             [
              0.1111111111111111,
              "#46039f"
             ],
             [
              0.2222222222222222,
              "#7201a8"
             ],
             [
              0.3333333333333333,
              "#9c179e"
             ],
             [
              0.4444444444444444,
              "#bd3786"
             ],
             [
              0.5555555555555556,
              "#d8576b"
             ],
             [
              0.6666666666666666,
              "#ed7953"
             ],
             [
              0.7777777777777778,
              "#fb9f3a"
             ],
             [
              0.8888888888888888,
              "#fdca26"
             ],
             [
              1,
              "#f0f921"
             ]
            ],
            "type": "heatmap"
           }
          ],
          "histogram": [
           {
            "marker": {
             "pattern": {
              "fillmode": "overlay",
              "size": 10,
              "solidity": 0.2
             }
            },
            "type": "histogram"
           }
          ],
          "histogram2d": [
           {
            "colorbar": {
             "outlinewidth": 0,
             "ticks": ""
            },
            "colorscale": [
             [
              0,
              "#0d0887"
             ],
             [
              0.1111111111111111,
              "#46039f"
             ],
             [
              0.2222222222222222,
              "#7201a8"
             ],
             [
              0.3333333333333333,
              "#9c179e"
             ],
             [
              0.4444444444444444,
              "#bd3786"
             ],
             [
              0.5555555555555556,
              "#d8576b"
             ],
             [
              0.6666666666666666,
              "#ed7953"
             ],
             [
              0.7777777777777778,
              "#fb9f3a"
             ],
             [
              0.8888888888888888,
              "#fdca26"
             ],
             [
              1,
              "#f0f921"
             ]
            ],
            "type": "histogram2d"
           }
          ],
          "histogram2dcontour": [
           {
            "colorbar": {
             "outlinewidth": 0,
             "ticks": ""
            },
            "colorscale": [
             [
              0,
              "#0d0887"
             ],
             [
              0.1111111111111111,
              "#46039f"
             ],
             [
              0.2222222222222222,
              "#7201a8"
             ],
             [
              0.3333333333333333,
              "#9c179e"
             ],
             [
              0.4444444444444444,
              "#bd3786"
             ],
             [
              0.5555555555555556,
              "#d8576b"
             ],
             [
              0.6666666666666666,
              "#ed7953"
             ],
             [
              0.7777777777777778,
              "#fb9f3a"
             ],
             [
              0.8888888888888888,
              "#fdca26"
             ],
             [
              1,
              "#f0f921"
             ]
            ],
            "type": "histogram2dcontour"
           }
          ],
          "mesh3d": [
           {
            "colorbar": {
             "outlinewidth": 0,
             "ticks": ""
            },
            "type": "mesh3d"
           }
          ],
          "parcoords": [
           {
            "line": {
             "colorbar": {
              "outlinewidth": 0,
              "ticks": ""
             }
            },
            "type": "parcoords"
           }
          ],
          "pie": [
           {
            "automargin": true,
            "type": "pie"
           }
          ],
          "scatter": [
           {
            "fillpattern": {
             "fillmode": "overlay",
             "size": 10,
             "solidity": 0.2
            },
            "type": "scatter"
           }
          ],
          "scatter3d": [
           {
            "line": {
             "colorbar": {
              "outlinewidth": 0,
              "ticks": ""
             }
            },
            "marker": {
             "colorbar": {
              "outlinewidth": 0,
              "ticks": ""
             }
            },
            "type": "scatter3d"
           }
          ],
          "scattercarpet": [
           {
            "marker": {
             "colorbar": {
              "outlinewidth": 0,
              "ticks": ""
             }
            },
            "type": "scattercarpet"
           }
          ],
          "scattergeo": [
           {
            "marker": {
             "colorbar": {
              "outlinewidth": 0,
              "ticks": ""
             }
            },
            "type": "scattergeo"
           }
          ],
          "scattergl": [
           {
            "marker": {
             "colorbar": {
              "outlinewidth": 0,
              "ticks": ""
             }
            },
            "type": "scattergl"
           }
          ],
          "scattermap": [
           {
            "marker": {
             "colorbar": {
              "outlinewidth": 0,
              "ticks": ""
             }
            },
            "type": "scattermap"
           }
          ],
          "scattermapbox": [
           {
            "marker": {
             "colorbar": {
              "outlinewidth": 0,
              "ticks": ""
             }
            },
            "type": "scattermapbox"
           }
          ],
          "scatterpolar": [
           {
            "marker": {
             "colorbar": {
              "outlinewidth": 0,
              "ticks": ""
             }
            },
            "type": "scatterpolar"
           }
          ],
          "scatterpolargl": [
           {
            "marker": {
             "colorbar": {
              "outlinewidth": 0,
              "ticks": ""
             }
            },
            "type": "scatterpolargl"
           }
          ],
          "scatterternary": [
           {
            "marker": {
             "colorbar": {
              "outlinewidth": 0,
              "ticks": ""
             }
            },
            "type": "scatterternary"
           }
          ],
          "surface": [
           {
            "colorbar": {
             "outlinewidth": 0,
             "ticks": ""
            },
            "colorscale": [
             [
              0,
              "#0d0887"
             ],
             [
              0.1111111111111111,
              "#46039f"
             ],
             [
              0.2222222222222222,
              "#7201a8"
             ],
             [
              0.3333333333333333,
              "#9c179e"
             ],
             [
              0.4444444444444444,
              "#bd3786"
             ],
             [
              0.5555555555555556,
              "#d8576b"
             ],
             [
              0.6666666666666666,
              "#ed7953"
             ],
             [
              0.7777777777777778,
              "#fb9f3a"
             ],
             [
              0.8888888888888888,
              "#fdca26"
             ],
             [
              1,
              "#f0f921"
             ]
            ],
            "type": "surface"
           }
          ],
          "table": [
           {
            "cells": {
             "fill": {
              "color": "#EBF0F8"
             },
             "line": {
              "color": "white"
             }
            },
            "header": {
             "fill": {
              "color": "#C8D4E3"
             },
             "line": {
              "color": "white"
             }
            },
            "type": "table"
           }
          ]
         },
         "layout": {
          "annotationdefaults": {
           "arrowcolor": "#2a3f5f",
           "arrowhead": 0,
           "arrowwidth": 1
          },
          "autotypenumbers": "strict",
          "coloraxis": {
           "colorbar": {
            "outlinewidth": 0,
            "ticks": ""
           }
          },
          "colorscale": {
           "diverging": [
            [
             0,
             "#8e0152"
            ],
            [
             0.1,
             "#c51b7d"
            ],
            [
             0.2,
             "#de77ae"
            ],
            [
             0.3,
             "#f1b6da"
            ],
            [
             0.4,
             "#fde0ef"
            ],
            [
             0.5,
             "#f7f7f7"
            ],
            [
             0.6,
             "#e6f5d0"
            ],
            [
             0.7,
             "#b8e186"
            ],
            [
             0.8,
             "#7fbc41"
            ],
            [
             0.9,
             "#4d9221"
            ],
            [
             1,
             "#276419"
            ]
           ],
           "sequential": [
            [
             0,
             "#0d0887"
            ],
            [
             0.1111111111111111,
             "#46039f"
            ],
            [
             0.2222222222222222,
             "#7201a8"
            ],
            [
             0.3333333333333333,
             "#9c179e"
            ],
            [
             0.4444444444444444,
             "#bd3786"
            ],
            [
             0.5555555555555556,
             "#d8576b"
            ],
            [
             0.6666666666666666,
             "#ed7953"
            ],
            [
             0.7777777777777778,
             "#fb9f3a"
            ],
            [
             0.8888888888888888,
             "#fdca26"
            ],
            [
             1,
             "#f0f921"
            ]
           ],
           "sequentialminus": [
            [
             0,
             "#0d0887"
            ],
            [
             0.1111111111111111,
             "#46039f"
            ],
            [
             0.2222222222222222,
             "#7201a8"
            ],
            [
             0.3333333333333333,
             "#9c179e"
            ],
            [
             0.4444444444444444,
             "#bd3786"
            ],
            [
             0.5555555555555556,
             "#d8576b"
            ],
            [
             0.6666666666666666,
             "#ed7953"
            ],
            [
             0.7777777777777778,
             "#fb9f3a"
            ],
            [
             0.8888888888888888,
             "#fdca26"
            ],
            [
             1,
             "#f0f921"
            ]
           ]
          },
          "colorway": [
           "#636efa",
           "#EF553B",
           "#00cc96",
           "#ab63fa",
           "#FFA15A",
           "#19d3f3",
           "#FF6692",
           "#B6E880",
           "#FF97FF",
           "#FECB52"
          ],
          "font": {
           "color": "#2a3f5f"
          },
          "geo": {
           "bgcolor": "white",
           "lakecolor": "white",
           "landcolor": "white",
           "showlakes": true,
           "showland": true,
           "subunitcolor": "#C8D4E3"
          },
          "hoverlabel": {
           "align": "left"
          },
          "hovermode": "closest",
          "mapbox": {
           "style": "light"
          },
          "paper_bgcolor": "white",
          "plot_bgcolor": "white",
          "polar": {
           "angularaxis": {
            "gridcolor": "#EBF0F8",
            "linecolor": "#EBF0F8",
            "ticks": ""
           },
           "bgcolor": "white",
           "radialaxis": {
            "gridcolor": "#EBF0F8",
            "linecolor": "#EBF0F8",
            "ticks": ""
           }
          },
          "scene": {
           "xaxis": {
            "backgroundcolor": "white",
            "gridcolor": "#DFE8F3",
            "gridwidth": 2,
            "linecolor": "#EBF0F8",
            "showbackground": true,
            "ticks": "",
            "zerolinecolor": "#EBF0F8"
           },
           "yaxis": {
            "backgroundcolor": "white",
            "gridcolor": "#DFE8F3",
            "gridwidth": 2,
            "linecolor": "#EBF0F8",
            "showbackground": true,
            "ticks": "",
            "zerolinecolor": "#EBF0F8"
           },
           "zaxis": {
            "backgroundcolor": "white",
            "gridcolor": "#DFE8F3",
            "gridwidth": 2,
            "linecolor": "#EBF0F8",
            "showbackground": true,
            "ticks": "",
            "zerolinecolor": "#EBF0F8"
           }
          },
          "shapedefaults": {
           "line": {
            "color": "#2a3f5f"
           }
          },
          "ternary": {
           "aaxis": {
            "gridcolor": "#DFE8F3",
            "linecolor": "#A2B1C6",
            "ticks": ""
           },
           "baxis": {
            "gridcolor": "#DFE8F3",
            "linecolor": "#A2B1C6",
            "ticks": ""
           },
           "bgcolor": "white",
           "caxis": {
            "gridcolor": "#DFE8F3",
            "linecolor": "#A2B1C6",
            "ticks": ""
           }
          },
          "title": {
           "x": 0.05
          },
          "xaxis": {
           "automargin": true,
           "gridcolor": "#EBF0F8",
           "linecolor": "#EBF0F8",
           "ticks": "",
           "title": {
            "standoff": 15
           },
           "zerolinecolor": "#EBF0F8",
           "zerolinewidth": 2
          },
          "yaxis": {
           "automargin": true,
           "gridcolor": "#EBF0F8",
           "linecolor": "#EBF0F8",
           "ticks": "",
           "title": {
            "standoff": 15
           },
           "zerolinecolor": "#EBF0F8",
           "zerolinewidth": 2
          }
         }
        },
        "title": {
         "font": {
          "size": 16
         },
         "text": "Distribution of Forest Trend (2000-2020)"
        },
        "xaxis": {
         "title": {
          "font": {
           "size": 14
          },
          "text": "Trend"
         }
        },
        "yaxis": {
         "title": {
          "font": {
           "size": 14
          },
          "text": "Frequency"
         }
        }
       }
      }
     },
     "metadata": {},
     "output_type": "display_data"
    }
   ],
   "source": [
    "kde = gaussian_kde(forest_trend['percentage_change_norm'])\n",
    "x_min = forest_trend['percentage_change_norm'].min()\n",
    "x_max = forest_trend['percentage_change_norm'].max()\n",
    "x_range = np.linspace(x_min - (x_max-x_min)*0.1, x_max + (x_max-x_min)*0.1, 500) # Evaluate at 500 points\n",
    "y = kde(x_range)\n",
    "\n",
    "fig = go.Figure()\n",
    "\n",
    "fig.add_trace(go.Histogram(\n",
    "    x=forest_trend['percentage_change_norm'],\n",
    "    nbinsx=30,\n",
    "    marker_color='lightblue',\n",
    "    histnorm='probability density',\n",
    "    name='Frequency (Histogram)'\n",
    "))\n",
    "\n",
    "fig.add_trace(go.Scatter(\n",
    "    x=x_range,\n",
    "    y=y,\n",
    "    mode='lines',\n",
    "    name='KDE',\n",
    "    line=dict(color='blue')\n",
    "))\n",
    "\n",
    "fig.update_layout(\n",
    "    title='Distribution of Forest Trend (2000-2020)',\n",
    "    title_font_size=16,\n",
    "    xaxis_title='Trend',\n",
    "    yaxis_title='Frequency',\n",
    "    xaxis=dict(title_font=dict(size=14)),\n",
    "    yaxis=dict(title_font=dict(size=14)),\n",
    "    bargap=0.05,  # Optional: space between bars\n",
    "    template='plotly_white'  # Set theme to minimal\n",
    ")\n",
    "\n",
    "fig.show()"
   ]
  },
  {
   "cell_type": "markdown",
   "metadata": {},
   "source": [
    "The visualizations together offer a compelling overview of global forest area trends from 2000 to 2022, with meaningful implications for understanding and responding to climate change. The first visualization, a global heatmap, illustrates the percentage change in forest area by country, where red tones signal serious deforestation, yellow reflects minimal change, and green represents positive forest growth. This spatial distribution reveals that countries in Central Africa, Southeast Asia, and South America have experienced significant forest loss, while some parts of Europe and Asia, such as China, have seen modest forest gains due to reforestation initiatives. The second graph, a distribution plot of normalized forest trends, shows that most countries fall within moderate ranges of forest change, with a majority tending toward slight gains or losses and fewer countries at the extremes. The peak around 0.4 suggests that moderate changes in forest cover are most common globally.\n",
    "\n",
    "These forest changes are closely linked to the broader context of climate change. Forests act as major carbon sinks, absorbing billions of tons of CO₂ from the atmosphere each year. Therefore, the loss of forest cover—particularly in tropical regions—directly reduces the Earth’s ability to sequester carbon, exacerbating global warming. In regions where large-scale deforestation is taking place, such as the Amazon or Central Africa, not only is stored carbon released back into the atmosphere, but local climates are also affected through changes in rainfall patterns, temperature variability, and biodiversity loss. On the flip side, forest gains in some countries can help mitigate climate change by enhancing carbon capture, promoting ecological stability, and improving resilience against extreme weather events. However, the uneven global trend highlighted by the distribution suggests that while some nations are fighting climate degradation through forest restoration, widespread deforestation elsewhere continues to undermine global climate goals.\n",
    "\n",
    "Together, these visualizations emphasize the essential role of forest conservation and restoration in addressing climate change. They reinforce the urgent need for coordinated international policies and locally adapted strategies that can reduce forest loss, enhance reforestation, and promote sustainable land use, all of which are vital for limiting global warming and securing environmental sustainability."
   ]
  },
  {
   "cell_type": "markdown",
   "metadata": {},
   "source": [
    "----"
   ]
  },
  {
   "cell_type": "markdown",
   "metadata": {},
   "source": [
    "https://www.abc.net.au/news/2025-02-23/extreme-heat-greater-sydney-cities-australia/104961478\n",
    "\n",
    "A new study suggests the prevalence of extreme heat in Australia's cities is being under-reported.\n",
    "\n",
    "Temperatures above 35 degrees Celsius were far more common across parts of Greater Sydney than initially reported by the Bureau of Meteorology, according to the researchers.\n",
    "\n",
    "The findings may present implications for cities across Australia, with climate modelling predicting extreme heat is on track to occur more frequently."
   ]
  },
  {
   "cell_type": "markdown",
   "metadata": {},
   "source": [
    "### Heat Data"
   ]
  },
  {
   "cell_type": "code",
   "execution_count": 17,
   "metadata": {},
   "outputs": [
    {
     "name": "stdout",
     "output_type": "stream",
     "text": [
      "<class 'pandas.core.frame.DataFrame'>\n",
      "RangeIndex: 53717 entries, 0 to 53716\n",
      "Data columns (total 4 columns):\n",
      " #   Column    Non-Null Count  Dtype  \n",
      "---  ------    --------------  -----  \n",
      " 0   max_temp  53713 non-null  float64\n",
      " 1   date      53717 non-null  object \n",
      " 2   city      53717 non-null  object \n",
      " 3   is_hot    53717 non-null  bool   \n",
      "dtypes: bool(1), float64(1), object(2)\n",
      "memory usage: 1.3+ MB\n"
     ]
    }
   ],
   "source": [
    "heat_data.info()\n"
   ]
  },
  {
   "cell_type": "code",
   "execution_count": 18,
   "metadata": {},
   "outputs": [],
   "source": [
    "heat_data['date'] = pd.to_datetime(heat_data['date'])\n",
    "heat_data['year'] = heat_data['date'].dt.year\n",
    "\n",
    "# Count hot day\n",
    "hot_days = heat_data[heat_data['is_hot']]\n",
    "hot_days_per_year = hot_days.groupby(['city', 'year']).size().reset_index(name='hot_day_count')"
   ]
  },
  {
   "cell_type": "code",
   "execution_count": 20,
   "metadata": {},
   "outputs": [
    {
     "data": {
      "application/vnd.plotly.v1+json": {
       "config": {
        "plotlyServerURL": "https://plot.ly"
       },
       "data": [
        {
         "colorbar": {
          "title": {
           "text": "Hot Days"
          }
         },
         "colorscale": [
          [
           0,
           "rgb(255,255,204)"
          ],
          [
           0.125,
           "rgb(255,237,160)"
          ],
          [
           0.25,
           "rgb(254,217,118)"
          ],
          [
           0.375,
           "rgb(254,178,76)"
          ],
          [
           0.5,
           "rgb(253,141,60)"
          ],
          [
           0.625,
           "rgb(252,78,42)"
          ],
          [
           0.75,
           "rgb(227,26,28)"
          ],
          [
           0.875,
           "rgb(189,0,38)"
          ],
          [
           1,
           "rgb(128,0,38)"
          ]
         ],
         "text": {
          "bdata": "AAAAAAAA+H8AAAAAAAD4fwAAAAAAAPh/AAAAAAAAOUAAAAAAAABSQAAAAAAAQFFAAAAAAACAR0AAAAAAAABFQAAAAAAAgEZAAAAAAAAAREAAAAAAAIBPQAAAAAAAAFJAAAAAAADAUEAAAAAAAEBYQAAAAAAAwFdAAAAAAADAU0AAAAAAAEBeQAAAAAAAgFNAAAAAAACAUEAAAAAAAABLQAAAAAAAwFVAAAAAAAAAVEAAAAAAAABCQAAAAAAAgEJAAAAAAAAAO0AAAAAAAIBGQAAAAAAAAEFAAAAAAAAAQUAAAAAAAAA6QAAAAAAAADZAAAAAAAAAPkAAAAAAAAA4QAAAAAAAAENAAAAAAAAAQEAAAAAAAIBDQAAAAAAAAEZAAAAAAACARUAAAAAAAIBIQAAAAAAAAExAAAAAAAAAQkAAAAAAAAA3QAAAAAAAACpAAAAAAAAAQUAAAAAAAIBEQA==",
          "dtype": "f8",
          "shape": "4, 11"
         },
         "texttemplate": "%{text:.0f}",
         "type": "heatmap",
         "x": {
          "bdata": "3gcAAN8HAADgBwAA4QcAAOIHAADjBwAA5AcAAOUHAADmBwAA5wcAAOgHAAA=",
          "dtype": "i4"
         },
         "y": [
          "Adelaide",
          "Brisbane",
          "Melbourne",
          "Sydney"
         ],
         "z": {
          "bdata": "AAAAAAAA+H8AAAAAAAD4fwAAAAAAAPh/AAAAAAAAOUAAAAAAAABSQAAAAAAAQFFAAAAAAACAR0AAAAAAAABFQAAAAAAAgEZAAAAAAAAAREAAAAAAAIBPQAAAAAAAAFJAAAAAAADAUEAAAAAAAEBYQAAAAAAAwFdAAAAAAADAU0AAAAAAAEBeQAAAAAAAgFNAAAAAAACAUEAAAAAAAABLQAAAAAAAwFVAAAAAAAAAVEAAAAAAAABCQAAAAAAAgEJAAAAAAAAAO0AAAAAAAIBGQAAAAAAAAEFAAAAAAAAAQUAAAAAAAAA6QAAAAAAAADZAAAAAAAAAPkAAAAAAAAA4QAAAAAAAAENAAAAAAAAAQEAAAAAAAIBDQAAAAAAAAEZAAAAAAACARUAAAAAAAIBIQAAAAAAAAExAAAAAAAAAQkAAAAAAAAA3QAAAAAAAACpAAAAAAAAAQUAAAAAAAIBEQA==",
          "dtype": "f8",
          "shape": "4, 11"
         },
         "zmin": 0
        }
       ],
       "layout": {
        "template": {
         "data": {
          "bar": [
           {
            "error_x": {
             "color": "#2a3f5f"
            },
            "error_y": {
             "color": "#2a3f5f"
            },
            "marker": {
             "line": {
              "color": "white",
              "width": 0.5
             },
             "pattern": {
              "fillmode": "overlay",
              "size": 10,
              "solidity": 0.2
             }
            },
            "type": "bar"
           }
          ],
          "barpolar": [
           {
            "marker": {
             "line": {
              "color": "white",
              "width": 0.5
             },
             "pattern": {
              "fillmode": "overlay",
              "size": 10,
              "solidity": 0.2
             }
            },
            "type": "barpolar"
           }
          ],
          "carpet": [
           {
            "aaxis": {
             "endlinecolor": "#2a3f5f",
             "gridcolor": "#C8D4E3",
             "linecolor": "#C8D4E3",
             "minorgridcolor": "#C8D4E3",
             "startlinecolor": "#2a3f5f"
            },
            "baxis": {
             "endlinecolor": "#2a3f5f",
             "gridcolor": "#C8D4E3",
             "linecolor": "#C8D4E3",
             "minorgridcolor": "#C8D4E3",
             "startlinecolor": "#2a3f5f"
            },
            "type": "carpet"
           }
          ],
          "choropleth": [
           {
            "colorbar": {
             "outlinewidth": 0,
             "ticks": ""
            },
            "type": "choropleth"
           }
          ],
          "contour": [
           {
            "colorbar": {
             "outlinewidth": 0,
             "ticks": ""
            },
            "colorscale": [
             [
              0,
              "#0d0887"
             ],
             [
              0.1111111111111111,
              "#46039f"
             ],
             [
              0.2222222222222222,
              "#7201a8"
             ],
             [
              0.3333333333333333,
              "#9c179e"
             ],
             [
              0.4444444444444444,
              "#bd3786"
             ],
             [
              0.5555555555555556,
              "#d8576b"
             ],
             [
              0.6666666666666666,
              "#ed7953"
             ],
             [
              0.7777777777777778,
              "#fb9f3a"
             ],
             [
              0.8888888888888888,
              "#fdca26"
             ],
             [
              1,
              "#f0f921"
             ]
            ],
            "type": "contour"
           }
          ],
          "contourcarpet": [
           {
            "colorbar": {
             "outlinewidth": 0,
             "ticks": ""
            },
            "type": "contourcarpet"
           }
          ],
          "heatmap": [
           {
            "colorbar": {
             "outlinewidth": 0,
             "ticks": ""
            },
            "colorscale": [
             [
              0,
              "#0d0887"
             ],
             [
              0.1111111111111111,
              "#46039f"
             ],
             [
              0.2222222222222222,
              "#7201a8"
             ],
             [
              0.3333333333333333,
              "#9c179e"
             ],
             [
              0.4444444444444444,
              "#bd3786"
             ],
             [
              0.5555555555555556,
              "#d8576b"
             ],
             [
              0.6666666666666666,
              "#ed7953"
             ],
             [
              0.7777777777777778,
              "#fb9f3a"
             ],
             [
              0.8888888888888888,
              "#fdca26"
             ],
             [
              1,
              "#f0f921"
             ]
            ],
            "type": "heatmap"
           }
          ],
          "histogram": [
           {
            "marker": {
             "pattern": {
              "fillmode": "overlay",
              "size": 10,
              "solidity": 0.2
             }
            },
            "type": "histogram"
           }
          ],
          "histogram2d": [
           {
            "colorbar": {
             "outlinewidth": 0,
             "ticks": ""
            },
            "colorscale": [
             [
              0,
              "#0d0887"
             ],
             [
              0.1111111111111111,
              "#46039f"
             ],
             [
              0.2222222222222222,
              "#7201a8"
             ],
             [
              0.3333333333333333,
              "#9c179e"
             ],
             [
              0.4444444444444444,
              "#bd3786"
             ],
             [
              0.5555555555555556,
              "#d8576b"
             ],
             [
              0.6666666666666666,
              "#ed7953"
             ],
             [
              0.7777777777777778,
              "#fb9f3a"
             ],
             [
              0.8888888888888888,
              "#fdca26"
             ],
             [
              1,
              "#f0f921"
             ]
            ],
            "type": "histogram2d"
           }
          ],
          "histogram2dcontour": [
           {
            "colorbar": {
             "outlinewidth": 0,
             "ticks": ""
            },
            "colorscale": [
             [
              0,
              "#0d0887"
             ],
             [
              0.1111111111111111,
              "#46039f"
             ],
             [
              0.2222222222222222,
              "#7201a8"
             ],
             [
              0.3333333333333333,
              "#9c179e"
             ],
             [
              0.4444444444444444,
              "#bd3786"
             ],
             [
              0.5555555555555556,
              "#d8576b"
             ],
             [
              0.6666666666666666,
              "#ed7953"
             ],
             [
              0.7777777777777778,
              "#fb9f3a"
             ],
             [
              0.8888888888888888,
              "#fdca26"
             ],
             [
              1,
              "#f0f921"
             ]
            ],
            "type": "histogram2dcontour"
           }
          ],
          "mesh3d": [
           {
            "colorbar": {
             "outlinewidth": 0,
             "ticks": ""
            },
            "type": "mesh3d"
           }
          ],
          "parcoords": [
           {
            "line": {
             "colorbar": {
              "outlinewidth": 0,
              "ticks": ""
             }
            },
            "type": "parcoords"
           }
          ],
          "pie": [
           {
            "automargin": true,
            "type": "pie"
           }
          ],
          "scatter": [
           {
            "fillpattern": {
             "fillmode": "overlay",
             "size": 10,
             "solidity": 0.2
            },
            "type": "scatter"
           }
          ],
          "scatter3d": [
           {
            "line": {
             "colorbar": {
              "outlinewidth": 0,
              "ticks": ""
             }
            },
            "marker": {
             "colorbar": {
              "outlinewidth": 0,
              "ticks": ""
             }
            },
            "type": "scatter3d"
           }
          ],
          "scattercarpet": [
           {
            "marker": {
             "colorbar": {
              "outlinewidth": 0,
              "ticks": ""
             }
            },
            "type": "scattercarpet"
           }
          ],
          "scattergeo": [
           {
            "marker": {
             "colorbar": {
              "outlinewidth": 0,
              "ticks": ""
             }
            },
            "type": "scattergeo"
           }
          ],
          "scattergl": [
           {
            "marker": {
             "colorbar": {
              "outlinewidth": 0,
              "ticks": ""
             }
            },
            "type": "scattergl"
           }
          ],
          "scattermap": [
           {
            "marker": {
             "colorbar": {
              "outlinewidth": 0,
              "ticks": ""
             }
            },
            "type": "scattermap"
           }
          ],
          "scattermapbox": [
           {
            "marker": {
             "colorbar": {
              "outlinewidth": 0,
              "ticks": ""
             }
            },
            "type": "scattermapbox"
           }
          ],
          "scatterpolar": [
           {
            "marker": {
             "colorbar": {
              "outlinewidth": 0,
              "ticks": ""
             }
            },
            "type": "scatterpolar"
           }
          ],
          "scatterpolargl": [
           {
            "marker": {
             "colorbar": {
              "outlinewidth": 0,
              "ticks": ""
             }
            },
            "type": "scatterpolargl"
           }
          ],
          "scatterternary": [
           {
            "marker": {
             "colorbar": {
              "outlinewidth": 0,
              "ticks": ""
             }
            },
            "type": "scatterternary"
           }
          ],
          "surface": [
           {
            "colorbar": {
             "outlinewidth": 0,
             "ticks": ""
            },
            "colorscale": [
             [
              0,
              "#0d0887"
             ],
             [
              0.1111111111111111,
              "#46039f"
             ],
             [
              0.2222222222222222,
              "#7201a8"
             ],
             [
              0.3333333333333333,
              "#9c179e"
             ],
             [
              0.4444444444444444,
              "#bd3786"
             ],
             [
              0.5555555555555556,
              "#d8576b"
             ],
             [
              0.6666666666666666,
              "#ed7953"
             ],
             [
              0.7777777777777778,
              "#fb9f3a"
             ],
             [
              0.8888888888888888,
              "#fdca26"
             ],
             [
              1,
              "#f0f921"
             ]
            ],
            "type": "surface"
           }
          ],
          "table": [
           {
            "cells": {
             "fill": {
              "color": "#EBF0F8"
             },
             "line": {
              "color": "white"
             }
            },
            "header": {
             "fill": {
              "color": "#C8D4E3"
             },
             "line": {
              "color": "white"
             }
            },
            "type": "table"
           }
          ]
         },
         "layout": {
          "annotationdefaults": {
           "arrowcolor": "#2a3f5f",
           "arrowhead": 0,
           "arrowwidth": 1
          },
          "autotypenumbers": "strict",
          "coloraxis": {
           "colorbar": {
            "outlinewidth": 0,
            "ticks": ""
           }
          },
          "colorscale": {
           "diverging": [
            [
             0,
             "#8e0152"
            ],
            [
             0.1,
             "#c51b7d"
            ],
            [
             0.2,
             "#de77ae"
            ],
            [
             0.3,
             "#f1b6da"
            ],
            [
             0.4,
             "#fde0ef"
            ],
            [
             0.5,
             "#f7f7f7"
            ],
            [
             0.6,
             "#e6f5d0"
            ],
            [
             0.7,
             "#b8e186"
            ],
            [
             0.8,
             "#7fbc41"
            ],
            [
             0.9,
             "#4d9221"
            ],
            [
             1,
             "#276419"
            ]
           ],
           "sequential": [
            [
             0,
             "#0d0887"
            ],
            [
             0.1111111111111111,
             "#46039f"
            ],
            [
             0.2222222222222222,
             "#7201a8"
            ],
            [
             0.3333333333333333,
             "#9c179e"
            ],
            [
             0.4444444444444444,
             "#bd3786"
            ],
            [
             0.5555555555555556,
             "#d8576b"
            ],
            [
             0.6666666666666666,
             "#ed7953"
            ],
            [
             0.7777777777777778,
             "#fb9f3a"
            ],
            [
             0.8888888888888888,
             "#fdca26"
            ],
            [
             1,
             "#f0f921"
            ]
           ],
           "sequentialminus": [
            [
             0,
             "#0d0887"
            ],
            [
             0.1111111111111111,
             "#46039f"
            ],
            [
             0.2222222222222222,
             "#7201a8"
            ],
            [
             0.3333333333333333,
             "#9c179e"
            ],
            [
             0.4444444444444444,
             "#bd3786"
            ],
            [
             0.5555555555555556,
             "#d8576b"
            ],
            [
             0.6666666666666666,
             "#ed7953"
            ],
            [
             0.7777777777777778,
             "#fb9f3a"
            ],
            [
             0.8888888888888888,
             "#fdca26"
            ],
            [
             1,
             "#f0f921"
            ]
           ]
          },
          "colorway": [
           "#636efa",
           "#EF553B",
           "#00cc96",
           "#ab63fa",
           "#FFA15A",
           "#19d3f3",
           "#FF6692",
           "#B6E880",
           "#FF97FF",
           "#FECB52"
          ],
          "font": {
           "color": "#2a3f5f"
          },
          "geo": {
           "bgcolor": "white",
           "lakecolor": "white",
           "landcolor": "white",
           "showlakes": true,
           "showland": true,
           "subunitcolor": "#C8D4E3"
          },
          "hoverlabel": {
           "align": "left"
          },
          "hovermode": "closest",
          "mapbox": {
           "style": "light"
          },
          "paper_bgcolor": "white",
          "plot_bgcolor": "white",
          "polar": {
           "angularaxis": {
            "gridcolor": "#EBF0F8",
            "linecolor": "#EBF0F8",
            "ticks": ""
           },
           "bgcolor": "white",
           "radialaxis": {
            "gridcolor": "#EBF0F8",
            "linecolor": "#EBF0F8",
            "ticks": ""
           }
          },
          "scene": {
           "xaxis": {
            "backgroundcolor": "white",
            "gridcolor": "#DFE8F3",
            "gridwidth": 2,
            "linecolor": "#EBF0F8",
            "showbackground": true,
            "ticks": "",
            "zerolinecolor": "#EBF0F8"
           },
           "yaxis": {
            "backgroundcolor": "white",
            "gridcolor": "#DFE8F3",
            "gridwidth": 2,
            "linecolor": "#EBF0F8",
            "showbackground": true,
            "ticks": "",
            "zerolinecolor": "#EBF0F8"
           },
           "zaxis": {
            "backgroundcolor": "white",
            "gridcolor": "#DFE8F3",
            "gridwidth": 2,
            "linecolor": "#EBF0F8",
            "showbackground": true,
            "ticks": "",
            "zerolinecolor": "#EBF0F8"
           }
          },
          "shapedefaults": {
           "line": {
            "color": "#2a3f5f"
           }
          },
          "ternary": {
           "aaxis": {
            "gridcolor": "#DFE8F3",
            "linecolor": "#A2B1C6",
            "ticks": ""
           },
           "baxis": {
            "gridcolor": "#DFE8F3",
            "linecolor": "#A2B1C6",
            "ticks": ""
           },
           "bgcolor": "white",
           "caxis": {
            "gridcolor": "#DFE8F3",
            "linecolor": "#A2B1C6",
            "ticks": ""
           }
          },
          "title": {
           "x": 0.05
          },
          "xaxis": {
           "automargin": true,
           "gridcolor": "#EBF0F8",
           "linecolor": "#EBF0F8",
           "ticks": "",
           "title": {
            "standoff": 15
           },
           "zerolinecolor": "#EBF0F8",
           "zerolinewidth": 2
          },
          "yaxis": {
           "automargin": true,
           "gridcolor": "#EBF0F8",
           "linecolor": "#EBF0F8",
           "ticks": "",
           "title": {
            "standoff": 15
           },
           "zerolinecolor": "#EBF0F8",
           "zerolinewidth": 2
          }
         }
        },
        "title": {
         "text": "Number of Hot Days per Year by City"
        },
        "xaxis": {
         "title": {
          "text": "Year"
         }
        },
        "yaxis": {
         "title": {
          "text": "City"
         }
        }
       }
      }
     },
     "metadata": {},
     "output_type": "display_data"
    }
   ],
   "source": [
    "import plotly.graph_objects as go\n",
    "\n",
    "# Transform data into a format suitable for heatmap: city as rows, year as columns\n",
    "pivot = hot_days_per_year[(hot_days_per_year['year'] >= 2014) & (hot_days_per_year['year'] <= 2024)].pivot(index='city', columns='year', values='hot_day_count')\n",
    "\n",
    "# Create heatmap\n",
    "fig = go.Figure(data=go.Heatmap(\n",
    "    z=pivot.values,\n",
    "    x=pivot.columns,\n",
    "    y=pivot.index,\n",
    "    colorscale='YlOrRd',\n",
    "    colorbar=dict(title=\"Hot Days\"),\n",
    "    zmin=0,  # Optional: Set minimum value for color scale\n",
    "    text=pivot.values,  # Add text for each cell\n",
    "    texttemplate=\"%{text:.0f}\"  # Format text as integers\n",
    "))\n",
    "\n",
    "# Update layout\n",
    "fig.update_layout(\n",
    "    title=\"Number of Hot Days per Year by City\",\n",
    "    xaxis_title=\"Year\",\n",
    "    yaxis_title=\"City\",\n",
    "    template=\"plotly_white\"\n",
    ")\n",
    "\n",
    "# Show the heatmap\n",
    "fig.show()\n"
   ]
  },
  {
   "cell_type": "markdown",
   "metadata": {},
   "source": [
    "The heatmap illustrates the number of hot days (defined as days with temperatures exceeding 30°C) across four major Australian cities—Sydney, Melbourne, Brisbane, and Adelaide—over the years 2014 to 2024. The data highlights a key effect of climate change: an observable increase in the frequency and intensity of hot days in many areas. Brisbane shows the most consistent and significant rise, reaching a peak of 121 hot days in 2019, indicating that northern cities are particularly vulnerable to extreme temperature increases. Adelaide also demonstrates an upward trend since 2017, with a notable rise to 72 hot days in 2018 and a return to 63 hot days by 2024, suggesting a warming shift in its climate. Sydney and Melbourne, traditionally more temperate cities, exhibit more yearly fluctuations but still reflect rising heat patterns, with both cities showing increases in hot days in recent years after some dips.\n",
    "\n",
    "These variations suggest that interannual weather phenomena, such as El Niño or La Niña, may influence yearly temperatures, but the overall trend aligns with the growing impact of global warming. The data indicates not only that hot days are becoming more frequent but also that heatwaves and prolonged periods of extreme temperatures are becoming more common. This rise in heat can have serious consequences for human health, energy demand, infrastructure durability, and natural ecosystems. Overall, the increase in the number of hot days is a clear indicator that climate change is intensifying, with noticeable regional differences, calling for urgent adaptation and mitigation strategies at both local and national levels."
   ]
  },
  {
   "cell_type": "markdown",
   "metadata": {},
   "source": [
    "----"
   ]
  },
  {
   "cell_type": "markdown",
   "metadata": {},
   "source": [
    "Other impact"
   ]
  },
  {
   "cell_type": "markdown",
   "metadata": {},
   "source": [
    "Health Risks\n",
    "\n",
    "Beyond heatstroke, climate change impacts our health through worse air quality (bushfire smoke, pollution), potentially changing patterns of infectious diseases carried by insects, and impacts on mental health from experiencing climate-related events."
   ]
  },
  {
   "cell_type": "markdown",
   "metadata": {},
   "source": [
    "Nature Under Pressure\n",
    "\n",
    "The natural environments we love are suffering. Increased bushfire risk threatens forests like the Blue Mountains and the Dandenongs. Unique ecosystems like the Alpine regions face reduced snow cover. Iconic wildlife, from koalas struggling in heatwaves to disruptions in marine life, are impacted. This loss affects biodiversity and the natural beauty we value."
   ]
  },
  {
   "cell_type": "markdown",
   "metadata": {},
   "source": [
    "Economic Ripples\n",
    "\n",
    "Climate impacts have economic costs: rising insurance premiums, expensive repairs to infrastructure after extreme weather, impacts on agriculture affecting food prices, and potential effects on tourism."
   ]
  },
  {
   "cell_type": "markdown",
   "metadata": {},
   "source": [
    "-----"
   ]
  },
  {
   "cell_type": "markdown",
   "metadata": {},
   "source": [
    "### Nature: Our Vulnerable Shield, Our Essential Ally\n",
    "\n",
    "The nature we aim to conserve is not just a victim of climate change; it's also a crucial part of the solution. Healthy, functioning ecosystems provide essential services that help us both mitigate climate change and adapt to its impacts.\n",
    "\n",
    "Carbon Sinks: Forests, wetlands, mangroves, and healthy soils absorb and store vast amounts of CO2, helping to regulate the climate. Protecting and restoring these is vital.\n",
    "Natural Cooling: Trees and green spaces in our cities provide shade and cool the air through evapotranspiration, reducing the urban heat island effect and lowering energy demand for cooling.\n",
    "Flood & Storm Protection: Wetlands, mangroves, and coastal reefs act as natural buffers, absorbing storm surges and heavy rainfall, protecting communities and infrastructure.\n",
    "Biodiversity & Resilience: Diverse ecosystems are generally more resilient to change. Protecting biodiversity helps maintain the health and adaptability of these natural systems.\n",
    "Conserving nature isn't separate from tackling climate change – it's integral. Protecting the green spaces within and around Melbourne and Sydney (from urban parks and river corridors like the Yarra or Parramatta Rivers, to surrounding bushland and coastal zones) directly contributes to our climate resilience and well-being."
   ]
  },
  {
   "cell_type": "markdown",
   "metadata": {},
   "source": [
    "### Taking Action Together\n",
    "The challenge is significant, but despair is not an option. We have the knowledge and increasingly the tools to make a difference. As urban residents, our collective actions and choices matter.\n",
    "\n",
    "How Can We Help Conserve Nature in a Changing Climate?\n",
    "- Support Local Conservation: Volunteer with or donate to groups working on habitat restoration, tree planting, or wildlife protection in your area (e.g., Bushcare, Landcare, park friends groups).\n",
    "- Make Nature-Friendly Choices at Home: Create habitat in your own space (even a balcony!), reduce water use, minimise waste, choose native plants.\n",
    "- Live Sustainably: Reduce your carbon footprint through energy efficiency, sustainable transport (walking, cycling, public transport), conscious consumption, and reducing meat intake.\n",
    "- Advocate for Change: Support policies that promote renewable energy, protect natural areas, and invest in climate adaptation. Talk to friends, family, and elected officials.\n",
    "- Value Green Spaces: Actively use and advocate for the protection and enhancement of parks, urban forests, and waterways in Melbourne and Sydney.\n",
    "- Using Ecoshpere application: Ecoshpere is a free app that provides tips to help you live more sustainably and support local conservation efforts by planting trees and restoring habitats.\n",
    "\n",
    "Every action that supports nature builds resilience. Protecting and restoring ecosystems is one of the most effective ways we can invest in a safer, healthier, and more stable future for ourselves and for the unique natural heritage of Australia.\n",
    "\n",
    "Let's work together to ensure both our vibrant cities and the nature that sustains them can thrive, even in the face of climate change."
   ]
  },
  {
   "cell_type": "markdown",
   "metadata": {},
   "source": []
  }
 ],
 "metadata": {
  "kernelspec": {
   "display_name": "base",
   "language": "python",
   "name": "python3"
  },
  "language_info": {
   "codemirror_mode": {
    "name": "ipython",
    "version": 3
   },
   "file_extension": ".py",
   "mimetype": "text/x-python",
   "name": "python",
   "nbconvert_exporter": "python",
   "pygments_lexer": "ipython3",
   "version": "3.11.11"
  }
 },
 "nbformat": 4,
 "nbformat_minor": 2
}
