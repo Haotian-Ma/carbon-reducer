{
 "cells": [
  {
   "cell_type": "code",
   "execution_count": 40,
   "metadata": {},
   "outputs": [],
   "source": [
    "# Import library\n",
    "import pandas as pd\n",
    "import plotly.graph_objects as go\n",
    "from scipy.stats import gaussian_kde\n",
    "import numpy as np\n",
    "import psycopg2"
   ]
  },
  {
   "cell_type": "markdown",
   "metadata": {},
   "source": [
    "### Loading data"
   ]
  },
  {
   "cell_type": "code",
   "execution_count": null,
   "metadata": {},
   "outputs": [
    {
     "name": "stderr",
     "output_type": "stream",
     "text": [
      "/var/folders/8v/_f0s3ppn27g2ss5m_lvb311m0000gn/T/ipykernel_26337/2467433803.py:23: UserWarning:\n",
      "\n",
      "pandas only supports SQLAlchemy connectable (engine/connection) or database string URI or sqlite3 DBAPI2 connection. Other DBAPI2 objects are not tested. Please consider using SQLAlchemy.\n",
      "\n"
     ]
    },
    {
     "name": "stdout",
     "output_type": "stream",
     "text": [
      "Data downloaded successfully!\n"
     ]
    }
   ],
   "source": [
    "\n",
    "\n",
    "# Database connection parameters\n",
    "host = \"34.129.179.229\"\n",
    "database = \"postgres\"\n",
    "user = \"postgres\"\n",
    "password = \"Iti<FVBpR:05tTOU\"\n",
    "port = \"5432\"\n",
    "\n",
    "# SQL query to fetch data\n",
    "query = \"SELECT * FROM heat_data\"\n",
    "\n",
    "# Connect to PostgreSQL and fetch data\n",
    "try:\n",
    "    # Establish the connection\n",
    "    conn = psycopg2.connect(\n",
    "        host=host,\n",
    "        database=database,\n",
    "        user=user,\n",
    "        password=password,\n",
    "        port=port\n",
    "    )\n",
    "    \n",
    "    # Load data into a DataFrame\n",
    "    df = pd.read_sql_query(query, conn)\n",
    "    \n",
    "    # Close the connection\n",
    "    conn.close()\n",
    "    \n",
    "    print(\"Data downloaded successfully!\")\n",
    "except Exception as e:\n",
    "    print(f\"An error occurred: {e}\")"
   ]
  },
  {
   "cell_type": "code",
   "execution_count": 35,
   "metadata": {},
   "outputs": [
    {
     "name": "stdout",
     "output_type": "stream",
     "text": [
      "Data downloaded successfully!\n"
     ]
    },
    {
     "name": "stderr",
     "output_type": "stream",
     "text": [
      "/var/folders/8v/_f0s3ppn27g2ss5m_lvb311m0000gn/T/ipykernel_26337/2839383081.py:16: UserWarning:\n",
      "\n",
      "pandas only supports SQLAlchemy connectable (engine/connection) or database string URI or sqlite3 DBAPI2 connection. Other DBAPI2 objects are not tested. Please consider using SQLAlchemy.\n",
      "\n"
     ]
    }
   ],
   "source": [
    "# SQL query to fetch data\n",
    "query = \"SELECT * FROM forest_trend\"\n",
    "\n",
    "# Connect to PostgreSQL and fetch data\n",
    "try:\n",
    "    # Establish the connection\n",
    "    conn = psycopg2.connect(\n",
    "        host=host,\n",
    "        database=database,\n",
    "        user=user,\n",
    "        password=password,\n",
    "        port=port\n",
    "    )\n",
    "    \n",
    "    # Load data into a DataFrame\n",
    "    df2 = pd.read_sql_query(query, conn)\n",
    "    \n",
    "    # Close the connection\n",
    "    conn.close()\n",
    "    \n",
    "    print(\"Data downloaded successfully!\")\n",
    "except Exception as e:\n",
    "    print(f\"An error occurred: {e}\")"
   ]
  },
  {
   "cell_type": "code",
   "execution_count": 34,
   "metadata": {},
   "outputs": [
    {
     "name": "stdout",
     "output_type": "stream",
     "text": [
      "Data downloaded successfully!\n"
     ]
    },
    {
     "name": "stderr",
     "output_type": "stream",
     "text": [
      "/var/folders/8v/_f0s3ppn27g2ss5m_lvb311m0000gn/T/ipykernel_26337/47942675.py:16: UserWarning:\n",
      "\n",
      "pandas only supports SQLAlchemy connectable (engine/connection) or database string URI or sqlite3 DBAPI2 connection. Other DBAPI2 objects are not tested. Please consider using SQLAlchemy.\n",
      "\n"
     ]
    }
   ],
   "source": [
    "# SQL query to fetch data\n",
    "query = \"SELECT * FROM global_climate_data\"\n",
    "\n",
    "# Connect to PostgreSQL and fetch data\n",
    "try:\n",
    "    # Establish the connection\n",
    "    conn = psycopg2.connect(\n",
    "        host=host,\n",
    "        database=database,\n",
    "        user=user,\n",
    "        password=password,\n",
    "        port=port\n",
    "    )\n",
    "    \n",
    "    # Load data into a DataFrame\n",
    "    df3 = pd.read_sql_query(query, conn)\n",
    "    \n",
    "    # Close the connection\n",
    "    conn.close()\n",
    "    \n",
    "    print(\"Data downloaded successfully!\")\n",
    "except Exception as e:\n",
    "    print(f\"An error occurred: {e}\")"
   ]
  },
  {
   "cell_type": "markdown",
   "metadata": {},
   "source": [
    "-----"
   ]
  },
  {
   "cell_type": "markdown",
   "metadata": {},
   "source": [
    "### Global Climate"
   ]
  },
  {
   "cell_type": "code",
   "execution_count": 44,
   "metadata": {},
   "outputs": [
    {
     "data": {
      "application/vnd.microsoft.datawrangler.viewer.v0+json": {
       "columns": [
        {
         "name": "index",
         "rawType": "int64",
         "type": "integer"
        },
        {
         "name": "year",
         "rawType": "int64",
         "type": "integer"
        },
        {
         "name": "avg_temp",
         "rawType": "float64",
         "type": "float"
        },
        {
         "name": "lower_bound",
         "rawType": "float64",
         "type": "float"
        },
        {
         "name": "upper_bound",
         "rawType": "float64",
         "type": "float"
        },
        {
         "name": "co2",
         "rawType": "float64",
         "type": "float"
        },
        {
         "name": "methane",
         "rawType": "float64",
         "type": "float"
        },
        {
         "name": "ghg_emission",
         "rawType": "float64",
         "type": "float"
        }
       ],
       "conversionMethod": "pd.DataFrame",
       "ref": "14fff6fa-8bcd-4ca0-bf5f-e058df3410f4",
       "rows": [
        [
         "0",
         "1850",
         "-0.05541366",
         "-0.22695872",
         "0.11613145",
         "196847600.0",
         "1239410200.0",
         "4219061200.0"
        ],
        [
         "1",
         "1851",
         "0.12894794",
         "-0.04957017",
         "0.30746606",
         "198778540.0",
         "1244053400.0",
         "4409311000.0"
        ],
        [
         "2",
         "1852",
         "0.13289867",
         "-0.047084685",
         "0.31288204",
         "207595090.0",
         "1250690000.0",
         "4465078300.0"
        ],
        [
         "3",
         "1853",
         "0.0919433",
         "-0.067711584",
         "0.2515982",
         "217236980.0",
         "1258188000.0",
         "4532813300.0"
        ],
        [
         "4",
         "1854",
         "0.07077692",
         "-0.07041376",
         "0.21196756",
         "255038560.0",
         "1270683500.0",
         "4594583600.0"
        ],
        [
         "5",
         "1855",
         "0.065381",
         "-0.077021025",
         "0.207783",
         "260259860.0",
         "1277144100.0",
         "4572071400.0"
        ],
        [
         "6",
         "1856",
         "0.04194403",
         "-0.105795465",
         "0.18968354",
         "278245630.0",
         "1285785700.0",
         "4690924500.0"
        ],
        [
         "7",
         "1857",
         "-0.1049323",
         "-0.25402442",
         "0.044159804",
         "281181060.0",
         "1291692800.0",
         "4683661000.0"
        ],
        [
         "8",
         "1858",
         "-0.026467945",
         "-0.1745883",
         "0.12165243",
         "285548420.0",
         "1297412600.0",
         "4718894600.0"
        ],
        [
         "9",
         "1859",
         "0.08103258",
         "-0.061623093",
         "0.22368824",
         "302572160.0",
         "1306537100.0",
         "4810028000.0"
        ],
        [
         "10",
         "1860",
         "-0.027867433",
         "-0.17667887",
         "0.120944",
         "332298460.0",
         "1317394000.0",
         "4593481700.0"
        ],
        [
         "11",
         "1861",
         "-0.06681519",
         "-0.23470327",
         "0.101072915",
         "349190180.0",
         "1325737300.0",
         "4605667300.0"
        ],
        [
         "12",
         "1862",
         "-0.17407164",
         "-0.3413622",
         "-0.006781038",
         "355991100.0",
         "1332219500.0",
         "4592632300.0"
        ],
        [
         "13",
         "1863",
         "0.018053684",
         "-0.17173901",
         "0.20784633",
         "379534880.0",
         "1343444500.0",
         "4594464300.0"
        ],
        [
         "14",
         "1864",
         "-0.10316732",
         "-0.2857953",
         "0.07946063",
         "409525400.0",
         "1354034200.0",
         "4547105300.0"
        ],
        [
         "15",
         "1865",
         "0.029816423",
         "-0.16215917",
         "0.22179197",
         "434851330.0",
         "1363879700.0",
         "4535310300.0"
        ],
        [
         "16",
         "1866",
         "0.021010254",
         "-0.15950313",
         "0.2015236",
         "449067000.0",
         "1374173300.0",
         "4597011000.0"
        ],
        [
         "17",
         "1867",
         "0.005303625",
         "-0.19072548",
         "0.2013327",
         "480813900.0",
         "1382192000.0",
         "4599316000.0"
        ],
        [
         "18",
         "1868",
         "0.010470603",
         "-0.16718099",
         "0.18812214",
         "494493540.0",
         "1389062800.0",
         "4588681000.0"
        ],
        [
         "19",
         "1869",
         "0.0457058",
         "-0.1141656",
         "0.20557718",
         "524731070.0",
         "1399233800.0",
         "4675858000.0"
        ],
        [
         "20",
         "1870",
         "0.034370217",
         "-0.106401704",
         "0.17514217",
         "536123300.0",
         "1406287900.0",
         "4945148000.0"
        ],
        [
         "21",
         "1871",
         "-0.0062650107",
         "-0.15183541",
         "0.1393054",
         "569776640.0",
         "1419817600.0",
         "5014069000.0"
        ],
        [
         "22",
         "1872",
         "0.03418717",
         "-0.10087227",
         "0.1692466",
         "630961500.0",
         "1438473300.0",
         "5297401300.0"
        ],
        [
         "23",
         "1873",
         "0.021000836",
         "-0.110203885",
         "0.15220557",
         "670467200.0",
         "1453699200.0",
         "5287834000.0"
        ],
        [
         "24",
         "1874",
         "-0.010953452",
         "-0.14484486",
         "0.122937955",
         "628662200.0",
         "1458418800.0",
         "5458159600.0"
        ],
        [
         "25",
         "1875",
         "-0.013328191",
         "-0.15174326",
         "0.12508689",
         "681048000.0",
         "1474550400.0",
         "5621640000.0"
        ],
        [
         "26",
         "1876",
         "-0.06181216",
         "-0.20057341",
         "0.07694907",
         "690582500.0",
         "1485301000.0",
         "5673683000.0"
        ],
        [
         "27",
         "1877",
         "0.2611889",
         "0.13247773",
         "0.3899001",
         "704032830.0",
         "1496806700.0",
         "5607008300.0"
        ],
        [
         "28",
         "1878",
         "0.35098255",
         "0.23108517",
         "0.47087994",
         "709649540.0",
         "1506971000.0",
         "5727372300.0"
        ],
        [
         "29",
         "1879",
         "0.05866343",
         "-0.07176661",
         "0.18909344",
         "759794370.0",
         "1522491300.0",
         "5793445400.0"
        ],
        [
         "30",
         "1880",
         "0.0464657",
         "-0.077853166",
         "0.17078453",
         "858055700.0",
         "1544154800.0",
         "6027994000.0"
        ],
        [
         "31",
         "1881",
         "0.13005222",
         "0.0043627657",
         "0.2557417",
         "887965000.0",
         "1561757600.0",
         "6074859000.0"
        ],
        [
         "32",
         "1882",
         "0.06676767",
         "-0.057852354",
         "0.19138768",
         "937888260.0",
         "1579726200.0",
         "6324752000.0"
        ],
        [
         "33",
         "1883",
         "0.015823338",
         "-0.09851994",
         "0.13016662",
         "997514560.0",
         "1599365400.0",
         "6328190000.0"
        ],
        [
         "34",
         "1884",
         "-0.13002232",
         "-0.24037084",
         "-0.01967379",
         "1009429800.0",
         "1611339800.0",
         "6507302400.0"
        ],
        [
         "35",
         "1885",
         "-0.108825825",
         "-0.22077045",
         "0.003118787",
         "1017144500.0",
         "1623186400.0",
         "6527370000.0"
        ],
        [
         "36",
         "1886",
         "-0.058605876",
         "-0.16024044",
         "0.043028716",
         "1032613630.0",
         "1636273800.0",
         "6471709700.0"
        ],
        [
         "37",
         "1887",
         "-0.13648802",
         "-0.25426212",
         "-0.018713918",
         "1083727500.0",
         "1654783000.0",
         "6688979500.0"
        ],
        [
         "38",
         "1888",
         "-0.017081138",
         "-0.13102603",
         "0.096863754",
         "1200801700.0",
         "1679934500.0",
         "6707763000.0"
        ],
        [
         "39",
         "1889",
         "0.11240219",
         "-0.009923186",
         "0.23472758",
         "1201516300.0",
         "1692224900.0",
         "6833890300.0"
        ],
        [
         "40",
         "1890",
         "-0.14456043",
         "-0.27011177",
         "-0.01900905",
         "1306591200.0",
         "1718403000.0",
         "7247878000.0"
        ],
        [
         "41",
         "1891",
         "-0.039017197",
         "-0.17507216",
         "0.09703777",
         "1368915700.0",
         "1737433700.0",
         "7542617600.0"
        ],
        [
         "42",
         "1892",
         "-0.14526078",
         "-0.2820308",
         "-0.008490767",
         "1379808900.0",
         "1750323700.0",
         "7510893600.0"
        ],
        [
         "43",
         "1893",
         "-0.13232148",
         "-0.26923367",
         "0.0045907237",
         "1362515100.0",
         "1757734100.0",
         "7691345400.0"
        ],
        [
         "44",
         "1894",
         "-0.12146618",
         "-0.26327035",
         "0.020338003",
         "1411532900.0",
         "1777375500.0",
         "7778905600.0"
        ],
        [
         "45",
         "1895",
         "-0.08645385",
         "-0.2197229",
         "0.04681516",
         "1495238900.0",
         "1800435300.0",
         "7894431000.0"
        ],
        [
         "46",
         "1896",
         "0.07829047",
         "-0.055103716",
         "0.21168467",
         "1544660900.0",
         "1817187800.0",
         "7899118600.0"
        ],
        [
         "47",
         "1897",
         "0.102497585",
         "-0.036226507",
         "0.24122168",
         "1617492700.0",
         "1838661000.0",
         "8156441000.0"
        ],
        [
         "48",
         "1898",
         "-0.12349438",
         "-0.25535145",
         "0.008362714",
         "1705961000.0",
         "1861336400.0",
         "8223389700.0"
        ],
        [
         "49",
         "1899",
         "0.0068641044",
         "-0.12409919",
         "0.13782738",
         "1863135400.0",
         "1892891900.0",
         "8505797000.0"
        ]
       ],
       "shape": {
        "columns": 7,
        "rows": 173
       }
      },
      "text/html": [
       "<div>\n",
       "<style scoped>\n",
       "    .dataframe tbody tr th:only-of-type {\n",
       "        vertical-align: middle;\n",
       "    }\n",
       "\n",
       "    .dataframe tbody tr th {\n",
       "        vertical-align: top;\n",
       "    }\n",
       "\n",
       "    .dataframe thead th {\n",
       "        text-align: right;\n",
       "    }\n",
       "</style>\n",
       "<table border=\"1\" class=\"dataframe\">\n",
       "  <thead>\n",
       "    <tr style=\"text-align: right;\">\n",
       "      <th></th>\n",
       "      <th>year</th>\n",
       "      <th>avg_temp</th>\n",
       "      <th>lower_bound</th>\n",
       "      <th>upper_bound</th>\n",
       "      <th>co2</th>\n",
       "      <th>methane</th>\n",
       "      <th>ghg_emission</th>\n",
       "    </tr>\n",
       "  </thead>\n",
       "  <tbody>\n",
       "    <tr>\n",
       "      <th>0</th>\n",
       "      <td>1850</td>\n",
       "      <td>-0.055414</td>\n",
       "      <td>-0.226959</td>\n",
       "      <td>0.116131</td>\n",
       "      <td>1.968476e+08</td>\n",
       "      <td>1.239410e+09</td>\n",
       "      <td>4.219061e+09</td>\n",
       "    </tr>\n",
       "    <tr>\n",
       "      <th>1</th>\n",
       "      <td>1851</td>\n",
       "      <td>0.128948</td>\n",
       "      <td>-0.049570</td>\n",
       "      <td>0.307466</td>\n",
       "      <td>1.987785e+08</td>\n",
       "      <td>1.244053e+09</td>\n",
       "      <td>4.409311e+09</td>\n",
       "    </tr>\n",
       "    <tr>\n",
       "      <th>2</th>\n",
       "      <td>1852</td>\n",
       "      <td>0.132899</td>\n",
       "      <td>-0.047085</td>\n",
       "      <td>0.312882</td>\n",
       "      <td>2.075951e+08</td>\n",
       "      <td>1.250690e+09</td>\n",
       "      <td>4.465078e+09</td>\n",
       "    </tr>\n",
       "    <tr>\n",
       "      <th>3</th>\n",
       "      <td>1853</td>\n",
       "      <td>0.091943</td>\n",
       "      <td>-0.067712</td>\n",
       "      <td>0.251598</td>\n",
       "      <td>2.172370e+08</td>\n",
       "      <td>1.258188e+09</td>\n",
       "      <td>4.532813e+09</td>\n",
       "    </tr>\n",
       "    <tr>\n",
       "      <th>4</th>\n",
       "      <td>1854</td>\n",
       "      <td>0.070777</td>\n",
       "      <td>-0.070414</td>\n",
       "      <td>0.211968</td>\n",
       "      <td>2.550386e+08</td>\n",
       "      <td>1.270684e+09</td>\n",
       "      <td>4.594584e+09</td>\n",
       "    </tr>\n",
       "    <tr>\n",
       "      <th>...</th>\n",
       "      <td>...</td>\n",
       "      <td>...</td>\n",
       "      <td>...</td>\n",
       "      <td>...</td>\n",
       "      <td>...</td>\n",
       "      <td>...</td>\n",
       "      <td>...</td>\n",
       "    </tr>\n",
       "    <tr>\n",
       "      <th>168</th>\n",
       "      <td>2018</td>\n",
       "      <td>1.124952</td>\n",
       "      <td>1.093350</td>\n",
       "      <td>1.156554</td>\n",
       "      <td>3.673042e+10</td>\n",
       "      <td>1.019893e+10</td>\n",
       "      <td>5.242027e+10</td>\n",
       "    </tr>\n",
       "    <tr>\n",
       "      <th>169</th>\n",
       "      <td>2019</td>\n",
       "      <td>1.253370</td>\n",
       "      <td>1.219085</td>\n",
       "      <td>1.287656</td>\n",
       "      <td>3.710428e+10</td>\n",
       "      <td>1.027905e+10</td>\n",
       "      <td>5.279652e+10</td>\n",
       "    </tr>\n",
       "    <tr>\n",
       "      <th>170</th>\n",
       "      <td>2020</td>\n",
       "      <td>1.285218</td>\n",
       "      <td>1.250596</td>\n",
       "      <td>1.319841</td>\n",
       "      <td>3.512653e+10</td>\n",
       "      <td>1.016395e+10</td>\n",
       "      <td>5.079254e+10</td>\n",
       "    </tr>\n",
       "    <tr>\n",
       "      <th>171</th>\n",
       "      <td>2021</td>\n",
       "      <td>1.124203</td>\n",
       "      <td>1.087755</td>\n",
       "      <td>1.160651</td>\n",
       "      <td>3.699173e+10</td>\n",
       "      <td>1.033092e+10</td>\n",
       "      <td>5.293879e+10</td>\n",
       "    </tr>\n",
       "    <tr>\n",
       "      <th>172</th>\n",
       "      <td>2022</td>\n",
       "      <td>1.163603</td>\n",
       "      <td>1.127555</td>\n",
       "      <td>1.199651</td>\n",
       "      <td>3.729383e+10</td>\n",
       "      <td>1.052981e+10</td>\n",
       "      <td>5.332722e+10</td>\n",
       "    </tr>\n",
       "  </tbody>\n",
       "</table>\n",
       "<p>173 rows × 7 columns</p>\n",
       "</div>"
      ],
      "text/plain": [
       "     year  avg_temp  lower_bound  upper_bound           co2       methane  \\\n",
       "0    1850 -0.055414    -0.226959     0.116131  1.968476e+08  1.239410e+09   \n",
       "1    1851  0.128948    -0.049570     0.307466  1.987785e+08  1.244053e+09   \n",
       "2    1852  0.132899    -0.047085     0.312882  2.075951e+08  1.250690e+09   \n",
       "3    1853  0.091943    -0.067712     0.251598  2.172370e+08  1.258188e+09   \n",
       "4    1854  0.070777    -0.070414     0.211968  2.550386e+08  1.270684e+09   \n",
       "..    ...       ...          ...          ...           ...           ...   \n",
       "168  2018  1.124952     1.093350     1.156554  3.673042e+10  1.019893e+10   \n",
       "169  2019  1.253370     1.219085     1.287656  3.710428e+10  1.027905e+10   \n",
       "170  2020  1.285218     1.250596     1.319841  3.512653e+10  1.016395e+10   \n",
       "171  2021  1.124203     1.087755     1.160651  3.699173e+10  1.033092e+10   \n",
       "172  2022  1.163603     1.127555     1.199651  3.729383e+10  1.052981e+10   \n",
       "\n",
       "     ghg_emission  \n",
       "0    4.219061e+09  \n",
       "1    4.409311e+09  \n",
       "2    4.465078e+09  \n",
       "3    4.532813e+09  \n",
       "4    4.594584e+09  \n",
       "..            ...  \n",
       "168  5.242027e+10  \n",
       "169  5.279652e+10  \n",
       "170  5.079254e+10  \n",
       "171  5.293879e+10  \n",
       "172  5.332722e+10  \n",
       "\n",
       "[173 rows x 7 columns]"
      ]
     },
     "execution_count": 44,
     "metadata": {},
     "output_type": "execute_result"
    }
   ],
   "source": [
    "global_climate = df3.copy()\n",
    "global_climate"
   ]
  },
  {
   "cell_type": "code",
   "execution_count": 54,
   "metadata": {},
   "outputs": [
    {
     "name": "stderr",
     "output_type": "stream",
     "text": [
      "/var/folders/8v/_f0s3ppn27g2ss5m_lvb311m0000gn/T/ipykernel_26337/3926211420.py:3: SettingWithCopyWarning:\n",
      "\n",
      "\n",
      "A value is trying to be set on a copy of a slice from a DataFrame\n",
      "\n",
      "See the caveats in the documentation: https://pandas.pydata.org/pandas-docs/stable/user_guide/indexing.html#returning-a-view-versus-a-copy\n",
      "\n"
     ]
    }
   ],
   "source": [
    "temp_data = pd.read_csv(\"https://ourworldindata.org/grapher/temperature-anomaly.csv?v=1&csvType=full&useColumnShortNames=true\", storage_options = {'User-Agent': 'Our World In Data data fetch/1.0'})\n",
    "world_temp_data = temp_data[temp_data['Entity'] == 'World']\n",
    "world_temp_data.rename(columns={\n",
    "    \"near_surface_temperature_anomaly\": \"avg_temperature\",\n",
    "    \"near_surface_temperature_anomaly_lower\": \"lower_bound\",\n",
    "    \"near_surface_temperature_anomaly_upper\": \"upper_bound\"\n",
    "}, inplace=True)"
   ]
  },
  {
   "cell_type": "code",
   "execution_count": 68,
   "metadata": {},
   "outputs": [
    {
     "data": {
      "application/vnd.plotly.v1+json": {
       "config": {
        "plotlyServerURL": "https://plot.ly"
       },
       "data": [
        {
         "line": {
          "width": 0
         },
         "mode": "lines",
         "name": "Upper Bound",
         "showlegend": false,
         "type": "scatter",
         "x": {
          "bdata": "Ogc7BzwHPQc+Bz8HQAdBB0IHQwdEB0UHRgdHB0gHSQdKB0sHTAdNB04HTwdQB1EHUgdTB1QHVQdWB1cHWAdZB1oHWwdcB10HXgdfB2AHYQdiB2MHZAdlB2YHZwdoB2kHagdrB2wHbQduB28HcAdxB3IHcwd0B3UHdgd3B3gHeQd6B3sHfAd9B34HfweAB4EHggeDB4QHhQeGB4cHiAeJB4oHiweMB40HjgePB5AHkQeSB5MHlAeVB5YHlweYB5kHmgebB5wHnQeeB58HoAehB6IHowekB6UHpgenB6gHqQeqB6sHrAetB64HrwewB7EHsgezB7QHtQe2B7cHuAe5B7oHuwe8B70Hvge/B8AHwQfCB8MHxAfFB8YHxwfIB8kHygfLB8wHzQfOB88H0AfRB9IH0wfUB9UH1gfXB9gH2QfaB9sH3AfdB94H3wfgB+EH4gfjB+QH5QfmB+cH6AfpBw==",
          "dtype": "i2"
         },
         "y": {
          "bdata": "tnzJa8q6vT9KHhUghq3TP6KRU2RCBtQ/vuAuVi8a0D9KpwHFwCHLPx4X1SKimMo/Zdtx3IxHyD9EnvQjHZymP7Y0VBidJL8/0V+m9dChzD+UvaWcL/a+Px23byDq37k/LEEWB2/Ge7+pyPhitZrKPw5oKyeIV7Q/QizV5K1jzD/Ho697hsvJP7/EDhlFxck/Yg1642IUyD8rs3NgWlDKP+F1JgIPa8Y/T/6TZMLUwT/bxvph36nFPxCjtdx4e8M/rYApoNx4vz8yq9ri2ALAP6OMGyvvsrM/nUGNjB/02D/GHamd5SLeP+oUWL42NMg/KqGBeUTcxT/lTG5vEl7QPz6JOjlkf8g/aCb3v0ypwD9ZsY2yXSWUv+XPYQWSjGk/3YoEINwHpj+B/CjHvSmTv7YImR8QzLg/UtzIp40Lzj/I5k/AG3eTv/5zoKB317g/2uSpdJtjgb/o6IACuc1yPwL5AEd805Q/RWNQGij4pz9zdlu3exjLP6jUVx1a4M4/BB8WeXgggT9e88vcU6TBP3xyPZ87oNA/0t1cmUMUyj9GTtMl64mtP4fG1t2Dqqe/n9Zl37KWu79T93WegL+zPz4efif7ocU/+HTLxxuEmr8iDZfqPAmiv8WkZN5PsrC/FgHZ4Wusq78CEqhZ+5awv+185HvraIW/FTbZAFmBdj/xmXDYS43KP+NgJdUtcdI/TW3jLkZNsT/N1LncP5qnv79+qRv/cLQ/Ist6GPdyxj9jWmEbbSzJP7cgAN08es8/D9UxOmIlwT9P0ewVcZXDPwJfNNiSXcQ/bJ4bgRWzyD/IAi7hM0bWP2BR1/sJPs4/SmHe40wT0T8RsiQnsIy0P0v2W31tJNM/0lYlkX2Q1z8DQBU3brHUP2/HacLVhcI/JH1aRX9o0j98OqrcPDzQPwOo8/KFWtI/ckPfH+dk3D/j2/0iT6/cP8g8dkCnWts/X8plSLrL4T/IMrOF1jnjPycGNwgp7uE/4j0HliNk4j9LY6wdYo/mP49cUEJdYuM/j75RROn/2D8v/OB86ljaP7Tc45ag0Nc/7014rpQK1T9KYb3VY/DOPwQyAeBU+9g//J+q39h13j9uVwEhBjjhP2SMct1SltU/AZg64Ygi0D86NX5+a2nGP/fgOYS/Gdk/Fqr2RDI/2j/glW5cEBvYP9KWKZyTjdM/dmge4TAo2T/ttUU+VH/WP2RTUze8Rdg/reR8FCKeuT//sc4AMIHKP78WT5iL09A//oOjP49s0j9zTWC+5X/OPxaYwkFKxdc/UKzwusBd1D9mgkSHfvXIP2eSot8InNM/bOY1G9C33D9vncHXvh3NP0IQ1rWssdI/HgWhH7rexz//OAYJ9kTgP6LMq9/xEto/bUa8K3HT3j+TbBqAsu7iP9n0dyHjkuQ/K/5KQn3m2z9R8tF/YubjP7cXJL92l9w/ArJ8As2M3D9ZraexGFDfP8+Du7N2W+Q//0F//AC/5T+sBOZ8DHHiP6djhKbbSOg/upaYgMKN5z+q3zsgv63gP+M6Ic+JGOI/Pv0tIgYx5D8nq9hOSrfoPzaVRWEXheU/OkFZAGwj6j9jZ2VWSirvP/Uwch5n/eY/+7B7flo95z/RY+8g0T/sP5csF79j9+0/Yk7QJocP7j8/WvfqPpvrPxrdQexMAfA/LO27v83k7j/uF/2yxX/vPzsUqkDSjOs/QraHGAqz7z/Q/CCB9S7xP2SS9N1r0O0/O6LnuwAg7z/E+vX53lXwP1mRh3QuG/E/+GI5UzKK8z9Es/wK4zj1P01oklhSzvM/sBXZcz6B8j8cLijCPJr0Pz/gJkgRHvU/FBBJ4waS8j997IkJxTHzPyAY9mo2Bfg/cZzKWCNR+T/XmYx0UBP+Pw==",
          "dtype": "f8"
         }
        },
        {
         "fill": "tonexty",
         "fillcolor": "rgba(68, 68, 68, 0.3)",
         "line": {
          "width": 0
         },
         "mode": "lines",
         "name": "Lower Bound",
         "showlegend": false,
         "type": "scatter",
         "x": {
          "bdata": "Ogc7BzwHPQc+Bz8HQAdBB0IHQwdEB0UHRgdHB0gHSQdKB0sHTAdNB04HTwdQB1EHUgdTB1QHVQdWB1cHWAdZB1oHWwdcB10HXgdfB2AHYQdiB2MHZAdlB2YHZwdoB2kHagdrB2wHbQduB28HcAdxB3IHcwd0B3UHdgd3B3gHeQd6B3sHfAd9B34HfweAB4EHggeDB4QHhQeGB4cHiAeJB4oHiweMB40HjgePB5AHkQeSB5MHlAeVB5YHlweYB5kHmgebB5wHnQeeB58HoAehB6IHowekB6UHpgenB6gHqQeqB6sHrAetB64HrwewB7EHsgezB7QHtQe2B7cHuAe5B7oHuwe8B70Hvge/B8AHwQfCB8MHxAfFB8YHxwfIB8kHygfLB8wHzQfOB88H0AfRB9IH0wfUB9UH1gfXB9gH2QfaB9sH3AfdB94H3wfgB+EH4gfjB+QH5QfmB+cH6AfpBw==",
          "dtype": "i2"
         },
         "y": {
          "bdata": "JpT4u/sMzb+EqgPmQmGpvyZXb9x7G6i/oSHX3otVsb+5bWPcogayv9u5el+mt7O/Bng9XmkVu795QxKk70HQv4PSYc/oWMa/LQs64g+Nr7+CqUXIaZ3Gv2cGdbrBCs6/k8xF1+DY1b+P3rI7i/vFv7xutl54StK/p8DytaHBxL9e1Xo7mWrEv1iUjkmxaci/NQ1Iyi9mxb8SBlTu9Dm9vx0u614kPbu/dJEpvFdvw78BKbncw9K5v9CW92FSNry/HctYwEaKwr+CUYu5UmzDv27XMrZjrMm/SS/mvgf1wD/+y97nMpTNP7sQ5epLX7K/1izcYS/us7/ImAYAsd5xP0Ft2uDSnq2/OstNUJo4ub9pJFvAeMTOv4YrVsM0Qsy/o/ilPMKCxL+BvoCg1EXQv9sp4wB2xcC/EKy8eptShL8EiprggknRvx/u0bjDaMa/7L2d6coM0r+cc+jbHzvRvxBq0OFr2dC/5lTXRuEfzL80VTfkjTasv9VqoN1HjKK/jx2vm61X0L9GlYLq9sS/v5MIVwDPFnG/xgJ4bk7jsL/BgfvHYwLLv8dWhieq7dK/8ajnk8s1179WdDXDV4XFv3aw9l4ZJ7W/WvW52op90L/zQ52g6iPRv7hWe9gLBdK/XbF1X4Qf0r9cGiIbBnvSv3rClkfMpsu/tP47R4mCy7/BEGL8bpl/v2esRysIL6s/uNmKw7ptx785D4LpDyjUv67rvDIUHMq/Jb/y3iDzub83vMVowpuxvxzFHgP+HGK/nzraYeFetr+K1dXT/VKwv41zgtMOwa2/Jn7t4vu3oL9M22T5X9PAP7rb/0SI0p4/ZV3PHAH4pj94y1nI8f3Bv//oeiYkZ7I/kldKQ0smwz/ur4EhaT+8PwaVfuPnlrC/UodwJ2yatj9g1MAfFhuuP8QnGRCMSbk/P+gTWIQLzz9DcjJxqyDQP6ZYf5WNmMs/hJeFG5WA1D837M5FCZvJP0FWhUANY8U/gSI3P9XTxD/62cAEC7PTP29RfyDtPco/VPaGkC2quD+Itb5pdrTAP0RNNhb7aLo/cEpQLlO0uz/V18BEJlqeP6Ykb6kYIcs/hzYAGxDh0T9/H8SEh9/VP3AFmCKOr8M/fBqDkCTvsz91Ndc7bLqXP3M76p4rwNA/Y97b28re0T98linerx/QP2w2wf2hFcg/1rWssTqo0j8K0aWoyFvPPy6suMTTY9E/YbkQcZQ4ij/nqz8d6tK7P3m7seJM+sQ/R2bk4l7PyT/HKxA9KRPDP3uVKaQEltI/TY0riUc9zj8Htdoh0Cm+P9FcZXXEhM0/4sZvAroM2D9GKBE8GXfDPwcFxnbOAcs/NAmpnnY/uz8Z7Qrg2gfbP/nNUB4O+dQ//UGP3pEt2z88XpIUos3gP5ks7j8yneI/7sQ4wS/c1j8wlSMJZ5zhPwXmGeL17Nc/5gpKLIQw2D9A+FCiJU/bPxokM80qYuI/J4PlAKh/4z8flheqrDfgP9dqzV7P+uU/k+qWeJtS5T8HwTYk5gDdP8Wu7e2WZN8/dI3gkFfx4T8ldNngK5fmP82U1t8SYOM/YkPcQZET6D9nKgZAw/jsP+Wp3H7Y9uQ/A3dFlQYj5T/250docEDqP2/dB/+mAOw/JIM3/wr06z/6A4r9Cn7pPwLvR/4eBO4/nx78QMnv7D+PeA1VjI7tP6c6ia1FcOk/V9ZPYoSu7T/FmoAVli7wPyLWLOEayes/N/xuumUH7T8Ib7SIzWzuPwS5egTtBPA/bJrSVRV18j++R6I8mDn0P9pVSPlJ1fI/BmkhXFx+8T/htOBFX4HzP0M92L1wAvQ/JcLQNHJn8T/n2faHdwryP34QEx5+yPY/Okg+ZesP+D+cUfNV8vH1Pw==",
          "dtype": "f8"
         }
        },
        {
         "line": {
          "color": "red"
         },
         "mode": "lines",
         "name": "World Average Temperature",
         "type": "scatter",
         "x": {
          "bdata": "Ogc7BzwHPQc+Bz8HQAdBB0IHQwdEB0UHRgdHB0gHSQdKB0sHTAdNB04HTwdQB1EHUgdTB1QHVQdWB1cHWAdZB1oHWwdcB10HXgdfB2AHYQdiB2MHZAdlB2YHZwdoB2kHagdrB2wHbQduB28HcAdxB3IHcwd0B3UHdgd3B3gHeQd6B3sHfAd9B34HfweAB4EHggeDB4QHhQeGB4cHiAeJB4oHiweMB40HjgePB5AHkQeSB5MHlAeVB5YHlweYB5kHmgebB5wHnQeeB58HoAehB6IHowekB6UHpgenB6gHqQeqB6sHrAetB64HrwewB7EHsgezB7QHtQe2B7cHuAe5B7oHuwe8B70Hvge/B8AHwQfCB8MHxAfFB8YHxwfIB8kHygfLB8wHzQfOB88H0AfRB9IH0wfUB9UH1gfXB9gH2QfaB9sH3AfdB94H3wfgB+EH4gfjB+QH5QfmB+cH6AfpBw==",
          "dtype": "i2"
         },
         "y": {
          "bdata": "bEDn4i1frL+J4Ze4XYHAP5R7qtjSAsE/3BiWmpiJtz/2K7asbx6yP2afxyjPvLA/HZI5GrB5pT+SR8vc19y6v7JXq7hpGpu/X7ACGY2+tD8RE2/FR4mcvw4Q7d/MGrG/2QR7wPpHxr8sxmg5qnySP8x8amksabq/RsCsRjKInj/eGz5HtoOVP9nQzf5AuXU/M5yii5xxhT/Nm3kowGanP2Ne8Rv5mKE/LKgMAVepeb96gi8S+4ChPzkRPD8+gZU/T0rycMNuhr9mwa2Dz0uLv6/mY+vXpa+/dwHlpVG30D8q3m2Df3bWP2ZypBIiCa4/qIDFK1rKpz+OCtYXjaXAP8SCFJ+vF7E/WuvkPP4zkD+7NBNGkqTAv+3QVV8C3Lu/MP+L4ZYBrr/GDxl/cHjBvwGWWsS3fZG/u3wM0mPGvD81ppLH9IDCvyh0MeIP+qO/3ee+veeXwr/EQ5QG6e/Av1qIq1ZoGL+/jABd6tYhtr9QDD0g2Aq0P3x1fh9IPbo/5/xW41Odv78vGKH+iB18PxbFBmbgW8A/FYmNopyisT9NHw3p6J+zv/38lLb64sW/KFcEQXgbzr9fbqnjLkunv8QsRB/dHKY/LKs8w8wlwr+XJfA9EmXDv0+NPLWfMca/mMWCyhGVxb8YAZnGxKDGv/WzHt9a/by/AUPBUn7Our+gbj2WgJC5P29WjtoO18U/yvLv3y6Orb84V0HKVxvHvy0RvOIox6+/YTbEIs3yoj/uKGsnjF6wPygWFuHIMb8/0PZuR8bXlz9QrxAt5NemP25sSySe2qk/s1a8qhaFtD9ucODd46/OP0I7TKAtDME/SuOC+Uzywz9ycKLDZ96ev8aSB1w2vsc/vggipNGR0D9wczKKSMHLP4qgeyDDdKQ/+J42TxoPyD/Msmmdn//DP2W5tgHprMg/gf9Sq1T11T+iX1s//WfWP9WQPAB3k9Q/h6NQuwQM3D87+068mKDZPygjFWPsRtc/HfmsABmZ1z+VL8PaczTgP+swcIrY8dk/srS2nXQqzz/q8pzjklnRPyPh90bfas4/VntcRKn3yz8uuJNG1F3BP50pGaXwRdM/a5ZwjXQr2D91AwXeySfcP6vHAeQZbs8/L5ee+lEexT+5M1UouWC5PwvjdoH17NQ/Zm+EoP4O1j/neaoiYB3UP3n5xqVkmM8/tceovjXo1T+A6+1DnBbTP4JjZAPI1NQ/JlV4IzXlrD/5Q7eHUjXEP12DIR+yUMs/BEaPxj5Uzz8OBHWIh8nIP/JBEYOnLdU/eznDPzK+0T/+qadFMwXEP0ovpKI1L9E/Ng8WBEVi2j/bYukJbErIPxzt+v1JGdA/cXpyqDq/wj/xvDNe48jdP9yFQfT/hdc/NcQlhYEA3T+1XsJXKt7hP06mwLgKmOM/1H1jfFZh2T9P/L25ZMHiP/xvJTs2Qto/ks/pgahe2j8U750kn0/dP/RTd8DQXuM/vY3NjlSf5D8AwFauXFThPxa8jXLVIec/GIhUBy9w5j8EFTwiMi7fP2qlrZ1q5eA/7tqU4S4R4z81SBwNO6fnP7QbIhOVcuQ/v4nXq34b6T90AXnAhhHuP66sfrYf+uU/jswjfzAw5j+WrC+3IEDrP3RMzGkF/Ow/KPYr+MgB7T87IMfepIzqPyoNqWBcA+8/CdSsfUvq7T/ZOt0eKYfuP3GnGfeLfuo/vo0oSMew7j9lvijmxa7wP2aC4VzDzOw/OU8rO7MT7j9HMlC+RYzvP3we7ckNkPA/sv6F1KP/8j+Bfc+jPbn0PxRf7SjOUfM/qThpdc3/8T9/cQQEzg30P3SVk/VAkPQ/auJ4mbz88T8yY8BIHp7yP0+UhETaZvc/o2twbIew+D+59T9loQL6Pw==",
          "dtype": "f8"
         }
        }
       ],
       "layout": {
        "hovermode": "x unified",
        "legend": {
         "title": {
          "text": "Legend"
         }
        },
        "template": {
         "data": {
          "bar": [
           {
            "error_x": {
             "color": "#2a3f5f"
            },
            "error_y": {
             "color": "#2a3f5f"
            },
            "marker": {
             "line": {
              "color": "white",
              "width": 0.5
             },
             "pattern": {
              "fillmode": "overlay",
              "size": 10,
              "solidity": 0.2
             }
            },
            "type": "bar"
           }
          ],
          "barpolar": [
           {
            "marker": {
             "line": {
              "color": "white",
              "width": 0.5
             },
             "pattern": {
              "fillmode": "overlay",
              "size": 10,
              "solidity": 0.2
             }
            },
            "type": "barpolar"
           }
          ],
          "carpet": [
           {
            "aaxis": {
             "endlinecolor": "#2a3f5f",
             "gridcolor": "#C8D4E3",
             "linecolor": "#C8D4E3",
             "minorgridcolor": "#C8D4E3",
             "startlinecolor": "#2a3f5f"
            },
            "baxis": {
             "endlinecolor": "#2a3f5f",
             "gridcolor": "#C8D4E3",
             "linecolor": "#C8D4E3",
             "minorgridcolor": "#C8D4E3",
             "startlinecolor": "#2a3f5f"
            },
            "type": "carpet"
           }
          ],
          "choropleth": [
           {
            "colorbar": {
             "outlinewidth": 0,
             "ticks": ""
            },
            "type": "choropleth"
           }
          ],
          "contour": [
           {
            "colorbar": {
             "outlinewidth": 0,
             "ticks": ""
            },
            "colorscale": [
             [
              0,
              "#0d0887"
             ],
             [
              0.1111111111111111,
              "#46039f"
             ],
             [
              0.2222222222222222,
              "#7201a8"
             ],
             [
              0.3333333333333333,
              "#9c179e"
             ],
             [
              0.4444444444444444,
              "#bd3786"
             ],
             [
              0.5555555555555556,
              "#d8576b"
             ],
             [
              0.6666666666666666,
              "#ed7953"
             ],
             [
              0.7777777777777778,
              "#fb9f3a"
             ],
             [
              0.8888888888888888,
              "#fdca26"
             ],
             [
              1,
              "#f0f921"
             ]
            ],
            "type": "contour"
           }
          ],
          "contourcarpet": [
           {
            "colorbar": {
             "outlinewidth": 0,
             "ticks": ""
            },
            "type": "contourcarpet"
           }
          ],
          "heatmap": [
           {
            "colorbar": {
             "outlinewidth": 0,
             "ticks": ""
            },
            "colorscale": [
             [
              0,
              "#0d0887"
             ],
             [
              0.1111111111111111,
              "#46039f"
             ],
             [
              0.2222222222222222,
              "#7201a8"
             ],
             [
              0.3333333333333333,
              "#9c179e"
             ],
             [
              0.4444444444444444,
              "#bd3786"
             ],
             [
              0.5555555555555556,
              "#d8576b"
             ],
             [
              0.6666666666666666,
              "#ed7953"
             ],
             [
              0.7777777777777778,
              "#fb9f3a"
             ],
             [
              0.8888888888888888,
              "#fdca26"
             ],
             [
              1,
              "#f0f921"
             ]
            ],
            "type": "heatmap"
           }
          ],
          "histogram": [
           {
            "marker": {
             "pattern": {
              "fillmode": "overlay",
              "size": 10,
              "solidity": 0.2
             }
            },
            "type": "histogram"
           }
          ],
          "histogram2d": [
           {
            "colorbar": {
             "outlinewidth": 0,
             "ticks": ""
            },
            "colorscale": [
             [
              0,
              "#0d0887"
             ],
             [
              0.1111111111111111,
              "#46039f"
             ],
             [
              0.2222222222222222,
              "#7201a8"
             ],
             [
              0.3333333333333333,
              "#9c179e"
             ],
             [
              0.4444444444444444,
              "#bd3786"
             ],
             [
              0.5555555555555556,
              "#d8576b"
             ],
             [
              0.6666666666666666,
              "#ed7953"
             ],
             [
              0.7777777777777778,
              "#fb9f3a"
             ],
             [
              0.8888888888888888,
              "#fdca26"
             ],
             [
              1,
              "#f0f921"
             ]
            ],
            "type": "histogram2d"
           }
          ],
          "histogram2dcontour": [
           {
            "colorbar": {
             "outlinewidth": 0,
             "ticks": ""
            },
            "colorscale": [
             [
              0,
              "#0d0887"
             ],
             [
              0.1111111111111111,
              "#46039f"
             ],
             [
              0.2222222222222222,
              "#7201a8"
             ],
             [
              0.3333333333333333,
              "#9c179e"
             ],
             [
              0.4444444444444444,
              "#bd3786"
             ],
             [
              0.5555555555555556,
              "#d8576b"
             ],
             [
              0.6666666666666666,
              "#ed7953"
             ],
             [
              0.7777777777777778,
              "#fb9f3a"
             ],
             [
              0.8888888888888888,
              "#fdca26"
             ],
             [
              1,
              "#f0f921"
             ]
            ],
            "type": "histogram2dcontour"
           }
          ],
          "mesh3d": [
           {
            "colorbar": {
             "outlinewidth": 0,
             "ticks": ""
            },
            "type": "mesh3d"
           }
          ],
          "parcoords": [
           {
            "line": {
             "colorbar": {
              "outlinewidth": 0,
              "ticks": ""
             }
            },
            "type": "parcoords"
           }
          ],
          "pie": [
           {
            "automargin": true,
            "type": "pie"
           }
          ],
          "scatter": [
           {
            "fillpattern": {
             "fillmode": "overlay",
             "size": 10,
             "solidity": 0.2
            },
            "type": "scatter"
           }
          ],
          "scatter3d": [
           {
            "line": {
             "colorbar": {
              "outlinewidth": 0,
              "ticks": ""
             }
            },
            "marker": {
             "colorbar": {
              "outlinewidth": 0,
              "ticks": ""
             }
            },
            "type": "scatter3d"
           }
          ],
          "scattercarpet": [
           {
            "marker": {
             "colorbar": {
              "outlinewidth": 0,
              "ticks": ""
             }
            },
            "type": "scattercarpet"
           }
          ],
          "scattergeo": [
           {
            "marker": {
             "colorbar": {
              "outlinewidth": 0,
              "ticks": ""
             }
            },
            "type": "scattergeo"
           }
          ],
          "scattergl": [
           {
            "marker": {
             "colorbar": {
              "outlinewidth": 0,
              "ticks": ""
             }
            },
            "type": "scattergl"
           }
          ],
          "scattermap": [
           {
            "marker": {
             "colorbar": {
              "outlinewidth": 0,
              "ticks": ""
             }
            },
            "type": "scattermap"
           }
          ],
          "scattermapbox": [
           {
            "marker": {
             "colorbar": {
              "outlinewidth": 0,
              "ticks": ""
             }
            },
            "type": "scattermapbox"
           }
          ],
          "scatterpolar": [
           {
            "marker": {
             "colorbar": {
              "outlinewidth": 0,
              "ticks": ""
             }
            },
            "type": "scatterpolar"
           }
          ],
          "scatterpolargl": [
           {
            "marker": {
             "colorbar": {
              "outlinewidth": 0,
              "ticks": ""
             }
            },
            "type": "scatterpolargl"
           }
          ],
          "scatterternary": [
           {
            "marker": {
             "colorbar": {
              "outlinewidth": 0,
              "ticks": ""
             }
            },
            "type": "scatterternary"
           }
          ],
          "surface": [
           {
            "colorbar": {
             "outlinewidth": 0,
             "ticks": ""
            },
            "colorscale": [
             [
              0,
              "#0d0887"
             ],
             [
              0.1111111111111111,
              "#46039f"
             ],
             [
              0.2222222222222222,
              "#7201a8"
             ],
             [
              0.3333333333333333,
              "#9c179e"
             ],
             [
              0.4444444444444444,
              "#bd3786"
             ],
             [
              0.5555555555555556,
              "#d8576b"
             ],
             [
              0.6666666666666666,
              "#ed7953"
             ],
             [
              0.7777777777777778,
              "#fb9f3a"
             ],
             [
              0.8888888888888888,
              "#fdca26"
             ],
             [
              1,
              "#f0f921"
             ]
            ],
            "type": "surface"
           }
          ],
          "table": [
           {
            "cells": {
             "fill": {
              "color": "#EBF0F8"
             },
             "line": {
              "color": "white"
             }
            },
            "header": {
             "fill": {
              "color": "#C8D4E3"
             },
             "line": {
              "color": "white"
             }
            },
            "type": "table"
           }
          ]
         },
         "layout": {
          "annotationdefaults": {
           "arrowcolor": "#2a3f5f",
           "arrowhead": 0,
           "arrowwidth": 1
          },
          "autotypenumbers": "strict",
          "coloraxis": {
           "colorbar": {
            "outlinewidth": 0,
            "ticks": ""
           }
          },
          "colorscale": {
           "diverging": [
            [
             0,
             "#8e0152"
            ],
            [
             0.1,
             "#c51b7d"
            ],
            [
             0.2,
             "#de77ae"
            ],
            [
             0.3,
             "#f1b6da"
            ],
            [
             0.4,
             "#fde0ef"
            ],
            [
             0.5,
             "#f7f7f7"
            ],
            [
             0.6,
             "#e6f5d0"
            ],
            [
             0.7,
             "#b8e186"
            ],
            [
             0.8,
             "#7fbc41"
            ],
            [
             0.9,
             "#4d9221"
            ],
            [
             1,
             "#276419"
            ]
           ],
           "sequential": [
            [
             0,
             "#0d0887"
            ],
            [
             0.1111111111111111,
             "#46039f"
            ],
            [
             0.2222222222222222,
             "#7201a8"
            ],
            [
             0.3333333333333333,
             "#9c179e"
            ],
            [
             0.4444444444444444,
             "#bd3786"
            ],
            [
             0.5555555555555556,
             "#d8576b"
            ],
            [
             0.6666666666666666,
             "#ed7953"
            ],
            [
             0.7777777777777778,
             "#fb9f3a"
            ],
            [
             0.8888888888888888,
             "#fdca26"
            ],
            [
             1,
             "#f0f921"
            ]
           ],
           "sequentialminus": [
            [
             0,
             "#0d0887"
            ],
            [
             0.1111111111111111,
             "#46039f"
            ],
            [
             0.2222222222222222,
             "#7201a8"
            ],
            [
             0.3333333333333333,
             "#9c179e"
            ],
            [
             0.4444444444444444,
             "#bd3786"
            ],
            [
             0.5555555555555556,
             "#d8576b"
            ],
            [
             0.6666666666666666,
             "#ed7953"
            ],
            [
             0.7777777777777778,
             "#fb9f3a"
            ],
            [
             0.8888888888888888,
             "#fdca26"
            ],
            [
             1,
             "#f0f921"
            ]
           ]
          },
          "colorway": [
           "#636efa",
           "#EF553B",
           "#00cc96",
           "#ab63fa",
           "#FFA15A",
           "#19d3f3",
           "#FF6692",
           "#B6E880",
           "#FF97FF",
           "#FECB52"
          ],
          "font": {
           "color": "#2a3f5f"
          },
          "geo": {
           "bgcolor": "white",
           "lakecolor": "white",
           "landcolor": "white",
           "showlakes": true,
           "showland": true,
           "subunitcolor": "#C8D4E3"
          },
          "hoverlabel": {
           "align": "left"
          },
          "hovermode": "closest",
          "mapbox": {
           "style": "light"
          },
          "paper_bgcolor": "white",
          "plot_bgcolor": "white",
          "polar": {
           "angularaxis": {
            "gridcolor": "#EBF0F8",
            "linecolor": "#EBF0F8",
            "ticks": ""
           },
           "bgcolor": "white",
           "radialaxis": {
            "gridcolor": "#EBF0F8",
            "linecolor": "#EBF0F8",
            "ticks": ""
           }
          },
          "scene": {
           "xaxis": {
            "backgroundcolor": "white",
            "gridcolor": "#DFE8F3",
            "gridwidth": 2,
            "linecolor": "#EBF0F8",
            "showbackground": true,
            "ticks": "",
            "zerolinecolor": "#EBF0F8"
           },
           "yaxis": {
            "backgroundcolor": "white",
            "gridcolor": "#DFE8F3",
            "gridwidth": 2,
            "linecolor": "#EBF0F8",
            "showbackground": true,
            "ticks": "",
            "zerolinecolor": "#EBF0F8"
           },
           "zaxis": {
            "backgroundcolor": "white",
            "gridcolor": "#DFE8F3",
            "gridwidth": 2,
            "linecolor": "#EBF0F8",
            "showbackground": true,
            "ticks": "",
            "zerolinecolor": "#EBF0F8"
           }
          },
          "shapedefaults": {
           "line": {
            "color": "#2a3f5f"
           }
          },
          "ternary": {
           "aaxis": {
            "gridcolor": "#DFE8F3",
            "linecolor": "#A2B1C6",
            "ticks": ""
           },
           "baxis": {
            "gridcolor": "#DFE8F3",
            "linecolor": "#A2B1C6",
            "ticks": ""
           },
           "bgcolor": "white",
           "caxis": {
            "gridcolor": "#DFE8F3",
            "linecolor": "#A2B1C6",
            "ticks": ""
           }
          },
          "title": {
           "x": 0.05
          },
          "xaxis": {
           "automargin": true,
           "gridcolor": "#EBF0F8",
           "linecolor": "#EBF0F8",
           "ticks": "",
           "title": {
            "standoff": 15
           },
           "zerolinecolor": "#EBF0F8",
           "zerolinewidth": 2
          },
          "yaxis": {
           "automargin": true,
           "gridcolor": "#EBF0F8",
           "linecolor": "#EBF0F8",
           "ticks": "",
           "title": {
            "standoff": 15
           },
           "zerolinecolor": "#EBF0F8",
           "zerolinewidth": 2
          }
         }
        },
        "title": {
         "text": "Average Temperature with Confidence Interval"
        },
        "xaxis": {
         "title": {
          "text": "Year"
         }
        },
        "yaxis": {
         "title": {
          "text": "Temperature (Celcius)"
         }
        }
       }
      }
     },
     "metadata": {},
     "output_type": "display_data"
    }
   ],
   "source": [
    "fig = go.Figure(layout=go.Layout(template='plotly_white'))\n",
    "\n",
    "# Add traces for each data series\n",
    "\n",
    "fig.add_trace(go.Scatter(\n",
    "    x=world_temp_data['Year'],\n",
    "    y=world_temp_data['upper_bound'],\n",
    "    mode='lines',\n",
    "    name='Upper Bound',\n",
    "    line=dict(width=0),\n",
    "    showlegend=False\n",
    "))\n",
    "\n",
    "fig.add_trace(go.Scatter(\n",
    "    x=world_temp_data['Year'],\n",
    "    y=world_temp_data['lower_bound'],\n",
    "    mode='lines',\n",
    "    line=dict(width=0),\n",
    "    fillcolor = 'rgba(68, 68, 68, 0.3)',\n",
    "    fill = 'tonexty',\n",
    "    name='Lower Bound',\n",
    "    showlegend=False\n",
    "))\n",
    "\n",
    "fig.add_trace(go.Scatter(\n",
    "    x=world_temp_data['Year'],\n",
    "    y=world_temp_data['avg_temperature'],\n",
    "    mode='lines',\n",
    "    name='World Average Temperature',\n",
    "    line=dict(color='red')\n",
    "))\n",
    "\n",
    "fig.update_layout(\n",
    "    title='Average Temperature with Confidence Interval',\n",
    "    xaxis_title='Year',\n",
    "    yaxis_title='Temperature (Celcius)',\n",
    "    hovermode='x unified', # Shows hover info for all traces at a given x-value\n",
    "    legend_title_text='Legend'\n",
    ")"
   ]
  },
  {
   "cell_type": "markdown",
   "metadata": {},
   "source": [
    "Line chart tracks the global average temperature anomaly (the deviation from a baseline average, shown in degrees Celsius) from the year 1850 up to the early 21st century. The red line represents the estimated world average temperature for each year, while the shaded area around the line indicates the 95% confidence interval for that year.\n",
    "\n",
    "The chart clearly shows year-to-year fluctuations, but the dominant feature is a distinct upward trend, particularly after roughly 1950. This indicates a significant increase in the world's average temperature over time, which is a key indicator of global warming. The confidence interval narrows over time, reflecting improved accuracy in temperature measurements as technology advances. The chart effectively communicates the long-term trend of rising temperatures."
   ]
  },
  {
   "cell_type": "code",
   "execution_count": 69,
   "metadata": {},
   "outputs": [
    {
     "data": {
      "application/vnd.plotly.v1+json": {
       "config": {
        "plotlyServerURL": "https://plot.ly"
       },
       "data": [
        {
         "line": {
          "color": "red"
         },
         "mode": "lines",
         "name": "Avg Temperature (°C)",
         "type": "scatter",
         "x": {
          "bdata": "Ogc7BzwHPQc+Bz8HQAdBB0IHQwdEB0UHRgdHB0gHSQdKB0sHTAdNB04HTwdQB1EHUgdTB1QHVQdWB1cHWAdZB1oHWwdcB10HXgdfB2AHYQdiB2MHZAdlB2YHZwdoB2kHagdrB2wHbQduB28HcAdxB3IHcwd0B3UHdgd3B3gHeQd6B3sHfAd9B34HfweAB4EHggeDB4QHhQeGB4cHiAeJB4oHiweMB40HjgePB5AHkQeSB5MHlAeVB5YHlweYB5kHmgebB5wHnQeeB58HoAehB6IHowekB6UHpgenB6gHqQeqB6sHrAetB64HrwewB7EHsgezB7QHtQe2B7cHuAe5B7oHuwe8B70Hvge/B8AHwQfCB8MHxAfFB8YHxwfIB8kHygfLB8wHzQfOB88H0AfRB9IH0wfUB9UH1gfXB9gH2QfaB9sH3AfdB94H3wfgB+EH4gfjB+QH5QfmBw==",
          "dtype": "i2"
         },
         "y": {
          "bdata": "bEDn4i1frL+J4Ze4XYHAP5R7qtjSAsE/3BiWmpiJtz/2K7asbx6yP2afxyjPvLA/HZI5GrB5pT+SR8vc19y6v7JXq7hpGpu/X7ACGY2+tD8RE2/FR4mcvw4Q7d/MGrG/2QR7wPpHxr8sxmg5qnySP8x8amksabq/RsCsRjKInj/eGz5HtoOVP9nQzf5AuXU/M5yii5xxhT/Nm3kowGanP2Ne8Rv5mKE/LKgMAVepeb96gi8S+4ChPzkRPD8+gZU/T0rycMNuhr9mwa2Dz0uLv6/mY+vXpa+/dwHlpVG30D8q3m2Df3bWP2ZypBIiCa4/qIDFK1rKpz+OCtYXjaXAP8SCFJ+vF7E/WuvkPP4zkD+7NBNGkqTAv+3QVV8C3Lu/MP+L4ZYBrr/GDxl/cHjBvwGWWsS3fZG/u3wM0mPGvD81ppLH9IDCvyh0MeIP+qO/3ee+veeXwr/EQ5QG6e/Av1qIq1ZoGL+/jABd6tYhtr9QDD0g2Aq0P3x1fh9IPbo/5/xW41Odv78vGKH+iB18PxbFBmbgW8A/FYmNopyisT9NHw3p6J+zv/38lLb64sW/KFcEQXgbzr9fbqnjLkunv8QsRB/dHKY/LKs8w8wlwr+XJfA9EmXDv0+NPLWfMca/mMWCyhGVxb8YAZnGxKDGv/WzHt9a/by/AUPBUn7Our+gbj2WgJC5P29WjtoO18U/yvLv3y6Orb84V0HKVxvHvy0RvOIox6+/YTbEIs3yoj/uKGsnjF6wPygWFuHIMb8/0PZuR8bXlz9QrxAt5NemP25sSySe2qk/s1a8qhaFtD9ucODd46/OP0I7TKAtDME/SuOC+Uzywz9ycKLDZ96ev8aSB1w2vsc/vggipNGR0D9wczKKSMHLP4qgeyDDdKQ/+J42TxoPyD/Msmmdn//DP2W5tgHprMg/gf9Sq1T11T+iX1s//WfWP9WQPAB3k9Q/h6NQuwQM3D87+068mKDZPygjFWPsRtc/HfmsABmZ1z+VL8PaczTgP+swcIrY8dk/srS2nXQqzz/q8pzjklnRPyPh90bfas4/VntcRKn3yz8uuJNG1F3BP50pGaXwRdM/a5ZwjXQr2D91AwXeySfcP6vHAeQZbs8/L5ee+lEexT+5M1UouWC5PwvjdoH17NQ/Zm+EoP4O1j/neaoiYB3UP3n5xqVkmM8/tceovjXo1T+A6+1DnBbTP4JjZAPI1NQ/JlV4IzXlrD/5Q7eHUjXEP12DIR+yUMs/BEaPxj5Uzz8OBHWIh8nIP/JBEYOnLdU/eznDPzK+0T/+qadFMwXEP0ovpKI1L9E/Ng8WBEVi2j/bYukJbErIPxzt+v1JGdA/cXpyqDq/wj/xvDNe48jdP9yFQfT/hdc/NcQlhYEA3T+1XsJXKt7hP06mwLgKmOM/1H1jfFZh2T9P/L25ZMHiP/xvJTs2Qto/ks/pgahe2j8U750kn0/dP/RTd8DQXuM/vY3NjlSf5D8AwFauXFThPxa8jXLVIec/GIhUBy9w5j8EFTwiMi7fP2qlrZ1q5eA/7tqU4S4R4z81SBwNO6fnP7QbIhOVcuQ/v4nXq34b6T90AXnAhhHuP66sfrYf+uU/jswjfzAw5j+WrC+3IEDrP3RMzGkF/Ow/KPYr+MgB7T87IMfepIzqPyoNqWBcA+8/CdSsfUvq7T/ZOt0eKYfuP3GnGfeLfuo/vo0oSMew7j9lvijmxa7wP2aC4VzDzOw/OU8rO7MT7j9HMlC+RYzvP3we7ckNkPA/sv6F1KP/8j+Bfc+jPbn0PxRf7SjOUfM/qThpdc3/8T9/cQQEzg30P3SVk/VAkPQ/auJ4mbz88T8yY8BIHp7yPw==",
          "dtype": "f8"
         }
        },
        {
         "line": {
          "color": "blue"
         },
         "mode": "lines",
         "name": "CO₂ Emissions (x10⁻¹⁰)",
         "type": "scatter",
         "x": {
          "bdata": "Ogc7BzwHPQc+Bz8HQAdBB0IHQwdEB0UHRgdHB0gHSQdKB0sHTAdNB04HTwdQB1EHUgdTB1QHVQdWB1cHWAdZB1oHWwdcB10HXgdfB2AHYQdiB2MHZAdlB2YHZwdoB2kHagdrB2wHbQduB28HcAdxB3IHcwd0B3UHdgd3B3gHeQd6B3sHfAd9B34HfweAB4EHggeDB4QHhQeGB4cHiAeJB4oHiweMB40HjgePB5AHkQeSB5MHlAeVB5YHlweYB5kHmgebB5wHnQeeB58HoAehB6IHowekB6UHpgenB6gHqQeqB6sHrAetB64HrwewB7EHsgezB7QHtQe2B7cHuAe5B7oHuwe8B70Hvge/B8AHwQfCB8MHxAfFB8YHxwfIB8kHygfLB8wHzQfOB88H0AfRB9IH0wfUB9UH1gfXB9gH2QfaB9sH3AfdB94H3wfgB+EH4gfjB+QH5QfmBw==",
          "dtype": "i2"
         },
         "y": {
          "bdata": "aeu34T0olD9I72Az3FqUP52u8RD7QZU/TC3Vsbw+lj+yf8TNrh2aP3BX3VqOppo/uSRx0Ap+nD8HJ8gm/sqcP9k5IQJ7PZ0/J4XAZL/7nj9faaSbgAOhP/UJo9Dn4KE/KvRu6gs6oj9TUHW7o26jP2vs+Te796Q/j8Ux8K5Dpj/VGL7PAv6mP/BDMbsfnqg/+AV6/GxRqT+FEfhMwd2qPwJUBkgTc6s/Kgf3Ji0srT8P5sC8ESewP+A9tE35KbE/+lLsJgAYsD/iW7PwUG+xP6ncRC3NrbE/uRoEFvMFsj/GlpdcwiqyP8FfFW1jc7M/kPL2lFr3tT/Ez38PXru2P8V1ZmSLArg/B5Y/uU+JuT83XNwtZte5Py/XR0z1Cbo/mH8GMVZvuj+/DwcJUb67P51RDPOSvb4/Wz1p2UHCvj9nfakjcLnAP5HBH7iphcE/y/ACmVupwT/bhL2BsHDBPzzrIp5PEcI/WKbCTJkjwz8MDHJ6i8XDP86jZjgztMQ/X54pzxfWxT/wDY1AH9nHP2s5ZahpG8k/bXHw+R/oyT8bKLajtI7KP2VTjeJF9Mw/kToqzLVHzT89jWrHwzHPP8LU4MfiSNA/kZ6eTuSP0j+MjZK6EdTRP9ydlM1FkdI/WdMGcS960z8AvsIf0cbTPwIvjiUHx9Q/VfPB13yB1j8uC7tiJWrUP+QZLIMHGdQ/WQ6Zl2i11T8MvnomRbXWP/08293iZdY/xJ8beaRq0z9t51ZjZKTWPzHa2xQs4dM/91SQlxzU1D9L5wXQ1p7XP9EJ/Dyhstc/bz11cqfw1z9LBKp/EInXP05HnQzQrtk//vUjqI6T2T+uUcVDznHbPxOQH7/xVNk/Tdd2h9Km1j/mf8n4vW7UP727vqRrhdU/hl2QBExm1z9WndUCe4zYP2tcxQNG7to/w7TSGGvH3D+WnXbfzhHbPzW214Lem9w/f3hMkwhD3z/DgGdzg/7fPx3TyQhe498/RHhq5Kk94D/Cjc7YG4XgP6Tfvg6cc9s/F04ttqR+3T8nyL4aVofgP6eU10robuE/fCqnPSWn4D92zf04DvriPyZrmpiqa+Q/EYoQyySy5D8kQ46tZ0jlP4vHoG77ueU/0XBvIwrS5z/1i8hm/VzpP7lUpS2uMeo/Hvs4Hlzv6j/75ZMVw1XsP+UDp+PWCe4/Gn6Bas0g7j+AHx8++jDvPxjIWBJFbfA/8rbSa7NR8T8pBd1e0hjyP1VjrrHw+vI/5ojGJG2U8z+C8ogbAab0P1hVL7/TBPY/WXp+Yq7W9z/sFKsGYc74P18/aU2Y9fk/jone8w1W+z+U1+8uvDf7P7Tg6qXOSPs/pIdGHFfI/D8k+QCTCpn9Pym0rPvHgv4/bJOKxtpf/z+hsqvafy7/P+33H/THb/4/EG7X8Jkx/j94uB0aFmP+P0ZOFUK9b/8/RqXHpeA/AECcmarF8X0AQKsJou4DAAFAqFMe3QirAUBY8JGDyOgBQD3qVJ7lLgJATGApgYOMAkAq7i4GxQUCQCfL/5piNAJA1u2invRkAkDzZ4nfXtMCQD6s3LASaANAjg04poKFA0A7ZX/qaXEDQCrkSj0L4gNACkbKu49oBEBvHS0YppAEQKz+CMOABQVAZ5lFKLYiBkDfBDru7+cGQCapTDEHsQdApR/DGbKACECkxoSYSzoJQGJKJNHLqAlA5mLCHsk7CUCw1pr3Sa8KQK/RcqCHmgtAC3pvDAEADEBqvd9oxz0MQMUZaOMtXAxANIXOa+xSDEC35ALhVFUMQHcgoRy7ygxAbosyG2RiDUCtbvWc9K4NQMqsOZvpGQxAcd05OeiXDUBZ9sn2xtUNQA==",
          "dtype": "f8"
         }
        },
        {
         "line": {
          "color": "orange"
         },
         "mode": "lines",
         "name": "Methane Emissions (x10⁻¹⁰)",
         "type": "scatter",
         "x": {
          "bdata": "Ogc7BzwHPQc+Bz8HQAdBB0IHQwdEB0UHRgdHB0gHSQdKB0sHTAdNB04HTwdQB1EHUgdTB1QHVQdWB1cHWAdZB1oHWwdcB10HXgdfB2AHYQdiB2MHZAdlB2YHZwdoB2kHagdrB2wHbQduB28HcAdxB3IHcwd0B3UHdgd3B3gHeQd6B3sHfAd9B34HfweAB4EHggeDB4QHhQeGB4cHiAeJB4oHiweMB40HjgePB5AHkQeSB5MHlAeVB5YHlweYB5kHmgebB5wHnQeeB58HoAehB6IHowekB6UHpgenB6gHqQeqB6sHrAetB64HrwewB7EHsgezB7QHtQe2B7cHuAe5B7oHuwe8B70Hvge/B8AHwQfCB8MHxAfFB8YHxwfIB8kHygfLB8wHzQfOB88H0AfRB9IH0wfUB9UH1gfXB9gH2QfaB9sH3AfdB94H3wfgB+EH4gfjB+QH5QfmBw==",
          "dtype": "i2"
         },
         "y": {
          "bdata": "82qIQ5m6vz8+bb9CB9m/P4UoX9BCAsA/WGmcl9QawD++p82TxkPAP5bGFh/yWMA/uueOOEN1wD8aup90nojAP5UnUpJcm8A/Z4nGwUK5wD/mHUwv1tzAP2ZRVA0t+MA/F/8tt2oNwT/yFZPtMjLBP5ZRVTbmVME/0+FbNyl1wT9EdyAd5JbBP8Dy1q8qscE/7o3nVK7HwT8j3IViAunBP96I9sofAMI/+gzqU3Uswj8GxPvclmnCP/duHEZ7m8I/JVt+XPKqwj9tFjeHzt/CP7Rd/MgIA8M/sSY/d7wowz+zDw3mCkrDP9LjGEXmfMM/Yk5M7uLDwz+AYNA6kf3DP6geSGJyOMQ/cyFe8Mx4xD+o6S/LCaDEP61kKnHbxsQ/1ELq8r3xxD95TVmXZC7FP2Ca2DLPgMU/nBomIhWpxT8SQlHq3P7FP3L+BQY5PcY/dhhy8HVnxj9La7o7vn/GP4e1QqIawMY/JmuamKoLxz9popWcj0LHP5PpK6PsiMc/0CI+JDrTxz94pkTQoDrIP4gy8ZqZkcg/gJ6j4dbVyD+yjKJB6Q/JP5R7qtjSgsk/4BOIKj62yT/6F5SrUAvKP380OQh8dso/5it5I5Aeyz/5bHjVXh/LP1HKOesygMs/NAAr8rHcyz/VhvUMAifMPwC8LpFFecw/maPgjA4GzT/raOI+7rLMP6WqZFth1cw/jjILggFjzT+dSf7UNs3NP9QUXAditM0/J/XIk2JPzT+c5apg8SfOP3J7ODdcms0/CNST4Ko+zj+UZeuNGEXPP5ncg2tJos8/79gZ8EPvzz8nIQUNBQXQPxUBTu/ifdA/PE+XIH6Z0D8EjE999/nQP4K5zJ8l/tA/UUjX8QTn0D/1DKft2+DQP+NkLORbKdE/MyqZMT+W0T/f88t5KenRP64Hm1Msa9I/cfPXdbnS0j8vaverAN/SP8Q/zxONPdM/q0mF6zCq0z844uILBwDUP2XtY8OiO9Q/8zrikA2k1D+tbUirc+/UPxOaJJaUu9Q/F2GrgFJf1T/n1QgW6h3WPxYJdarfedY/TT8TJxjK1j933oRKdWTXPxCQ1OcPMtg/rtUe9kLB2D9Gf6KRU2TZP9ie1dn7Gto/HiwIisRp2z83e1aI/VTcP1Cr6A/NPN0/TctZ6f/m3T+CpDYOSETfP+TET8pBHOA/FmniHeBJ4D9DgS1lz5TgP9OutiBjB+E/k9wGWiZo4T+oOMyfiOjhP+JzBsqWmuI/BgKudfPe4j+an9EMmDbjPxqXYCer2OM/hm8GJAZm5D9XOsTksnbkP1TA4hUt5eQ/Zz9atc5s5T/OeXwxSoblP+WR5F4F3eU/7LULk8ow5j+FwrF4+33mP9/T5knjoeY/g0Jvt0U15z96/x8nTBjnP1di+U4nlOY/9hyiG6ve5j8LaH0l6+vmP3nS/BCfROc/uU6GV1Cg5z9qIExAAvXnP9rKCeJVOeg/HaHR4xil6D9sh1SLZzTpP5HoCltYXOk/EGOpYBpH6T9GLu71pELpP9V5VPzfUek/gd5l0BqN6T9v1uB9Ve7pPxgLQ+T0Neo/ci7Nxq026j/0tLIzOwHqP1N7bCY6Juo/eXQjLCqi6j+dxqzNtZ7qP87VoHlKmOo/vPY3LgRV6z9Ry8XOyuzrP/hHKTKEbew/AAl58wr67D81DeWfdD3tP4xuGGB6lu0/xoA2gwlt7T93OkZoug3uP04bH3db8+4/FQsyuJxB7z9GPH4UGi3vP5Cq3Pqfcu8/A/v5AO6D7z/iQQ6lUZzvPwXPc/owEfA/LKhebXtR8D+jNha5THLwP57grNInQ/A/of2jyouH8D9q2JTQAtnwPw==",
          "dtype": "f8"
         }
        },
        {
         "line": {
          "color": "green"
         },
         "mode": "lines",
         "name": "GHG Emissions (x10⁻¹⁰)",
         "type": "scatter",
         "x": {
          "bdata": "Ogc7BzwHPQc+Bz8HQAdBB0IHQwdEB0UHRgdHB0gHSQdKB0sHTAdNB04HTwdQB1EHUgdTB1QHVQdWB1cHWAdZB1oHWwdcB10HXgdfB2AHYQdiB2MHZAdlB2YHZwdoB2kHagdrB2wHbQduB28HcAdxB3IHcwd0B3UHdgd3B3gHeQd6B3sHfAd9B34HfweAB4EHggeDB4QHhQeGB4cHiAeJB4oHiweMB40HjgePB5AHkQeSB5MHlAeVB5YHlweYB5kHmgebB5wHnQeeB58HoAehB6IHowekB6UHpgenB6gHqQeqB6sHrAetB64HrwewB7EHsgezB7QHtQe2B7cHuAe5B7oHuwe8B70Hvge/B8AHwQfCB8MHxAfFB8YHxwfIB8kHygfLB8wHzQfOB88H0AfRB9IH0wfUB9UH1gfXB9gH2QfaB9sH3AfdB94H3wfgB+EH4gfjB+QH5QfmBw==",
          "dtype": "i2"
         },
         "y": {
          "bdata": "z3bYhoIA2z/8g5ITNzjcP+OB0JOVk9w/SzEPso8C3T8NuYQJxGfdP2kNc7zhQt0/pDvjVpwF3j8yhoPOtfndPwK8gdlvM94/FTTS97/I3j8dKOjd9WXdPz9xvuDsed0/qr1GmpFk3T8DS8f/kWfdPwPM3zH6Gd0/dY5kA6cG3T+82pspvmvdP7BnGfOEb90/vl6rThhe3T9dvMT97OzdP63UWGchpt8/x6Ove4YL4D88UreSofPgP7BdNSrL6+A/C7c6CFN34T8nol9bP/3hPxAwqZDhJ+I/8BT23ULx4T/0pgEH3VPiPzdRjY/9ieI/rYyh9yFK4z/9/ihFhnDjP3D+cKE8PeQ/lDKpoQ1A5D/zLmo5yNLkP+9zfLQ44+Q/VULi5J+15D/xkHOsnGflPwDS7dv/duU/+XHJq1Le5T/zRTEvdjHnP01Z+o7pIug/sVqyjewI6D+kxPAJwJzoP+UlYr565Og/ArERLR5D6T9fha089UbpP3+c1afBGeo/2wrM0JlQ6j8Zh0Tr8jfrPyKwKNt20Os/Vb/S+fAs7D97BViaSrXsP8AJ4MGqVe0/DnvrDQi+7T/GJ650iMnuP9GE3PsKSO8/BS3JpgEo8D+rPldbsR/wP2iTwyediPA/HKykuiV+8D/vkc1V87zwP/Uu3o/bz/A/3d5/dWYM8T8vhEE+jaDwP7H8+bZgifA/YFBLGHLx8D+6AVWSK0vxP5hkiXN5OPE/EoNlES9U8D97WjRTEHLxP6l/tQ8eEvE/PkD35cxW8T8TVnQ1w1fyPxs/nqdLcPI/31OUppyK8j/ozCz4I3vyP9ATKpN1M/M//rj98skq8z82xB0UOanzP5wOrsrPV/M/hTR0/czq8j/SNCiaB3DyPyfrgaDt4vI/pWVJJeGH8z9VDz3O2cfzP4BROHEokvQ/+qk7YGg/9T9FwHwNHOv0P6PNcW4TTvU/xs81gkM+9j99+hkoOvz2PwsT/CWYIPc/mHIZku5i9z/n/upx36r3Pxmd4ifEUvY/NnKC238J9z+95rBWSDT4P4WpdwKrtPg/TINHwI1Z+D919RkG4qv6P654j9iTJfw/LugY63ZR/D8F+BM6VPj8P6PJxRhYB/4/qkiFsYWg/z+yN+eWDGYAQCtM32sIzgBAiqZY2k4AAUABsiFJWvsBQGzXOiesswFAsWmlEMjlAUDgrHdukN8BQBsOSwM/SgJAOtqC70ebAkB551CGqvgCQKFeOvdoSwNAXlz0XzHUA0DIgbKEEGsEQPBXXHdOrgVA+kUJ+gudBkBfvHpw0p8GQDiXLDjNjAdAB33p7c9FCECFC3kENzIIQIenV8oyVAhAqzcPzHY6CUAKCih5GhUKQLJkjuVdhQpAk5EOahqPCkDXUGovoq0KQNh9bDdmDgpAOGD82TTbCUAVoSKYtDMKQDDzHfzEgQtA2QUosnvXC0DAr5EkCFcMQHDjuzkBsgxAPMLEev5PDUBciB+te4UNQIbnpWJj3g1AW8064/syDkDtEP+wpecNQIoQDUHE3A1Awf7r3LTZDkCwql5+pwkPQJoJhnMNExBAhSNIpdipEEDQ1hx7URYQQG3OHO0TQxBAAsrw6ftKEEAY/+MpUCgQQG5Q+62diBBA4ZUkz/WNEUA6XRYTm78RQL73N2iv/hFAwbXJlwakEkCVQVoIF78SQGx8JvvnGRNAxdCgV/IHE0B65A8GnusTQOQs7GmHbxRAm6+Sj93VFEB9y5wui7kUQKjjMQOV8RRAZsf8kkP6FECIKqFga4sUQPrKKDuixxRA+P4G7dX3FECPBHUlXR4VQFdIVAMoURRAsOL5se4sFUCXrVD/tFQVQA==",
          "dtype": "f8"
         }
        }
       ],
       "layout": {
        "hovermode": "x unified",
        "legend": {
         "title": {
          "text": "Legend"
         }
        },
        "template": {
         "data": {
          "bar": [
           {
            "error_x": {
             "color": "#2a3f5f"
            },
            "error_y": {
             "color": "#2a3f5f"
            },
            "marker": {
             "line": {
              "color": "white",
              "width": 0.5
             },
             "pattern": {
              "fillmode": "overlay",
              "size": 10,
              "solidity": 0.2
             }
            },
            "type": "bar"
           }
          ],
          "barpolar": [
           {
            "marker": {
             "line": {
              "color": "white",
              "width": 0.5
             },
             "pattern": {
              "fillmode": "overlay",
              "size": 10,
              "solidity": 0.2
             }
            },
            "type": "barpolar"
           }
          ],
          "carpet": [
           {
            "aaxis": {
             "endlinecolor": "#2a3f5f",
             "gridcolor": "#C8D4E3",
             "linecolor": "#C8D4E3",
             "minorgridcolor": "#C8D4E3",
             "startlinecolor": "#2a3f5f"
            },
            "baxis": {
             "endlinecolor": "#2a3f5f",
             "gridcolor": "#C8D4E3",
             "linecolor": "#C8D4E3",
             "minorgridcolor": "#C8D4E3",
             "startlinecolor": "#2a3f5f"
            },
            "type": "carpet"
           }
          ],
          "choropleth": [
           {
            "colorbar": {
             "outlinewidth": 0,
             "ticks": ""
            },
            "type": "choropleth"
           }
          ],
          "contour": [
           {
            "colorbar": {
             "outlinewidth": 0,
             "ticks": ""
            },
            "colorscale": [
             [
              0,
              "#0d0887"
             ],
             [
              0.1111111111111111,
              "#46039f"
             ],
             [
              0.2222222222222222,
              "#7201a8"
             ],
             [
              0.3333333333333333,
              "#9c179e"
             ],
             [
              0.4444444444444444,
              "#bd3786"
             ],
             [
              0.5555555555555556,
              "#d8576b"
             ],
             [
              0.6666666666666666,
              "#ed7953"
             ],
             [
              0.7777777777777778,
              "#fb9f3a"
             ],
             [
              0.8888888888888888,
              "#fdca26"
             ],
             [
              1,
              "#f0f921"
             ]
            ],
            "type": "contour"
           }
          ],
          "contourcarpet": [
           {
            "colorbar": {
             "outlinewidth": 0,
             "ticks": ""
            },
            "type": "contourcarpet"
           }
          ],
          "heatmap": [
           {
            "colorbar": {
             "outlinewidth": 0,
             "ticks": ""
            },
            "colorscale": [
             [
              0,
              "#0d0887"
             ],
             [
              0.1111111111111111,
              "#46039f"
             ],
             [
              0.2222222222222222,
              "#7201a8"
             ],
             [
              0.3333333333333333,
              "#9c179e"
             ],
             [
              0.4444444444444444,
              "#bd3786"
             ],
             [
              0.5555555555555556,
              "#d8576b"
             ],
             [
              0.6666666666666666,
              "#ed7953"
             ],
             [
              0.7777777777777778,
              "#fb9f3a"
             ],
             [
              0.8888888888888888,
              "#fdca26"
             ],
             [
              1,
              "#f0f921"
             ]
            ],
            "type": "heatmap"
           }
          ],
          "histogram": [
           {
            "marker": {
             "pattern": {
              "fillmode": "overlay",
              "size": 10,
              "solidity": 0.2
             }
            },
            "type": "histogram"
           }
          ],
          "histogram2d": [
           {
            "colorbar": {
             "outlinewidth": 0,
             "ticks": ""
            },
            "colorscale": [
             [
              0,
              "#0d0887"
             ],
             [
              0.1111111111111111,
              "#46039f"
             ],
             [
              0.2222222222222222,
              "#7201a8"
             ],
             [
              0.3333333333333333,
              "#9c179e"
             ],
             [
              0.4444444444444444,
              "#bd3786"
             ],
             [
              0.5555555555555556,
              "#d8576b"
             ],
             [
              0.6666666666666666,
              "#ed7953"
             ],
             [
              0.7777777777777778,
              "#fb9f3a"
             ],
             [
              0.8888888888888888,
              "#fdca26"
             ],
             [
              1,
              "#f0f921"
             ]
            ],
            "type": "histogram2d"
           }
          ],
          "histogram2dcontour": [
           {
            "colorbar": {
             "outlinewidth": 0,
             "ticks": ""
            },
            "colorscale": [
             [
              0,
              "#0d0887"
             ],
             [
              0.1111111111111111,
              "#46039f"
             ],
             [
              0.2222222222222222,
              "#7201a8"
             ],
             [
              0.3333333333333333,
              "#9c179e"
             ],
             [
              0.4444444444444444,
              "#bd3786"
             ],
             [
              0.5555555555555556,
              "#d8576b"
             ],
             [
              0.6666666666666666,
              "#ed7953"
             ],
             [
              0.7777777777777778,
              "#fb9f3a"
             ],
             [
              0.8888888888888888,
              "#fdca26"
             ],
             [
              1,
              "#f0f921"
             ]
            ],
            "type": "histogram2dcontour"
           }
          ],
          "mesh3d": [
           {
            "colorbar": {
             "outlinewidth": 0,
             "ticks": ""
            },
            "type": "mesh3d"
           }
          ],
          "parcoords": [
           {
            "line": {
             "colorbar": {
              "outlinewidth": 0,
              "ticks": ""
             }
            },
            "type": "parcoords"
           }
          ],
          "pie": [
           {
            "automargin": true,
            "type": "pie"
           }
          ],
          "scatter": [
           {
            "fillpattern": {
             "fillmode": "overlay",
             "size": 10,
             "solidity": 0.2
            },
            "type": "scatter"
           }
          ],
          "scatter3d": [
           {
            "line": {
             "colorbar": {
              "outlinewidth": 0,
              "ticks": ""
             }
            },
            "marker": {
             "colorbar": {
              "outlinewidth": 0,
              "ticks": ""
             }
            },
            "type": "scatter3d"
           }
          ],
          "scattercarpet": [
           {
            "marker": {
             "colorbar": {
              "outlinewidth": 0,
              "ticks": ""
             }
            },
            "type": "scattercarpet"
           }
          ],
          "scattergeo": [
           {
            "marker": {
             "colorbar": {
              "outlinewidth": 0,
              "ticks": ""
             }
            },
            "type": "scattergeo"
           }
          ],
          "scattergl": [
           {
            "marker": {
             "colorbar": {
              "outlinewidth": 0,
              "ticks": ""
             }
            },
            "type": "scattergl"
           }
          ],
          "scattermap": [
           {
            "marker": {
             "colorbar": {
              "outlinewidth": 0,
              "ticks": ""
             }
            },
            "type": "scattermap"
           }
          ],
          "scattermapbox": [
           {
            "marker": {
             "colorbar": {
              "outlinewidth": 0,
              "ticks": ""
             }
            },
            "type": "scattermapbox"
           }
          ],
          "scatterpolar": [
           {
            "marker": {
             "colorbar": {
              "outlinewidth": 0,
              "ticks": ""
             }
            },
            "type": "scatterpolar"
           }
          ],
          "scatterpolargl": [
           {
            "marker": {
             "colorbar": {
              "outlinewidth": 0,
              "ticks": ""
             }
            },
            "type": "scatterpolargl"
           }
          ],
          "scatterternary": [
           {
            "marker": {
             "colorbar": {
              "outlinewidth": 0,
              "ticks": ""
             }
            },
            "type": "scatterternary"
           }
          ],
          "surface": [
           {
            "colorbar": {
             "outlinewidth": 0,
             "ticks": ""
            },
            "colorscale": [
             [
              0,
              "#0d0887"
             ],
             [
              0.1111111111111111,
              "#46039f"
             ],
             [
              0.2222222222222222,
              "#7201a8"
             ],
             [
              0.3333333333333333,
              "#9c179e"
             ],
             [
              0.4444444444444444,
              "#bd3786"
             ],
             [
              0.5555555555555556,
              "#d8576b"
             ],
             [
              0.6666666666666666,
              "#ed7953"
             ],
             [
              0.7777777777777778,
              "#fb9f3a"
             ],
             [
              0.8888888888888888,
              "#fdca26"
             ],
             [
              1,
              "#f0f921"
             ]
            ],
            "type": "surface"
           }
          ],
          "table": [
           {
            "cells": {
             "fill": {
              "color": "#EBF0F8"
             },
             "line": {
              "color": "white"
             }
            },
            "header": {
             "fill": {
              "color": "#C8D4E3"
             },
             "line": {
              "color": "white"
             }
            },
            "type": "table"
           }
          ]
         },
         "layout": {
          "annotationdefaults": {
           "arrowcolor": "#2a3f5f",
           "arrowhead": 0,
           "arrowwidth": 1
          },
          "autotypenumbers": "strict",
          "coloraxis": {
           "colorbar": {
            "outlinewidth": 0,
            "ticks": ""
           }
          },
          "colorscale": {
           "diverging": [
            [
             0,
             "#8e0152"
            ],
            [
             0.1,
             "#c51b7d"
            ],
            [
             0.2,
             "#de77ae"
            ],
            [
             0.3,
             "#f1b6da"
            ],
            [
             0.4,
             "#fde0ef"
            ],
            [
             0.5,
             "#f7f7f7"
            ],
            [
             0.6,
             "#e6f5d0"
            ],
            [
             0.7,
             "#b8e186"
            ],
            [
             0.8,
             "#7fbc41"
            ],
            [
             0.9,
             "#4d9221"
            ],
            [
             1,
             "#276419"
            ]
           ],
           "sequential": [
            [
             0,
             "#0d0887"
            ],
            [
             0.1111111111111111,
             "#46039f"
            ],
            [
             0.2222222222222222,
             "#7201a8"
            ],
            [
             0.3333333333333333,
             "#9c179e"
            ],
            [
             0.4444444444444444,
             "#bd3786"
            ],
            [
             0.5555555555555556,
             "#d8576b"
            ],
            [
             0.6666666666666666,
             "#ed7953"
            ],
            [
             0.7777777777777778,
             "#fb9f3a"
            ],
            [
             0.8888888888888888,
             "#fdca26"
            ],
            [
             1,
             "#f0f921"
            ]
           ],
           "sequentialminus": [
            [
             0,
             "#0d0887"
            ],
            [
             0.1111111111111111,
             "#46039f"
            ],
            [
             0.2222222222222222,
             "#7201a8"
            ],
            [
             0.3333333333333333,
             "#9c179e"
            ],
            [
             0.4444444444444444,
             "#bd3786"
            ],
            [
             0.5555555555555556,
             "#d8576b"
            ],
            [
             0.6666666666666666,
             "#ed7953"
            ],
            [
             0.7777777777777778,
             "#fb9f3a"
            ],
            [
             0.8888888888888888,
             "#fdca26"
            ],
            [
             1,
             "#f0f921"
            ]
           ]
          },
          "colorway": [
           "#636efa",
           "#EF553B",
           "#00cc96",
           "#ab63fa",
           "#FFA15A",
           "#19d3f3",
           "#FF6692",
           "#B6E880",
           "#FF97FF",
           "#FECB52"
          ],
          "font": {
           "color": "#2a3f5f"
          },
          "geo": {
           "bgcolor": "white",
           "lakecolor": "white",
           "landcolor": "white",
           "showlakes": true,
           "showland": true,
           "subunitcolor": "#C8D4E3"
          },
          "hoverlabel": {
           "align": "left"
          },
          "hovermode": "closest",
          "mapbox": {
           "style": "light"
          },
          "paper_bgcolor": "white",
          "plot_bgcolor": "white",
          "polar": {
           "angularaxis": {
            "gridcolor": "#EBF0F8",
            "linecolor": "#EBF0F8",
            "ticks": ""
           },
           "bgcolor": "white",
           "radialaxis": {
            "gridcolor": "#EBF0F8",
            "linecolor": "#EBF0F8",
            "ticks": ""
           }
          },
          "scene": {
           "xaxis": {
            "backgroundcolor": "white",
            "gridcolor": "#DFE8F3",
            "gridwidth": 2,
            "linecolor": "#EBF0F8",
            "showbackground": true,
            "ticks": "",
            "zerolinecolor": "#EBF0F8"
           },
           "yaxis": {
            "backgroundcolor": "white",
            "gridcolor": "#DFE8F3",
            "gridwidth": 2,
            "linecolor": "#EBF0F8",
            "showbackground": true,
            "ticks": "",
            "zerolinecolor": "#EBF0F8"
           },
           "zaxis": {
            "backgroundcolor": "white",
            "gridcolor": "#DFE8F3",
            "gridwidth": 2,
            "linecolor": "#EBF0F8",
            "showbackground": true,
            "ticks": "",
            "zerolinecolor": "#EBF0F8"
           }
          },
          "shapedefaults": {
           "line": {
            "color": "#2a3f5f"
           }
          },
          "ternary": {
           "aaxis": {
            "gridcolor": "#DFE8F3",
            "linecolor": "#A2B1C6",
            "ticks": ""
           },
           "baxis": {
            "gridcolor": "#DFE8F3",
            "linecolor": "#A2B1C6",
            "ticks": ""
           },
           "bgcolor": "white",
           "caxis": {
            "gridcolor": "#DFE8F3",
            "linecolor": "#A2B1C6",
            "ticks": ""
           }
          },
          "title": {
           "x": 0.05
          },
          "xaxis": {
           "automargin": true,
           "gridcolor": "#EBF0F8",
           "linecolor": "#EBF0F8",
           "ticks": "",
           "title": {
            "standoff": 15
           },
           "zerolinecolor": "#EBF0F8",
           "zerolinewidth": 2
          },
          "yaxis": {
           "automargin": true,
           "gridcolor": "#EBF0F8",
           "linecolor": "#EBF0F8",
           "ticks": "",
           "title": {
            "standoff": 15
           },
           "zerolinecolor": "#EBF0F8",
           "zerolinewidth": 2
          }
         }
        },
        "title": {
         "text": "Temperature and Emissions Over Time"
        },
        "xaxis": {
         "title": {
          "text": "Year"
         }
        },
        "yaxis": {
         "title": {
          "text": "Values (Normalized)"
         }
        }
       }
      }
     },
     "metadata": {},
     "output_type": "display_data"
    }
   ],
   "source": [
    "\n",
    "# Create the figure\n",
    "fig = go.Figure(layout=go.Layout(template='plotly_white'))\n",
    "\n",
    "# Add traces for each data series\n",
    "fig.add_trace(go.Scatter(\n",
    "    x=global_climate['year'], \n",
    "    y=global_climate['avg_temp'], \n",
    "    mode='lines', \n",
    "    name='Avg Temperature (°C)', \n",
    "    line=dict(color='red')\n",
    "))\n",
    "\n",
    "fig.add_trace(go.Scatter(\n",
    "    x=global_climate['year'], \n",
    "    y=global_climate['co2'] / 1e10, \n",
    "    mode='lines', \n",
    "    name='CO₂ Emissions (x10⁻¹⁰)', \n",
    "    line=dict(color='blue')\n",
    "))\n",
    "\n",
    "fig.add_trace(go.Scatter(\n",
    "    x=global_climate['year'], \n",
    "    y=global_climate['methane'] / 1e10, \n",
    "    mode='lines', \n",
    "    name='Methane Emissions (x10⁻¹⁰)', \n",
    "    line=dict(color='orange')\n",
    "))\n",
    "\n",
    "fig.add_trace(go.Scatter(\n",
    "    x=global_climate['year'], \n",
    "    y=global_climate['ghg_emission'] / 1e10, \n",
    "    mode='lines', \n",
    "    name='GHG Emissions (x10⁻¹⁰)', \n",
    "    line=dict(color='green')\n",
    "))\n",
    "\n",
    "# Customize layout\n",
    "fig.update_layout(\n",
    "    title='Temperature and Emissions Over Time',\n",
    "    xaxis_title='Year',\n",
    "    yaxis_title='Values (Normalized)',\n",
    "    hovermode='x unified',\n",
    "    legend_title_text='Legend',\n",
    ")\n",
    "\n",
    "# Show the plot\n",
    "fig.show()"
   ]
  },
  {
   "cell_type": "markdown",
   "metadata": {},
   "source": [
    "Chart plots four different variables over time, from 1850 to the early 21st century:\n",
    "\n",
    "- Average Global Temperature (Red Line)\n",
    "- CO₂ Emissions (Blue Line)\n",
    "- Methane Emissions (Orange Line)\n",
    "- Total Greenhouse Gas (GHG) Emissions (Green Line)\n",
    "\n",
    "The vertical axis shows normalized values, meaning the data for each line has been scaled to fit on a common axis to compare their trends rather than their absolute amounts (though the legend notes the original scale for emissions).\n",
    "\n",
    "The key takeaway is that all four metrics show a clear increasing trend over the period, particularly accelerating from the mid-20th century (around 1950) onwards. The chart visually suggests a strong correlation between the rise in greenhouse gas emissions (CO₂, Methane, and total GHGs) and the increase in average global temperature."
   ]
  },
  {
   "cell_type": "markdown",
   "metadata": {},
   "source": [
    "---"
   ]
  },
  {
   "cell_type": "markdown",
   "metadata": {},
   "source": [
    "Carbon Emission by sector"
   ]
  },
  {
   "cell_type": "code",
   "execution_count": 71,
   "metadata": {},
   "outputs": [
    {
     "name": "stdout",
     "output_type": "stream",
     "text": [
      "<class 'pandas.core.frame.DataFrame'>\n",
      "RangeIndex: 6560 entries, 0 to 6559\n",
      "Data columns (total 12 columns):\n",
      " #   Column                                        Non-Null Count  Dtype  \n",
      "---  ------                                        --------------  -----  \n",
      " 0   Entity                                        6560 non-null   object \n",
      " 1   Code                                          6208 non-null   object \n",
      " 2   Year                                          6560 non-null   int64  \n",
      " 3   buildings_co2_emissions                       6421 non-null   float64\n",
      " 4   industry_co2_emissions                        6305 non-null   float64\n",
      " 5   land_use_change_and_forestry_co2_emissions    6557 non-null   float64\n",
      " 6   other_fuel_combustion_co2_emissions           6421 non-null   float64\n",
      " 7   transport_co2_emissions                       6421 non-null   float64\n",
      " 8   manufacturing_and_construction_co2_emissions  6421 non-null   float64\n",
      " 9   fugitive_co2_emissions                        2270 non-null   float64\n",
      " 10  electricity_and_heat_co2_emissions            6421 non-null   float64\n",
      " 11  aviation_and_shipping_co2_emissions           6421 non-null   float64\n",
      "dtypes: float64(9), int64(1), object(2)\n",
      "memory usage: 615.1+ KB\n"
     ]
    }
   ],
   "source": [
    "carbon_emission_by_sector = pd.read_csv(\"https://ourworldindata.org/grapher/co-emissions-by-sector.csv?v=1&csvType=full&useColumnShortNames=true\", storage_options = {'User-Agent': 'Our World In Data data fetch/1.0'})\n",
    "carbon_emission_by_sector.info()"
   ]
  },
  {
   "cell_type": "code",
   "execution_count": 92,
   "metadata": {},
   "outputs": [],
   "source": [
    "aus_co2_by_sector = carbon_emission_by_sector[carbon_emission_by_sector['Entity'] == 'Australia']\n",
    "aus_co2 = aus_co2_by_sector[aus_co2_by_sector['Year'] == 2021]"
   ]
  },
  {
   "cell_type": "code",
   "execution_count": null,
   "metadata": {},
   "outputs": [],
   "source": [
    "# Sum all sectors into total\n",
    "aus_co2['Total'] = aus_co2.iloc[:, 3:].sum(axis=1)\n",
    "\n",
    "# Calculate percentage of each sector\n",
    "sector_percentages = aus_co2.iloc[:, 3:-1].div(aus_co2['Total'], axis=0) * 100\n",
    "\n",
    "sector_percentages"
   ]
  },
  {
   "cell_type": "code",
   "execution_count": null,
   "metadata": {},
   "outputs": [
    {
     "name": "stderr",
     "output_type": "stream",
     "text": [
      "/var/folders/8v/_f0s3ppn27g2ss5m_lvb311m0000gn/T/ipykernel_26337/514574645.py:1: SettingWithCopyWarning:\n",
      "\n",
      "\n",
      "A value is trying to be set on a copy of a slice from a DataFrame.\n",
      "Try using .loc[row_indexer,col_indexer] = value instead\n",
      "\n",
      "See the caveats in the documentation: https://pandas.pydata.org/pandas-docs/stable/user_guide/indexing.html#returning-a-view-versus-a-copy\n",
      "\n"
     ]
    }
   ],
   "source": [
    "aus_co2['Total'] = aus_co2.iloc[:, 3:].sum(axis=1)\n",
    "\n"
   ]
  },
  {
   "cell_type": "code",
   "execution_count": 94,
   "metadata": {},
   "outputs": [
    {
     "data": {
      "application/vnd.microsoft.datawrangler.viewer.v0+json": {
       "columns": [
        {
         "name": "index",
         "rawType": "int64",
         "type": "integer"
        },
        {
         "name": "buildings_co2_emissions",
         "rawType": "float64",
         "type": "float"
        },
        {
         "name": "industry_co2_emissions",
         "rawType": "float64",
         "type": "float"
        },
        {
         "name": "land_use_change_and_forestry_co2_emissions",
         "rawType": "float64",
         "type": "float"
        },
        {
         "name": "other_fuel_combustion_co2_emissions",
         "rawType": "float64",
         "type": "float"
        },
        {
         "name": "transport_co2_emissions",
         "rawType": "float64",
         "type": "float"
        },
        {
         "name": "manufacturing_and_construction_co2_emissions",
         "rawType": "float64",
         "type": "float"
        },
        {
         "name": "fugitive_co2_emissions",
         "rawType": "float64",
         "type": "float"
        },
        {
         "name": "electricity_and_heat_co2_emissions",
         "rawType": "float64",
         "type": "float"
        },
        {
         "name": "aviation_and_shipping_co2_emissions",
         "rawType": "float64",
         "type": "float"
        },
        {
         "name": "Total",
         "rawType": "float64",
         "type": "float"
        }
       ],
       "conversionMethod": "pd.DataFrame",
       "ref": "09f30bb2-b917-4925-8aba-0174643f46a8",
       "rows": [
        [
         "351",
         "3.666479054434349",
         "0.7772506767441237",
         "0.678084211090563",
         "2.0717750797351986",
         "23.481010961914716",
         "10.768942135027205",
         "0.43686848382514537",
         "56.752700276058",
         "1.3668891211707004",
         "100.0"
        ]
       ],
       "shape": {
        "columns": 10,
        "rows": 1
       }
      },
      "text/html": [
       "<div>\n",
       "<style scoped>\n",
       "    .dataframe tbody tr th:only-of-type {\n",
       "        vertical-align: middle;\n",
       "    }\n",
       "\n",
       "    .dataframe tbody tr th {\n",
       "        vertical-align: top;\n",
       "    }\n",
       "\n",
       "    .dataframe thead th {\n",
       "        text-align: right;\n",
       "    }\n",
       "</style>\n",
       "<table border=\"1\" class=\"dataframe\">\n",
       "  <thead>\n",
       "    <tr style=\"text-align: right;\">\n",
       "      <th></th>\n",
       "      <th>buildings_co2_emissions</th>\n",
       "      <th>industry_co2_emissions</th>\n",
       "      <th>land_use_change_and_forestry_co2_emissions</th>\n",
       "      <th>other_fuel_combustion_co2_emissions</th>\n",
       "      <th>transport_co2_emissions</th>\n",
       "      <th>manufacturing_and_construction_co2_emissions</th>\n",
       "      <th>fugitive_co2_emissions</th>\n",
       "      <th>electricity_and_heat_co2_emissions</th>\n",
       "      <th>aviation_and_shipping_co2_emissions</th>\n",
       "      <th>Total</th>\n",
       "    </tr>\n",
       "  </thead>\n",
       "  <tbody>\n",
       "    <tr>\n",
       "      <th>351</th>\n",
       "      <td>3.666479</td>\n",
       "      <td>0.777251</td>\n",
       "      <td>0.678084</td>\n",
       "      <td>2.071775</td>\n",
       "      <td>23.481011</td>\n",
       "      <td>10.768942</td>\n",
       "      <td>0.436868</td>\n",
       "      <td>56.7527</td>\n",
       "      <td>1.366889</td>\n",
       "      <td>100.0</td>\n",
       "    </tr>\n",
       "  </tbody>\n",
       "</table>\n",
       "</div>"
      ],
      "text/plain": [
       "     buildings_co2_emissions  industry_co2_emissions  \\\n",
       "351                 3.666479                0.777251   \n",
       "\n",
       "     land_use_change_and_forestry_co2_emissions  \\\n",
       "351                                    0.678084   \n",
       "\n",
       "     other_fuel_combustion_co2_emissions  transport_co2_emissions  \\\n",
       "351                             2.071775                23.481011   \n",
       "\n",
       "     manufacturing_and_construction_co2_emissions  fugitive_co2_emissions  \\\n",
       "351                                     10.768942                0.436868   \n",
       "\n",
       "     electricity_and_heat_co2_emissions  aviation_and_shipping_co2_emissions  \\\n",
       "351                             56.7527                             1.366889   \n",
       "\n",
       "     Total  \n",
       "351  100.0  "
      ]
     },
     "execution_count": 94,
     "metadata": {},
     "output_type": "execute_result"
    }
   ],
   "source": [
    "# calculate percentage of each sector\n",
    "sector_percentages = aus_co2.iloc[:, 1:].div(aus_co2['Total'], axis=0) * 100\n",
    "sector_percentages"
   ]
  },
  {
   "cell_type": "code",
   "execution_count": null,
   "metadata": {},
   "outputs": [
    {
     "name": "stdout",
     "output_type": "stream",
     "text": [
      "<class 'pandas.core.frame.DataFrame'>\n",
      "Index: 1 entries, 351 to 351\n",
      "Data columns (total 10 columns):\n",
      " #   Column                                        Non-Null Count  Dtype  \n",
      "---  ------                                        --------------  -----  \n",
      " 0   buildings_co2_emissions                       1 non-null      float64\n",
      " 1   industry_co2_emissions                        1 non-null      float64\n",
      " 2   land_use_change_and_forestry_co2_emissions    1 non-null      float64\n",
      " 3   other_fuel_combustion_co2_emissions           1 non-null      float64\n",
      " 4   transport_co2_emissions                       1 non-null      float64\n",
      " 5   manufacturing_and_construction_co2_emissions  1 non-null      float64\n",
      " 6   fugitive_co2_emissions                        1 non-null      float64\n",
      " 7   electricity_and_heat_co2_emissions            1 non-null      float64\n",
      " 8   aviation_and_shipping_co2_emissions           1 non-null      float64\n",
      " 9   Total                                         1 non-null      float64\n",
      "dtypes: float64(10)\n",
      "memory usage: 88.0 bytes\n"
     ]
    }
   ],
   "source": [
    "sector_percentages.info()\n",
    "secotr_percentages.rename(colums={\n",
    "    \"buildings_co2_emissions\":\"Buildings\",\n",
    "    \"industry_co2_emissions\":\"Industry\",\n",
    "    \"land_use_change_and_forestry_co2_emissions\":\"Land-use\",\n",
    "    \"other_fuel_combustion_co2_emissions\":\"Other\",\n",
    "    transport_co2_emissions,\n",
    "    manufacturing_and_construction_co2_emissions\n",
    "    fugitive_co2_emissions\n",
    "    electricity_and_heat_co2_emissions\n",
    "    aviation_and_shipping_co2_emissions,\n",
    "})"
   ]
  },
  {
   "cell_type": "markdown",
   "metadata": {},
   "source": [
    "-----"
   ]
  },
  {
   "cell_type": "markdown",
   "metadata": {},
   "source": [
    "### Forest Trend"
   ]
  },
  {
   "cell_type": "code",
   "execution_count": 30,
   "metadata": {},
   "outputs": [
    {
     "name": "stdout",
     "output_type": "stream",
     "text": [
      "<class 'pandas.core.frame.DataFrame'>\n",
      "RangeIndex: 248 entries, 0 to 247\n",
      "Data columns (total 4 columns):\n",
      " #   Column                  Non-Null Count  Dtype  \n",
      "---  ------                  --------------  -----  \n",
      " 0   country name            248 non-null    object \n",
      " 1   country code            248 non-null    object \n",
      " 2   percentage_change       248 non-null    float64\n",
      " 3   percentage_change_norm  248 non-null    float64\n",
      "dtypes: float64(2), object(2)\n",
      "memory usage: 7.9+ KB\n"
     ]
    }
   ],
   "source": [
    "forest_trend = df2.copy()\n",
    "forest_trend.info()"
   ]
  },
  {
   "cell_type": "code",
   "execution_count": 39,
   "metadata": {},
   "outputs": [
    {
     "ename": "NameError",
     "evalue": "name 'np' is not defined",
     "output_type": "error",
     "traceback": [
      "\u001b[0;31m---------------------------------------------------------------------------\u001b[0m",
      "\u001b[0;31mNameError\u001b[0m                                 Traceback (most recent call last)",
      "Cell \u001b[0;32mIn[39], line 4\u001b[0m\n\u001b[1;32m      2\u001b[0m x_min \u001b[38;5;241m=\u001b[39m forest_trend[\u001b[38;5;124m'\u001b[39m\u001b[38;5;124mpercentage_change_norm\u001b[39m\u001b[38;5;124m'\u001b[39m]\u001b[38;5;241m.\u001b[39mmin()\n\u001b[1;32m      3\u001b[0m x_max \u001b[38;5;241m=\u001b[39m forest_trend[\u001b[38;5;124m'\u001b[39m\u001b[38;5;124mpercentage_change_norm\u001b[39m\u001b[38;5;124m'\u001b[39m]\u001b[38;5;241m.\u001b[39mmax()\n\u001b[0;32m----> 4\u001b[0m x_range \u001b[38;5;241m=\u001b[39m \u001b[43mnp\u001b[49m\u001b[38;5;241m.\u001b[39mlinspace(x_min \u001b[38;5;241m-\u001b[39m (x_max\u001b[38;5;241m-\u001b[39mx_min)\u001b[38;5;241m*\u001b[39m\u001b[38;5;241m0.1\u001b[39m, x_max \u001b[38;5;241m+\u001b[39m (x_max\u001b[38;5;241m-\u001b[39mx_min)\u001b[38;5;241m*\u001b[39m\u001b[38;5;241m0.1\u001b[39m, \u001b[38;5;241m500\u001b[39m) \u001b[38;5;66;03m# Evaluate at 500 points\u001b[39;00m\n\u001b[1;32m      5\u001b[0m y \u001b[38;5;241m=\u001b[39m kde(x_range)\n",
      "\u001b[0;31mNameError\u001b[0m: name 'np' is not defined"
     ]
    }
   ],
   "source": [
    "kde = gaussian_kde(forest_trend['percentage_change_norm'])\n",
    "x_min = forest_trend['percentage_change_norm'].min()\n",
    "x_max = forest_trend['percentage_change_norm'].max()\n",
    "x_range = np.linspace(x_min - (x_max-x_min)*0.1, x_max + (x_max-x_min)*0.1, 500) # Evaluate at 500 points\n",
    "y = kde(x_range)"
   ]
  },
  {
   "cell_type": "markdown",
   "metadata": {},
   "source": [
    "----"
   ]
  },
  {
   "cell_type": "markdown",
   "metadata": {},
   "source": [
    "### Heat Data"
   ]
  },
  {
   "cell_type": "code",
   "execution_count": 14,
   "metadata": {},
   "outputs": [
    {
     "name": "stdout",
     "output_type": "stream",
     "text": [
      "<class 'pandas.core.frame.DataFrame'>\n",
      "RangeIndex: 8036 entries, 0 to 8035\n",
      "Data columns (total 4 columns):\n",
      " #   Column    Non-Null Count  Dtype  \n",
      "---  ------    --------------  -----  \n",
      " 0   max_temp  8032 non-null   float64\n",
      " 1   date      8036 non-null   object \n",
      " 2   city      8036 non-null   object \n",
      " 3   is_hot    8036 non-null   bool   \n",
      "dtypes: bool(1), float64(1), object(2)\n",
      "memory usage: 196.3+ KB\n"
     ]
    },
    {
     "data": {
      "application/vnd.microsoft.datawrangler.viewer.v0+json": {
       "columns": [
        {
         "name": "index",
         "rawType": "int64",
         "type": "integer"
        },
        {
         "name": "max_temp",
         "rawType": "float64",
         "type": "float"
        },
        {
         "name": "date",
         "rawType": "object",
         "type": "unknown"
        },
        {
         "name": "city",
         "rawType": "object",
         "type": "string"
        },
        {
         "name": "is_hot",
         "rawType": "bool",
         "type": "boolean"
        }
       ],
       "conversionMethod": "pd.DataFrame",
       "ref": "84d5c595-8f42-44d7-b688-29bb94f2aa6f",
       "rows": [
        [
         "0",
         "26.5",
         "2014-01-01",
         "Melbourne",
         "False"
        ],
        [
         "1",
         "21.8",
         "2014-01-02",
         "Melbourne",
         "False"
        ],
        [
         "2",
         "21.6",
         "2014-01-03",
         "Melbourne",
         "False"
        ],
        [
         "3",
         "20.8",
         "2014-01-04",
         "Melbourne",
         "False"
        ],
        [
         "4",
         "26.2",
         "2014-01-05",
         "Melbourne",
         "False"
        ],
        [
         "5",
         "18.8",
         "2014-01-06",
         "Melbourne",
         "False"
        ],
        [
         "6",
         "19.2",
         "2014-01-07",
         "Melbourne",
         "False"
        ],
        [
         "7",
         "27.2",
         "2014-01-08",
         "Melbourne",
         "False"
        ],
        [
         "8",
         "32.3",
         "2014-01-09",
         "Melbourne",
         "True"
        ],
        [
         "9",
         "34.3",
         "2014-01-10",
         "Melbourne",
         "True"
        ],
        [
         "10",
         "21.1",
         "2014-01-11",
         "Melbourne",
         "False"
        ],
        [
         "11",
         "20.7",
         "2014-01-12",
         "Melbourne",
         "False"
        ],
        [
         "12",
         "29.0",
         "2014-01-13",
         "Melbourne",
         "False"
        ],
        [
         "13",
         "42.0",
         "2014-01-14",
         "Melbourne",
         "True"
        ],
        [
         "14",
         "41.6",
         "2014-01-15",
         "Melbourne",
         "True"
        ],
        [
         "15",
         "43.4",
         "2014-01-16",
         "Melbourne",
         "True"
        ],
        [
         "16",
         "42.5",
         "2014-01-17",
         "Melbourne",
         "True"
        ],
        [
         "17",
         "23.2",
         "2014-01-18",
         "Melbourne",
         "False"
        ],
        [
         "18",
         "20.8",
         "2014-01-19",
         "Melbourne",
         "False"
        ],
        [
         "19",
         "23.4",
         "2014-01-20",
         "Melbourne",
         "False"
        ],
        [
         "20",
         "21.9",
         "2014-01-21",
         "Melbourne",
         "False"
        ],
        [
         "21",
         "21.7",
         "2014-01-22",
         "Melbourne",
         "False"
        ],
        [
         "22",
         "28.4",
         "2014-01-23",
         "Melbourne",
         "False"
        ],
        [
         "23",
         "21.4",
         "2014-01-24",
         "Melbourne",
         "False"
        ],
        [
         "24",
         "19.1",
         "2014-01-25",
         "Melbourne",
         "False"
        ],
        [
         "25",
         "27.2",
         "2014-01-26",
         "Melbourne",
         "False"
        ],
        [
         "26",
         "34.6",
         "2014-01-27",
         "Melbourne",
         "True"
        ],
        [
         "27",
         "41.0",
         "2014-01-28",
         "Melbourne",
         "True"
        ],
        [
         "28",
         "22.9",
         "2014-01-29",
         "Melbourne",
         "False"
        ],
        [
         "29",
         "28.1",
         "2014-01-30",
         "Melbourne",
         "False"
        ],
        [
         "30",
         "24.8",
         "2014-01-31",
         "Melbourne",
         "False"
        ],
        [
         "31",
         "27.7",
         "2014-02-01",
         "Melbourne",
         "False"
        ],
        [
         "32",
         "38.1",
         "2014-02-02",
         "Melbourne",
         "True"
        ],
        [
         "33",
         "34.6",
         "2014-02-03",
         "Melbourne",
         "True"
        ],
        [
         "34",
         "25.8",
         "2014-02-04",
         "Melbourne",
         "False"
        ],
        [
         "35",
         "30.3",
         "2014-02-05",
         "Melbourne",
         "True"
        ],
        [
         "36",
         "34.5",
         "2014-02-06",
         "Melbourne",
         "True"
        ],
        [
         "37",
         "35.6",
         "2014-02-07",
         "Melbourne",
         "True"
        ],
        [
         "38",
         "40.7",
         "2014-02-08",
         "Melbourne",
         "True"
        ],
        [
         "39",
         "39.4",
         "2014-02-09",
         "Melbourne",
         "True"
        ],
        [
         "40",
         "22.4",
         "2014-02-10",
         "Melbourne",
         "False"
        ],
        [
         "41",
         "25.5",
         "2014-02-11",
         "Melbourne",
         "False"
        ],
        [
         "42",
         "25.7",
         "2014-02-12",
         "Melbourne",
         "False"
        ],
        [
         "43",
         "25.5",
         "2014-02-13",
         "Melbourne",
         "False"
        ],
        [
         "44",
         "25.5",
         "2014-02-14",
         "Melbourne",
         "False"
        ],
        [
         "45",
         "28.2",
         "2014-02-15",
         "Melbourne",
         "False"
        ],
        [
         "46",
         "21.6",
         "2014-02-16",
         "Melbourne",
         "False"
        ],
        [
         "47",
         "24.6",
         "2014-02-17",
         "Melbourne",
         "False"
        ],
        [
         "48",
         "30.7",
         "2014-02-18",
         "Melbourne",
         "True"
        ],
        [
         "49",
         "24.6",
         "2014-02-19",
         "Melbourne",
         "False"
        ]
       ],
       "shape": {
        "columns": 4,
        "rows": 8036
       }
      },
      "text/html": [
       "<div>\n",
       "<style scoped>\n",
       "    .dataframe tbody tr th:only-of-type {\n",
       "        vertical-align: middle;\n",
       "    }\n",
       "\n",
       "    .dataframe tbody tr th {\n",
       "        vertical-align: top;\n",
       "    }\n",
       "\n",
       "    .dataframe thead th {\n",
       "        text-align: right;\n",
       "    }\n",
       "</style>\n",
       "<table border=\"1\" class=\"dataframe\">\n",
       "  <thead>\n",
       "    <tr style=\"text-align: right;\">\n",
       "      <th></th>\n",
       "      <th>max_temp</th>\n",
       "      <th>date</th>\n",
       "      <th>city</th>\n",
       "      <th>is_hot</th>\n",
       "    </tr>\n",
       "  </thead>\n",
       "  <tbody>\n",
       "    <tr>\n",
       "      <th>0</th>\n",
       "      <td>26.5</td>\n",
       "      <td>2014-01-01</td>\n",
       "      <td>Melbourne</td>\n",
       "      <td>False</td>\n",
       "    </tr>\n",
       "    <tr>\n",
       "      <th>1</th>\n",
       "      <td>21.8</td>\n",
       "      <td>2014-01-02</td>\n",
       "      <td>Melbourne</td>\n",
       "      <td>False</td>\n",
       "    </tr>\n",
       "    <tr>\n",
       "      <th>2</th>\n",
       "      <td>21.6</td>\n",
       "      <td>2014-01-03</td>\n",
       "      <td>Melbourne</td>\n",
       "      <td>False</td>\n",
       "    </tr>\n",
       "    <tr>\n",
       "      <th>3</th>\n",
       "      <td>20.8</td>\n",
       "      <td>2014-01-04</td>\n",
       "      <td>Melbourne</td>\n",
       "      <td>False</td>\n",
       "    </tr>\n",
       "    <tr>\n",
       "      <th>4</th>\n",
       "      <td>26.2</td>\n",
       "      <td>2014-01-05</td>\n",
       "      <td>Melbourne</td>\n",
       "      <td>False</td>\n",
       "    </tr>\n",
       "    <tr>\n",
       "      <th>...</th>\n",
       "      <td>...</td>\n",
       "      <td>...</td>\n",
       "      <td>...</td>\n",
       "      <td>...</td>\n",
       "    </tr>\n",
       "    <tr>\n",
       "      <th>8031</th>\n",
       "      <td>39.5</td>\n",
       "      <td>2024-12-27</td>\n",
       "      <td>Sydney</td>\n",
       "      <td>True</td>\n",
       "    </tr>\n",
       "    <tr>\n",
       "      <th>8032</th>\n",
       "      <td>27.1</td>\n",
       "      <td>2024-12-28</td>\n",
       "      <td>Sydney</td>\n",
       "      <td>False</td>\n",
       "    </tr>\n",
       "    <tr>\n",
       "      <th>8033</th>\n",
       "      <td>29.8</td>\n",
       "      <td>2024-12-29</td>\n",
       "      <td>Sydney</td>\n",
       "      <td>False</td>\n",
       "    </tr>\n",
       "    <tr>\n",
       "      <th>8034</th>\n",
       "      <td>27.7</td>\n",
       "      <td>2024-12-30</td>\n",
       "      <td>Sydney</td>\n",
       "      <td>False</td>\n",
       "    </tr>\n",
       "    <tr>\n",
       "      <th>8035</th>\n",
       "      <td>29.6</td>\n",
       "      <td>2024-12-31</td>\n",
       "      <td>Sydney</td>\n",
       "      <td>False</td>\n",
       "    </tr>\n",
       "  </tbody>\n",
       "</table>\n",
       "<p>8036 rows × 4 columns</p>\n",
       "</div>"
      ],
      "text/plain": [
       "      max_temp        date       city  is_hot\n",
       "0         26.5  2014-01-01  Melbourne   False\n",
       "1         21.8  2014-01-02  Melbourne   False\n",
       "2         21.6  2014-01-03  Melbourne   False\n",
       "3         20.8  2014-01-04  Melbourne   False\n",
       "4         26.2  2014-01-05  Melbourne   False\n",
       "...        ...         ...        ...     ...\n",
       "8031      39.5  2024-12-27     Sydney    True\n",
       "8032      27.1  2024-12-28     Sydney   False\n",
       "8033      29.8  2024-12-29     Sydney   False\n",
       "8034      27.7  2024-12-30     Sydney   False\n",
       "8035      29.6  2024-12-31     Sydney   False\n",
       "\n",
       "[8036 rows x 4 columns]"
      ]
     },
     "execution_count": 14,
     "metadata": {},
     "output_type": "execute_result"
    }
   ],
   "source": [
    "heat_data = df.copy()\n",
    "heat_data.info()\n",
    "heat_data"
   ]
  },
  {
   "cell_type": "code",
   "execution_count": 24,
   "metadata": {},
   "outputs": [],
   "source": [
    "heat_data['date'] = pd.to_datetime(heat_data['date'])\n",
    "heat_data['year'] = heat_data['date'].dt.year\n",
    "\n",
    "# Count hot day\n",
    "hot_day = heat_data[heat_data['is_hot']]\n",
    "hot_days_per_year = hot_day.groupby(['city', 'year']).size().reset_index(name='hot_day_count')"
   ]
  },
  {
   "cell_type": "code",
   "execution_count": 26,
   "metadata": {},
   "outputs": [
    {
     "data": {
      "application/vnd.plotly.v1+json": {
       "config": {
        "plotlyServerURL": "https://plot.ly"
       },
       "data": [
        {
         "mode": "lines+markers",
         "name": "Melbourne",
         "type": "scatter",
         "x": {
          "bdata": "3gcAAN8HAADgBwAA4QcAAOIHAADjBwAA5AcAAOUHAADmBwAA5wcAAOgHAAA=",
          "dtype": "i4"
         },
         "y": {
          "bdata": "JCUbLSIiGhYeGCY=",
          "dtype": "i1"
         }
        },
        {
         "mode": "lines+markers",
         "name": "Sydney",
         "type": "scatter",
         "x": {
          "bdata": "3gcAAN8HAADgBwAA4QcAAOIHAADjBwAA5AcAAOUHAADmBwAA5wcAAOgHAAA=",
          "dtype": "i4"
         },
         "y": {
          "bdata": "ICcsKzE4JBcNIik=",
          "dtype": "i1"
         }
        }
       ],
       "layout": {
        "legend": {
         "title": {
          "text": "City"
         }
        },
        "template": {
         "data": {
          "bar": [
           {
            "error_x": {
             "color": "#2a3f5f"
            },
            "error_y": {
             "color": "#2a3f5f"
            },
            "marker": {
             "line": {
              "color": "white",
              "width": 0.5
             },
             "pattern": {
              "fillmode": "overlay",
              "size": 10,
              "solidity": 0.2
             }
            },
            "type": "bar"
           }
          ],
          "barpolar": [
           {
            "marker": {
             "line": {
              "color": "white",
              "width": 0.5
             },
             "pattern": {
              "fillmode": "overlay",
              "size": 10,
              "solidity": 0.2
             }
            },
            "type": "barpolar"
           }
          ],
          "carpet": [
           {
            "aaxis": {
             "endlinecolor": "#2a3f5f",
             "gridcolor": "#C8D4E3",
             "linecolor": "#C8D4E3",
             "minorgridcolor": "#C8D4E3",
             "startlinecolor": "#2a3f5f"
            },
            "baxis": {
             "endlinecolor": "#2a3f5f",
             "gridcolor": "#C8D4E3",
             "linecolor": "#C8D4E3",
             "minorgridcolor": "#C8D4E3",
             "startlinecolor": "#2a3f5f"
            },
            "type": "carpet"
           }
          ],
          "choropleth": [
           {
            "colorbar": {
             "outlinewidth": 0,
             "ticks": ""
            },
            "type": "choropleth"
           }
          ],
          "contour": [
           {
            "colorbar": {
             "outlinewidth": 0,
             "ticks": ""
            },
            "colorscale": [
             [
              0,
              "#0d0887"
             ],
             [
              0.1111111111111111,
              "#46039f"
             ],
             [
              0.2222222222222222,
              "#7201a8"
             ],
             [
              0.3333333333333333,
              "#9c179e"
             ],
             [
              0.4444444444444444,
              "#bd3786"
             ],
             [
              0.5555555555555556,
              "#d8576b"
             ],
             [
              0.6666666666666666,
              "#ed7953"
             ],
             [
              0.7777777777777778,
              "#fb9f3a"
             ],
             [
              0.8888888888888888,
              "#fdca26"
             ],
             [
              1,
              "#f0f921"
             ]
            ],
            "type": "contour"
           }
          ],
          "contourcarpet": [
           {
            "colorbar": {
             "outlinewidth": 0,
             "ticks": ""
            },
            "type": "contourcarpet"
           }
          ],
          "heatmap": [
           {
            "colorbar": {
             "outlinewidth": 0,
             "ticks": ""
            },
            "colorscale": [
             [
              0,
              "#0d0887"
             ],
             [
              0.1111111111111111,
              "#46039f"
             ],
             [
              0.2222222222222222,
              "#7201a8"
             ],
             [
              0.3333333333333333,
              "#9c179e"
             ],
             [
              0.4444444444444444,
              "#bd3786"
             ],
             [
              0.5555555555555556,
              "#d8576b"
             ],
             [
              0.6666666666666666,
              "#ed7953"
             ],
             [
              0.7777777777777778,
              "#fb9f3a"
             ],
             [
              0.8888888888888888,
              "#fdca26"
             ],
             [
              1,
              "#f0f921"
             ]
            ],
            "type": "heatmap"
           }
          ],
          "histogram": [
           {
            "marker": {
             "pattern": {
              "fillmode": "overlay",
              "size": 10,
              "solidity": 0.2
             }
            },
            "type": "histogram"
           }
          ],
          "histogram2d": [
           {
            "colorbar": {
             "outlinewidth": 0,
             "ticks": ""
            },
            "colorscale": [
             [
              0,
              "#0d0887"
             ],
             [
              0.1111111111111111,
              "#46039f"
             ],
             [
              0.2222222222222222,
              "#7201a8"
             ],
             [
              0.3333333333333333,
              "#9c179e"
             ],
             [
              0.4444444444444444,
              "#bd3786"
             ],
             [
              0.5555555555555556,
              "#d8576b"
             ],
             [
              0.6666666666666666,
              "#ed7953"
             ],
             [
              0.7777777777777778,
              "#fb9f3a"
             ],
             [
              0.8888888888888888,
              "#fdca26"
             ],
             [
              1,
              "#f0f921"
             ]
            ],
            "type": "histogram2d"
           }
          ],
          "histogram2dcontour": [
           {
            "colorbar": {
             "outlinewidth": 0,
             "ticks": ""
            },
            "colorscale": [
             [
              0,
              "#0d0887"
             ],
             [
              0.1111111111111111,
              "#46039f"
             ],
             [
              0.2222222222222222,
              "#7201a8"
             ],
             [
              0.3333333333333333,
              "#9c179e"
             ],
             [
              0.4444444444444444,
              "#bd3786"
             ],
             [
              0.5555555555555556,
              "#d8576b"
             ],
             [
              0.6666666666666666,
              "#ed7953"
             ],
             [
              0.7777777777777778,
              "#fb9f3a"
             ],
             [
              0.8888888888888888,
              "#fdca26"
             ],
             [
              1,
              "#f0f921"
             ]
            ],
            "type": "histogram2dcontour"
           }
          ],
          "mesh3d": [
           {
            "colorbar": {
             "outlinewidth": 0,
             "ticks": ""
            },
            "type": "mesh3d"
           }
          ],
          "parcoords": [
           {
            "line": {
             "colorbar": {
              "outlinewidth": 0,
              "ticks": ""
             }
            },
            "type": "parcoords"
           }
          ],
          "pie": [
           {
            "automargin": true,
            "type": "pie"
           }
          ],
          "scatter": [
           {
            "fillpattern": {
             "fillmode": "overlay",
             "size": 10,
             "solidity": 0.2
            },
            "type": "scatter"
           }
          ],
          "scatter3d": [
           {
            "line": {
             "colorbar": {
              "outlinewidth": 0,
              "ticks": ""
             }
            },
            "marker": {
             "colorbar": {
              "outlinewidth": 0,
              "ticks": ""
             }
            },
            "type": "scatter3d"
           }
          ],
          "scattercarpet": [
           {
            "marker": {
             "colorbar": {
              "outlinewidth": 0,
              "ticks": ""
             }
            },
            "type": "scattercarpet"
           }
          ],
          "scattergeo": [
           {
            "marker": {
             "colorbar": {
              "outlinewidth": 0,
              "ticks": ""
             }
            },
            "type": "scattergeo"
           }
          ],
          "scattergl": [
           {
            "marker": {
             "colorbar": {
              "outlinewidth": 0,
              "ticks": ""
             }
            },
            "type": "scattergl"
           }
          ],
          "scattermap": [
           {
            "marker": {
             "colorbar": {
              "outlinewidth": 0,
              "ticks": ""
             }
            },
            "type": "scattermap"
           }
          ],
          "scattermapbox": [
           {
            "marker": {
             "colorbar": {
              "outlinewidth": 0,
              "ticks": ""
             }
            },
            "type": "scattermapbox"
           }
          ],
          "scatterpolar": [
           {
            "marker": {
             "colorbar": {
              "outlinewidth": 0,
              "ticks": ""
             }
            },
            "type": "scatterpolar"
           }
          ],
          "scatterpolargl": [
           {
            "marker": {
             "colorbar": {
              "outlinewidth": 0,
              "ticks": ""
             }
            },
            "type": "scatterpolargl"
           }
          ],
          "scatterternary": [
           {
            "marker": {
             "colorbar": {
              "outlinewidth": 0,
              "ticks": ""
             }
            },
            "type": "scatterternary"
           }
          ],
          "surface": [
           {
            "colorbar": {
             "outlinewidth": 0,
             "ticks": ""
            },
            "colorscale": [
             [
              0,
              "#0d0887"
             ],
             [
              0.1111111111111111,
              "#46039f"
             ],
             [
              0.2222222222222222,
              "#7201a8"
             ],
             [
              0.3333333333333333,
              "#9c179e"
             ],
             [
              0.4444444444444444,
              "#bd3786"
             ],
             [
              0.5555555555555556,
              "#d8576b"
             ],
             [
              0.6666666666666666,
              "#ed7953"
             ],
             [
              0.7777777777777778,
              "#fb9f3a"
             ],
             [
              0.8888888888888888,
              "#fdca26"
             ],
             [
              1,
              "#f0f921"
             ]
            ],
            "type": "surface"
           }
          ],
          "table": [
           {
            "cells": {
             "fill": {
              "color": "#EBF0F8"
             },
             "line": {
              "color": "white"
             }
            },
            "header": {
             "fill": {
              "color": "#C8D4E3"
             },
             "line": {
              "color": "white"
             }
            },
            "type": "table"
           }
          ]
         },
         "layout": {
          "annotationdefaults": {
           "arrowcolor": "#2a3f5f",
           "arrowhead": 0,
           "arrowwidth": 1
          },
          "autotypenumbers": "strict",
          "coloraxis": {
           "colorbar": {
            "outlinewidth": 0,
            "ticks": ""
           }
          },
          "colorscale": {
           "diverging": [
            [
             0,
             "#8e0152"
            ],
            [
             0.1,
             "#c51b7d"
            ],
            [
             0.2,
             "#de77ae"
            ],
            [
             0.3,
             "#f1b6da"
            ],
            [
             0.4,
             "#fde0ef"
            ],
            [
             0.5,
             "#f7f7f7"
            ],
            [
             0.6,
             "#e6f5d0"
            ],
            [
             0.7,
             "#b8e186"
            ],
            [
             0.8,
             "#7fbc41"
            ],
            [
             0.9,
             "#4d9221"
            ],
            [
             1,
             "#276419"
            ]
           ],
           "sequential": [
            [
             0,
             "#0d0887"
            ],
            [
             0.1111111111111111,
             "#46039f"
            ],
            [
             0.2222222222222222,
             "#7201a8"
            ],
            [
             0.3333333333333333,
             "#9c179e"
            ],
            [
             0.4444444444444444,
             "#bd3786"
            ],
            [
             0.5555555555555556,
             "#d8576b"
            ],
            [
             0.6666666666666666,
             "#ed7953"
            ],
            [
             0.7777777777777778,
             "#fb9f3a"
            ],
            [
             0.8888888888888888,
             "#fdca26"
            ],
            [
             1,
             "#f0f921"
            ]
           ],
           "sequentialminus": [
            [
             0,
             "#0d0887"
            ],
            [
             0.1111111111111111,
             "#46039f"
            ],
            [
             0.2222222222222222,
             "#7201a8"
            ],
            [
             0.3333333333333333,
             "#9c179e"
            ],
            [
             0.4444444444444444,
             "#bd3786"
            ],
            [
             0.5555555555555556,
             "#d8576b"
            ],
            [
             0.6666666666666666,
             "#ed7953"
            ],
            [
             0.7777777777777778,
             "#fb9f3a"
            ],
            [
             0.8888888888888888,
             "#fdca26"
            ],
            [
             1,
             "#f0f921"
            ]
           ]
          },
          "colorway": [
           "#636efa",
           "#EF553B",
           "#00cc96",
           "#ab63fa",
           "#FFA15A",
           "#19d3f3",
           "#FF6692",
           "#B6E880",
           "#FF97FF",
           "#FECB52"
          ],
          "font": {
           "color": "#2a3f5f"
          },
          "geo": {
           "bgcolor": "white",
           "lakecolor": "white",
           "landcolor": "white",
           "showlakes": true,
           "showland": true,
           "subunitcolor": "#C8D4E3"
          },
          "hoverlabel": {
           "align": "left"
          },
          "hovermode": "closest",
          "mapbox": {
           "style": "light"
          },
          "paper_bgcolor": "white",
          "plot_bgcolor": "white",
          "polar": {
           "angularaxis": {
            "gridcolor": "#EBF0F8",
            "linecolor": "#EBF0F8",
            "ticks": ""
           },
           "bgcolor": "white",
           "radialaxis": {
            "gridcolor": "#EBF0F8",
            "linecolor": "#EBF0F8",
            "ticks": ""
           }
          },
          "scene": {
           "xaxis": {
            "backgroundcolor": "white",
            "gridcolor": "#DFE8F3",
            "gridwidth": 2,
            "linecolor": "#EBF0F8",
            "showbackground": true,
            "ticks": "",
            "zerolinecolor": "#EBF0F8"
           },
           "yaxis": {
            "backgroundcolor": "white",
            "gridcolor": "#DFE8F3",
            "gridwidth": 2,
            "linecolor": "#EBF0F8",
            "showbackground": true,
            "ticks": "",
            "zerolinecolor": "#EBF0F8"
           },
           "zaxis": {
            "backgroundcolor": "white",
            "gridcolor": "#DFE8F3",
            "gridwidth": 2,
            "linecolor": "#EBF0F8",
            "showbackground": true,
            "ticks": "",
            "zerolinecolor": "#EBF0F8"
           }
          },
          "shapedefaults": {
           "line": {
            "color": "#2a3f5f"
           }
          },
          "ternary": {
           "aaxis": {
            "gridcolor": "#DFE8F3",
            "linecolor": "#A2B1C6",
            "ticks": ""
           },
           "baxis": {
            "gridcolor": "#DFE8F3",
            "linecolor": "#A2B1C6",
            "ticks": ""
           },
           "bgcolor": "white",
           "caxis": {
            "gridcolor": "#DFE8F3",
            "linecolor": "#A2B1C6",
            "ticks": ""
           }
          },
          "title": {
           "x": 0.05
          },
          "xaxis": {
           "automargin": true,
           "gridcolor": "#EBF0F8",
           "linecolor": "#EBF0F8",
           "ticks": "",
           "title": {
            "standoff": 15
           },
           "zerolinecolor": "#EBF0F8",
           "zerolinewidth": 2
          },
          "yaxis": {
           "automargin": true,
           "gridcolor": "#EBF0F8",
           "linecolor": "#EBF0F8",
           "ticks": "",
           "title": {
            "standoff": 15
           },
           "zerolinecolor": "#EBF0F8",
           "zerolinewidth": 2
          }
         }
        },
        "title": {
         "text": "Hot Days (>30°C) Per Year"
        },
        "xaxis": {
         "title": {
          "text": "Year"
         }
        },
        "yaxis": {
         "title": {
          "text": "Number of Hot Days"
         }
        }
       }
      }
     },
     "metadata": {},
     "output_type": "display_data"
    }
   ],
   "source": [
    "fig = go.Figure()\n",
    "\n",
    "# Add traces for each city\n",
    "for city in hot_days['city'].unique():\n",
    "    city_data = hot_days_per_year[hot_days_per_year['city'] == city]\n",
    "    fig.add_trace(go.Scatter(\n",
    "        x=city_data['year'],\n",
    "        y=city_data['hot_day_count'],\n",
    "        mode='lines+markers',\n",
    "        name=city\n",
    "    ))\n",
    "\n",
    "# Update layout\n",
    "fig.update_layout(\n",
    "    title='Hot Days (>30°C) Per Year',\n",
    "    xaxis_title='Year',\n",
    "    yaxis_title='Number of Hot Days',\n",
    "    legend_title='City',\n",
    "    template='plotly_white'\n",
    ")\n",
    "\n",
    "fig.show()"
   ]
  },
  {
   "cell_type": "code",
   "execution_count": null,
   "metadata": {},
   "outputs": [],
   "source": []
  }
 ],
 "metadata": {
  "kernelspec": {
   "display_name": "base",
   "language": "python",
   "name": "python3"
  },
  "language_info": {
   "codemirror_mode": {
    "name": "ipython",
    "version": 3
   },
   "file_extension": ".py",
   "mimetype": "text/x-python",
   "name": "python",
   "nbconvert_exporter": "python",
   "pygments_lexer": "ipython3",
   "version": "3.11.11"
  }
 },
 "nbformat": 4,
 "nbformat_minor": 2
}
